{
 "cells": [
  {
   "cell_type": "code",
   "execution_count": 1,
   "metadata": {},
   "outputs": [
    {
     "data": {
      "text/plain": [
       "0"
      ]
     },
     "execution_count": 1,
     "metadata": {},
     "output_type": "execute_result"
    }
   ],
   "source": [
    "# utilities\n",
    "import pandas as pd\n",
    "import numpy as np\n",
    "from datetime import date\n",
    "\n",
    "# figure plotting\n",
    "from bokeh.io import show, curdoc\n",
    "from bokeh.layouts import column, gridplot\n",
    "from bokeh.models import ColumnDataSource, RangeTool, DatetimeTickFormatter,  LabelSet\n",
    "from bokeh.plotting import figure, show\n",
    "\n",
    "# widgets\n",
    "from bokeh.layouts import column, widgetbox\n",
    "from bokeh.models.widgets import Button, Select, DateRangeSlider\n",
    "\n",
    "# execute backtest script\n",
    "import os\n",
    "import sys\n",
    "import glob\n",
    "\n",
    "sys.path.append(\"../jupyter-py/\")\n",
    "from decode_logs import *\n",
    "sys.path.pop()\n",
    "\n",
    "output_dir = \"../jupyter-py/output/\" + get_current_time()\n",
    "strategy_type = \"kalman\"\n",
    "execution_command = \"python ../jupyter-py/backtest_pair.py --strategy_type {} --output_dir {}\".format(strategy_type, output_dir)\n",
    "\n",
    "os.system(\"rm -rf ../jupyter-py/output\")\n",
    "os.system(execution_command)"
   ]
  },
  {
   "cell_type": "code",
   "execution_count": 2,
   "metadata": {},
   "outputs": [],
   "source": [
    "stock_list = glob.glob(\"../ib-data/nyse-daily-tech/*.csv\")\n",
    "for i, file in enumerate(stock_list):\n",
    "    stock_list[i] = os.path.basename(file)[:-4]"
   ]
  },
  {
   "cell_type": "code",
   "execution_count": 3,
   "metadata": {},
   "outputs": [],
   "source": [
    "data, action_df = Decoder.get_strategy_status(output_dir)\n",
    "metrics = Decoder.get_strategy_performance(output_dir)"
   ]
  },
  {
   "cell_type": "code",
   "execution_count": 4,
   "metadata": {},
   "outputs": [
    {
     "data": {
      "text/plain": [
       "{'avg_holding_period': 4.666666666666667,\n",
       " 'endcash': 1177419.7167409933,\n",
       " 'n_trades': 3,\n",
       " 'pair': 'AAN-AER',\n",
       " 'profit': 0.17741971674099333,\n",
       " 'returnstd': 7361.272303626742,\n",
       " 'sharperatio': None,\n",
       " 'startcash': 1000000}"
      ]
     },
     "execution_count": 4,
     "metadata": {},
     "output_type": "execute_result"
    }
   ],
   "source": [
    "metrics"
   ]
  },
  {
   "cell_type": "code",
   "execution_count": 129,
   "metadata": {},
   "outputs": [],
   "source": [
    "# CODE SECTION: normalized price, figure name = normp_p\n",
    "\n",
    "# ========== themes & appearance ============= #\n",
    "\n",
    "STK_1_LINE_COLOR = \"#053061\"\n",
    "STK_2_LINE_COLOR = \"#67001f\"\n",
    "STK_1_LINE_WIDTH = 1.5\n",
    "STK_2_LINE_WIDTH = 1.5\n",
    "WINDOW_SIZE = 10\n",
    "TITLE = \"PRICE OF X vs Y\" \n",
    "HEIGHT = 250\n",
    "SLIDER_HEIGHT = 150\n",
    "WIDTH = 600\n",
    "\n",
    "# ========== data ============= #\n",
    "# use sample data from ib-data folder\n",
    "dates = np.array(data['date'], dtype=np.datetime64)\n",
    "STK_1_source = ColumnDataSource(data=dict(date=dates, close=data['data0']))\n",
    "STK_2_source = ColumnDataSource(data=dict(date=dates, close=data['data1']))\n",
    "\n",
    "# ========== plot data points ============= #\n",
    "# x_range is the zoom in slider setup. Pls ensure both STK_1 and STK_2 have same length, else some issue\n",
    "normp = figure(plot_height=HEIGHT, plot_width=WIDTH, x_range=(dates[-WINDOW_SIZE], dates[-1]), title=TITLE, toolbar_location=None)\n",
    "\n",
    "normp.line('date', 'close', source=STK_1_source, line_color = STK_1_LINE_COLOR, line_width = STK_1_LINE_WIDTH)\n",
    "normp.line('date', 'close', source=STK_2_source, line_color = STK_2_LINE_COLOR, line_width = STK_2_LINE_WIDTH)\n",
    "normp.yaxis.axis_label = 'Price'\n",
    "\n",
    "normp.xaxis[0].formatter = DatetimeTickFormatter()\n",
    "\n",
    "\n",
    "# ========== RANGE SELECT TOOL ============= #\n",
    "\n",
    "select = figure(title=\"Drag the middle and edges of the selection box to change the range above\",\n",
    "                plot_height=SLIDER_HEIGHT, plot_width=WIDTH, y_range=normp.y_range,\n",
    "                x_axis_type=\"datetime\", y_axis_type=None,\n",
    "                tools=\"\", toolbar_location=None, background_fill_color=\"#efefef\")\n",
    "\n",
    "range_tool = RangeTool(x_range=normp.x_range)\n",
    "range_tool.overlay.fill_color = \"navy\"\n",
    "range_tool.overlay.fill_alpha = 0.2\n",
    "\n",
    "select.line('date', 'close', source=STK_1_source, line_color = STK_1_LINE_COLOR, line_width = STK_1_LINE_WIDTH)\n",
    "select.line('date', 'close', source=STK_2_source, line_color = STK_2_LINE_COLOR, line_width = STK_2_LINE_WIDTH)\n",
    "select.ygrid.grid_line_color = None\n",
    "select.add_tools(range_tool)\n",
    "select.toolbar.active_multi = range_tool\n",
    "\n",
    "normp_p = column(normp, select)\n"
   ]
  },
  {
   "cell_type": "code",
   "execution_count": 130,
   "metadata": {},
   "outputs": [
    {
     "data": {
      "text/html": [
       "<div style=\"display: table;\"><div style=\"display: table-row;\"><div style=\"display: table-cell;\"><b title=\"bokeh.models.ranges.Range1d\">Range1d</b>(</div><div style=\"display: table-cell;\">id&nbsp;=&nbsp;'8546', <span id=\"8626\" style=\"cursor: pointer;\">&hellip;)</span></div></div><div class=\"8625\" style=\"display: none;\"><div style=\"display: table-cell;\"></div><div style=\"display: table-cell;\">bounds&nbsp;=&nbsp;None,</div></div><div class=\"8625\" style=\"display: none;\"><div style=\"display: table-cell;\"></div><div style=\"display: table-cell;\">callback&nbsp;=&nbsp;None,</div></div><div class=\"8625\" style=\"display: none;\"><div style=\"display: table-cell;\"></div><div style=\"display: table-cell;\">end&nbsp;=&nbsp;numpy.datetime64('2018-12-31T00:00:00.000000000'),</div></div><div class=\"8625\" style=\"display: none;\"><div style=\"display: table-cell;\"></div><div style=\"display: table-cell;\">js_event_callbacks&nbsp;=&nbsp;{},</div></div><div class=\"8625\" style=\"display: none;\"><div style=\"display: table-cell;\"></div><div style=\"display: table-cell;\">js_property_callbacks&nbsp;=&nbsp;{},</div></div><div class=\"8625\" style=\"display: none;\"><div style=\"display: table-cell;\"></div><div style=\"display: table-cell;\">max_interval&nbsp;=&nbsp;None,</div></div><div class=\"8625\" style=\"display: none;\"><div style=\"display: table-cell;\"></div><div style=\"display: table-cell;\">min_interval&nbsp;=&nbsp;None,</div></div><div class=\"8625\" style=\"display: none;\"><div style=\"display: table-cell;\"></div><div style=\"display: table-cell;\">name&nbsp;=&nbsp;None,</div></div><div class=\"8625\" style=\"display: none;\"><div style=\"display: table-cell;\"></div><div style=\"display: table-cell;\">reset_end&nbsp;=&nbsp;None,</div></div><div class=\"8625\" style=\"display: none;\"><div style=\"display: table-cell;\"></div><div style=\"display: table-cell;\">reset_start&nbsp;=&nbsp;None,</div></div><div class=\"8625\" style=\"display: none;\"><div style=\"display: table-cell;\"></div><div style=\"display: table-cell;\">start&nbsp;=&nbsp;numpy.datetime64('2018-12-17T00:00:00.000000000'),</div></div><div class=\"8625\" style=\"display: none;\"><div style=\"display: table-cell;\"></div><div style=\"display: table-cell;\">subscribed_events&nbsp;=&nbsp;[],</div></div><div class=\"8625\" style=\"display: none;\"><div style=\"display: table-cell;\"></div><div style=\"display: table-cell;\">tags&nbsp;=&nbsp;[])</div></div></div>\n",
       "<script>\n",
       "(function() {\n",
       "  var expanded = false;\n",
       "  var ellipsis = document.getElementById(\"8626\");\n",
       "  ellipsis.addEventListener(\"click\", function() {\n",
       "    var rows = document.getElementsByClassName(\"8625\");\n",
       "    for (var i = 0; i < rows.length; i++) {\n",
       "      var el = rows[i];\n",
       "      el.style.display = expanded ? \"none\" : \"table-row\";\n",
       "    }\n",
       "    ellipsis.innerHTML = expanded ? \"&hellip;)\" : \"&lsaquo;&lsaquo;&lsaquo;\";\n",
       "    expanded = !expanded;\n",
       "  });\n",
       "})();\n",
       "</script>\n"
      ],
      "text/plain": [
       "Range1d(id='8546', ...)"
      ]
     },
     "execution_count": 130,
     "metadata": {},
     "output_type": "execute_result"
    }
   ],
   "source": [
    "normp.x_range"
   ]
  },
  {
   "cell_type": "code",
   "execution_count": 131,
   "metadata": {},
   "outputs": [],
   "source": [
    "# CODE SECTION: spread plot, figure name = spread_p\n",
    "import bokeh.models as bkm\n",
    "# ========== themes & appearance ============= #\n",
    "\n",
    "palette = [\"#053061\", \"#67001f\"]\n",
    "\n",
    "LINE_WIDTH = 1.5\n",
    "LINE_COLOR = palette[-1]\n",
    "TITLE = \"RULE BASED SPREAD TRADING\"\n",
    "\n",
    "# ========== data ============= #\n",
    "\n",
    "# TODO: get action_source array\n",
    "# TODO: map actions to colours so can map to palette[i]\n",
    "# dates = np.array(data['date'], dtype=np.datetime64)\n",
    "dates = np.array(data['date'], dtype=np.datetime64)\n",
    "spread_source = ColumnDataSource(data=dict(date=dates, spread=data['spread']))\n",
    "action_source = ColumnDataSource(action_df)\n",
    "# action_source['colors'] = [palette[i] x for x in action_source['actions']]\n",
    "\n",
    "\n",
    "# ========== figure INTERACTION properties ============= #\n",
    "\n",
    "TOOLS = \"hover,pan,wheel_zoom,box_zoom,reset,save\"\n",
    "\n",
    "spread_p = figure(tools=TOOLS, toolbar_location=\"above\", plot_height=HEIGHT, plot_width=WIDTH, title=TITLE)\n",
    "# spread_p.background_fill_color = \"#dddddd\"\n",
    "spread_p.xaxis.axis_label = \"Backtest Period\"\n",
    "spread_p.yaxis.axis_label = \"Spread\"\n",
    "# spread_p.grid.grid_line_color = \"white\"\n",
    "\n",
    "\n",
    "# ========== plot data points ============= #\n",
    "\n",
    "# plot the POINT coords of the ACTIONS\n",
    "circles = spread_p.circle(\"date\", \"spread\", size=12, source=action_source, fill_alpha=0.8)\n",
    "\n",
    "circles_hover = bkm.HoverTool(renderers=[circles], tooltips = [\n",
    "    (\"Action\", \"@latest_trade_action\"),                    \n",
    "    (\"Stock Bought\", \"@buy_stk\"),\n",
    "    (\"Bought Amount\", \"@buy_amt\"),\n",
    "    (\"Stock Sold\", \"@sell_stk\"),\n",
    "    (\"Sold Amount\", \"@sell_amt\")\n",
    "    ])\n",
    "\n",
    "spread_p.add_tools(circles_hover)\n",
    "\n",
    "# plot the spread over time\n",
    "spread_p.line('date', 'spread', source=spread_source, line_color = LINE_COLOR, line_width = LINE_WIDTH)\n",
    "spread_p.xaxis[0].formatter = DatetimeTickFormatter()\n",
    "\n",
    "# ========== plot label ============= #\n",
    "# this part you just need to pass BUY or SELL actions\n",
    "# recommend you use one colour for each action\n",
    "# x = <col_name_x-axis>, y = <col_name_y-axis> // both from the source dataframe\n",
    "\n",
    "# labels = LabelSet(x=\"date\", y=\"spread\", text=\"Prediction\", y_offset=8,\n",
    "#                   text_font_size=\"8pt\", text_color=\"colors\",\n",
    "#                   source=action_source, text_align='center')\n",
    "\n",
    "# spread_p.add_layout(labels)\n",
    "\n",
    "# ========== RANGE SELECT TOOL ============= #\n",
    "# not included for now because sample data x-axis is not datetime. PLS FIX\n",
    "\n",
    "# select = figure(title=\"Drag the middle and edges of the selection box to change the range above\",\n",
    "#                 plot_height=SLIDER_HEIGHT, \n",
    "#                 plot_width=WIDTH, \n",
    "#                 y_range=spread_p.y_range, \n",
    "#                 x_axis_type=\"datetime\", \n",
    "#                 y_axis_type=None,\n",
    "#                 background_fill_color=\"#efefef\")\n",
    "\n",
    "# range_tool = RangeTool(x_range=spread_p.x_range)\n",
    "# range_tool.overlay.fill_color = \"navy\"\n",
    "# range_tool.overlay.fill_alpha = 0.2\n",
    "\n",
    "# select.line('date', 'spread', source=spread_source, line_color = LINE_COLOR, line_width = LINE_WIDTH)\n",
    "# select.ygrid.grid_line_color = None\n",
    "# select.add_tools(range_tool)\n",
    "# select.toolbar.active_multi = range_tool\n",
    "\n",
    "# show(column(spread_p,select))"
   ]
  },
  {
   "cell_type": "code",
   "execution_count": 132,
   "metadata": {},
   "outputs": [],
   "source": [
    "# CODE SECTION: portfolio value plot, figure name = pv_p\n",
    "\n",
    "# ========== themes & appearance ============= #\n",
    "\n",
    "LINE_COLOR = \"#053061\"\n",
    "LINE_WIDTH = 1.5\n",
    "TITLE = \"PORTFOLIO VALUE OVER TIME\" \n",
    "\n",
    "# ========== data ============= #\n",
    "\n",
    "pv_source = ColumnDataSource(data=dict(date=dates, portfolio_value=data['portfolio_value']))\n",
    "\n",
    "# ========== plot data points ============= #\n",
    "# x_range is the zoom in slider setup. Pls ensure both STK_1 and STK_2 have same length, else some issue\n",
    "pv_p = figure(plot_height=250, plot_width=600, title=TITLE, toolbar_location=None)\n",
    "\n",
    "pv_p.line('date', 'portfolio_value', source=pv_source, line_color = LINE_COLOR, line_width = LINE_WIDTH)\n",
    "pv_p.yaxis.axis_label = 'Portfolio Value'\n",
    "\n",
    "pv_p.xaxis[0].formatter = DatetimeTickFormatter()"
   ]
  },
  {
   "cell_type": "code",
   "execution_count": 133,
   "metadata": {},
   "outputs": [],
   "source": [
    "# CODE SECTION: setup widgets, widgetbox name = controls_wb\n",
    "\n",
    "WIDGET_WIDTH = 250\n",
    "\n",
    "# ========== Select Stocks ============= #\n",
    "select_stk_1 = Select(width = WIDGET_WIDTH, title='Select Stock 1:', value = stock_list[0], options=stock_list)\n",
    "select_stk_2 = Select(width = WIDGET_WIDTH, title='Select Stock 2:', value = stock_list[0], options=stock_list)\n",
    "\n",
    "# ========== Strategy Type ============= #\n",
    "strategy_list = ['kalman', 'distance', 'cointegration']\n",
    "select_strategy = Select(width = WIDGET_WIDTH, title='Select Strategy:', value = strategy_list[0], options=strategy_list)\n",
    "\n",
    "# ========== set start/end date ============= #\n",
    "# date time variables\n",
    "MAX_START = date(2014, 1, 1)\n",
    "MAX_END = date(2018, 12, 30)\n",
    "DEFAULT_START =date(2016, 1, 1)\n",
    "DEFAULT_END = date(2018, 1, 30)\n",
    "STEP = 1\n",
    "\n",
    "backtest_dates = DateRangeSlider(width = WIDGET_WIDTH, start=MAX_START, end=MAX_END, value=(DEFAULT_START, DEFAULT_END), step=STEP, title=\"Backtest Date Range:\")\n",
    "\n",
    "start_bt = Button(label=\"Backtest\", button_type=\"success\", width = WIDGET_WIDTH)\n",
    "\n",
    "# controls = column(select_stk_1, select_stk_2, select_strategy, backtest_dates, start_bt)\n",
    "controls_wb = widgetbox(select_stk_1, select_stk_2, select_strategy, backtest_dates, start_bt, width=600)\n"
   ]
  },
  {
   "cell_type": "code",
   "execution_count": 135,
   "metadata": {},
   "outputs": [],
   "source": [
    "# CODE SECTION: Final layout\n",
    "grid = gridplot([[controls_wb, normp_p], [pv_p, spread_p]], sizing_mode='fixed')"
   ]
  },
  {
   "cell_type": "code",
   "execution_count": 136,
   "metadata": {},
   "outputs": [],
   "source": [
    "# CODE SECTION: return curdoc\n",
    "\n",
    "curdoc().add_root(grid)\n",
    "# curdoc().title = \"DEMO\""
   ]
  },
  {
   "cell_type": "code",
   "execution_count": 137,
   "metadata": {},
   "outputs": [],
   "source": [
    "show(grid)"
   ]
  },
  {
   "cell_type": "code",
   "execution_count": 118,
   "metadata": {},
   "outputs": [],
   "source": []
  },
  {
   "cell_type": "code",
   "execution_count": 134,
   "metadata": {},
   "outputs": [
    {
     "ename": "IndentationError",
     "evalue": "expected an indented block (<ipython-input-134-c4296ad340a0>, line 32)",
     "output_type": "error",
     "traceback": [
      "\u001b[0;36m  File \u001b[0;32m\"<ipython-input-134-c4296ad340a0>\"\u001b[0;36m, line \u001b[0;32m32\u001b[0m\n\u001b[0;31m    start_bt.on_click(run_backtest)\u001b[0m\n\u001b[0m           ^\u001b[0m\n\u001b[0;31mIndentationError\u001b[0m\u001b[0;31m:\u001b[0m expected an indented block\n"
     ]
    }
   ],
   "source": [
    "# CODE SECTION: setup on_update functions\n",
    "\n",
    "# this stores the set of params for backtesting\n",
    "#  params[0] = stk_1, params[1] = stk_2, params[2] = strategy_type, \n",
    "# params[3] = start_date, params[4] = end_date \n",
    "params = [0, 0, 0, 0, 0] \n",
    "\n",
    "# ========== before backtest ============= #\n",
    "def update_stk_1(attrname, old, new):\n",
    "    params[0] = select_stk_1.value\n",
    "    \n",
    "def update_stk_2(attrname, old, new):\n",
    "    params[1] = select_stk_2.value\n",
    "    \n",
    "def update_strategy(attrname, old, new):\n",
    "    params[2] = select_strategy.value\n",
    "\n",
    "def update_dates(attrname, old, new):\n",
    "    params[3] = backtest_dates.range[0]\n",
    "    params[4] = backtest_dates.range[1]\n",
    "\n",
    "select_stk_1.on_change('value', update_stk_1)\n",
    "select_stk_2.on_change('value', update_stk_2)\n",
    "select_strategy.on_change('value', update_strategy)\n",
    "backtest_dates.on_change('range', update_dates)\n",
    "\n",
    "# ========== backtest ============= #\n",
    "\n",
    "def run_backtest(new):\n",
    "    # do something\n",
    "\n",
    "start_bt.on_click(run_backtest)"
   ]
  },
  {
   "cell_type": "code",
   "execution_count": 11,
   "metadata": {},
   "outputs": [
    {
     "data": {
      "text/plain": [
       "'/Users/brendantham/Desktop/FYP/statistical-arbitrage-private-18-19/demo-layout'"
      ]
     },
     "execution_count": 11,
     "metadata": {},
     "output_type": "execute_result"
    }
   ],
   "source": [
    "os.getcwd()"
   ]
  },
  {
   "cell_type": "code",
   "execution_count": 1,
   "metadata": {},
   "outputs": [],
   "source": [
    "import sys"
   ]
  },
  {
   "cell_type": "code",
   "execution_count": 2,
   "metadata": {},
   "outputs": [],
   "source": [
    "sys.path.insert(0, '../')"
   ]
  },
  {
   "cell_type": "code",
   "execution_count": 5,
   "metadata": {},
   "outputs": [],
   "source": [
    "from jupyter_py.decode_logs import *"
   ]
  },
  {
   "cell_type": "code",
   "execution_count": 6,
   "metadata": {},
   "outputs": [],
   "source": [
    "import datetime"
   ]
  },
  {
   "cell_type": "code",
   "execution_count": null,
   "metadata": {},
   "outputs": [],
   "source": [
    "datetime.datetime.fromtimestamp"
   ]
  }
 ],
 "metadata": {
  "kernelspec": {
   "display_name": "Python (traders_nlp)",
   "language": "python",
   "name": "traders_nlp"
  },
  "language_info": {
   "codemirror_mode": {
    "name": "ipython",
    "version": 3
   },
   "file_extension": ".py",
   "mimetype": "text/x-python",
   "name": "python",
   "nbconvert_exporter": "python",
   "pygments_lexer": "ipython3",
   "version": "3.6.3"
  },
  "toc": {
   "base_numbering": 1,
   "nav_menu": {},
   "number_sections": true,
   "sideBar": true,
   "skip_h1_title": false,
   "title_cell": "Table of Contents",
   "title_sidebar": "Contents",
   "toc_cell": false,
   "toc_position": {},
   "toc_section_display": true,
   "toc_window_display": false
  },
  "varInspector": {
   "cols": {
    "lenName": 16,
    "lenType": 16,
    "lenVar": 40
   },
   "kernels_config": {
    "python": {
     "delete_cmd_postfix": "",
     "delete_cmd_prefix": "del ",
     "library": "var_list.py",
     "varRefreshCmd": "print(var_dic_list())"
    },
    "r": {
     "delete_cmd_postfix": ") ",
     "delete_cmd_prefix": "rm(",
     "library": "var_list.r",
     "varRefreshCmd": "cat(var_dic_list()) "
    }
   },
   "types_to_exclude": [
    "module",
    "function",
    "builtin_function_or_method",
    "instance",
    "_Feature"
   ],
   "window_display": false
  }
 },
 "nbformat": 4,
 "nbformat_minor": 2
}
