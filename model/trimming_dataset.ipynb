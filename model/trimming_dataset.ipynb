{
 "cells": [
  {
   "cell_type": "code",
   "execution_count": 1,
   "metadata": {},
   "outputs": [],
   "source": [
    "import pandas as pd\n",
    "import numpy as np\n",
    "import matplotlib.pyplot as plt\n",
    "import os\n",
    "from os.path import isfile, isdir, join, splitext\n",
    "import glob\n",
    "import shutil\n",
    "from collections import Counter, defaultdict\n",
    "import datetime\n",
    "from process_raw_prices import get_filename_without_ext\n",
    "\n",
    "%matplotlib inline\n",
    "plt.rcParams[\"patch.force_edgecolor\"] = True\n",
    "plt.rcParams[\"font.size\"] = 12\n",
    "\n",
    "# Some more magic so that the notebook will reload external python modules;\n",
    "# see http://stackoverflow.com/questions/1907993/autoreload-of-modules-in-ipython\n",
    "%load_ext autoreload\n",
    "%autoreload 2"
   ]
  },
  {
   "cell_type": "code",
   "execution_count": 2,
   "metadata": {},
   "outputs": [],
   "source": [
    "def my_read_csv(p):\n",
    "    df = pd.read_csv(p)\n",
    "    df['date'] = pd.to_datetime(df['date'], format='%Y-%m-%d')\n",
    "    return df\n",
    "\n",
    "\n",
    "def recreate_dir(folder):\n",
    "    shutil.rmtree(folder, ignore_errors=True)\n",
    "    os.makedirs(folder, exist_ok=True)"
   ]
  },
  {
   "cell_type": "code",
   "execution_count": 3,
   "metadata": {},
   "outputs": [],
   "source": [
    "# parameters for trimming data\n",
    "start_date = datetime.date(2015, 1, 1)\n",
    "end_date = datetime.date(2019, 1, 5)\n",
    "raw_folder = \"../../dataset/nyse-daily/\"\n",
    "trimmed_folder = \"../../dataset/nyse-daily-trimmed/\"\n",
    "result_folder = \"../../dataset/nyse-daily-trimmed-same-length/\"\n",
    "raw_files_path_pattern = raw_folder+\"*.csv\"\n",
    "trimmed_files_path_pattern = trimmed_folder+\"*.csv\""
   ]
  },
  {
   "cell_type": "code",
   "execution_count": 4,
   "metadata": {
    "scrolled": false
   },
   "outputs": [
    {
     "name": "stdout",
     "output_type": "stream",
     "text": [
      "There are 170 stock data.\n"
     ]
    },
    {
     "data": {
      "image/png": "[encoded data removed]",
      "text/plain": [
       "<Figure size 720x360 with 1 Axes>"
      ]
     },
     "metadata": {},
     "output_type": "display_data"
    }
   ],
   "source": [
    "# raw dataset files pattern\n",
    "nyse_csv_paths = sorted(glob.glob(raw_files_path_pattern))\n",
    "lengths = [len(pd.read_csv(p)) for p in nyse_csv_paths]\n",
    "print(\"There are {} stock data csv files.\".format(len(nyse_csv_paths)))\n",
    "n, bins, patches = plt.hist(lengths, 50)\n",
    "plt.xlabel('length')\n",
    "plt.ylabel('frequency')\n",
    "plt.title('Stock data length distribution')\n",
    "plt.gcf().set_size_inches(10, 5)\n",
    "# plt.show()"
   ]
  },
  {
   "cell_type": "code",
   "execution_count": 5,
   "metadata": {},
   "outputs": [],
   "source": [
    "# trim data and put them into a trimmed folder\n",
    "recreate_dir(trimmed_folder)\n",
    "\n",
    "for p in nyse_csv_paths:\n",
    "    filename = get_filename_without_ext(p)\n",
    "    df = my_read_csv(p)\n",
    "    df = df[(pd.Timestamp(start_date) <= df['date']) & (df['date'] < pd.Timestamp(end_date))]\n",
    "    df.to_csv(path_or_buf=join(trimmed_folder, filename + '.csv'), index=False)"
   ]
  },
  {
   "cell_type": "code",
   "execution_count": 6,
   "metadata": {},
   "outputs": [
    {
     "name": "stdout",
     "output_type": "stream",
     "text": [
      "There are 170 trimmed stock data.\n"
     ]
    },
    {
     "data": {
      "image/png": "[encoded data removed]",
      "text/plain": [
       "<Figure size 720x360 with 1 Axes>"
      ]
     },
     "metadata": {},
     "output_type": "display_data"
    }
   ],
   "source": [
    "nyse_trimmed_csv_paths = sorted(glob.glob(trimmed_files_path_pattern))\n",
    "\n",
    "lengths = [len(pd.read_csv(p)) for p in nyse_trimmed_csv_paths]\n",
    "print(\"There are {} trimmed stock data.\".format(len(nyse_trimmed_csv_paths)))\n",
    "n, bins, patches = plt.hist(lengths, 20)\n",
    "plt.xlabel('length')\n",
    "plt.ylabel('frequency')\n",
    "plt.title('Length of stock data starting from {} distribution'.format(str(start_date)))\n",
    "plt.gcf().set_size_inches(10, 5)\n",
    "# plt.show()\n",
    "\n",
    "max_length = max(lengths)\n",
    "max_length_data = []\n",
    "max_length_data_path = []\n",
    "for p in nyse_trimmed_csv_paths:\n",
    "    temp_df = pd.read_csv(p)\n",
    "    if len(temp_df) == max_length:\n",
    "        max_length_data.append(temp_df)\n",
    "        max_length_data_path.append(p)"
   ]
  },
  {
   "cell_type": "code",
   "execution_count": 7,
   "metadata": {},
   "outputs": [],
   "source": [
    "# find intersection of the max length group of stocks\n",
    "intersection = max_length_data[0]['date'].values\n",
    "for temp_df in max_length_data[1:]:\n",
    "    intersection, _, __ = np.intersect1d(\n",
    "        intersection,\n",
    "        temp_df['date'].values,\n",
    "        assume_unique=True, return_indices=True\n",
    "    )"
   ]
  },
  {
   "cell_type": "code",
   "execution_count": 8,
   "metadata": {},
   "outputs": [
    {
     "name": "stdout",
     "output_type": "stream",
     "text": [
      "All stock data starting from date 2015-01-01 with 1009 data points each have common trading date.\n",
      "The processed dataset was placed in: ../../dataset/nyse-daily-trimmed-same-length/\n",
      "There should be 116 csv files.\n"
     ]
    }
   ],
   "source": [
    "if len(intersection) == max_length:\n",
    "    print('All stock data starting from date {} with {} data points each have common trading date.'.format(\n",
    "        str(start_date), max_length\n",
    "    ))\n",
    "    \n",
    "    # save those stocks in a result folder\n",
    "    recreate_dir(result_folder)\n",
    "    \n",
    "    for p in max_length_data_path:\n",
    "        shutil.copy(p, result_folder)\n",
    "    print('The processed dataset was placed in:', result_folder)\n",
    "    print('There should be {} csv files.'.format(len(max_length_data_path)))\n",
    "else:\n",
    "    print('All stock data starting from date {} with max length do not have common trading date.'.format(str(start_date)))\n",
    "    print('ERROR: need to do some other complicated preprocessing')"
   ]
  },
  {
   "cell_type": "code",
   "execution_count": null,
   "metadata": {},
   "outputs": [],
   "source": []
  }
 ],
 "metadata": {
  "kernelspec": {
   "display_name": "Python 3 (Intel, 2019 update 2)",
   "language": "python",
   "name": "c009-intel_distribution_of_python_3_2019u2"
  },
  "language_info": {
   "codemirror_mode": {
    "name": "ipython",
    "version": 3
   },
   "file_extension": ".py",
   "mimetype": "text/x-python",
   "name": "python",
   "nbconvert_exporter": "python",
   "pygments_lexer": "ipython3",
   "version": "3.6.8"
  }
 },
 "nbformat": 4,
 "nbformat_minor": 2
}
