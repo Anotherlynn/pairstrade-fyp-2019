{
 "cells": [
  {
   "cell_type": "markdown",
   "metadata": {},
   "source": [
    "## Import packages\n",
    "\n",
    "**Remark:** ib_insync is a very useful third party library that can send *blocking* requests to Interactive Brokers. "
   ]
  },
  {
   "cell_type": "code",
   "execution_count": 1,
   "metadata": {
    "collapsed": true
   },
   "outputs": [],
   "source": [
    "from IB_load_data import *\n",
    "from datetime import datetime\n",
    "from datetime import timedelta\n",
    "from matplotlib import pyplot as plt\n",
    "from ib_insync import *\n",
    "\n",
    "import pandas as pd\n",
    "import numpy as np\n",
    "\n",
    "%load_ext autoreload\n",
    "%autoreload 2"
   ]
  },
  {
   "cell_type": "markdown",
   "metadata": {},
   "source": [
    "## Load Names of Tech Companies listed on NYSE and NASDAQ"
   ]
  },
  {
   "cell_type": "code",
   "execution_count": 2,
   "metadata": {
    "collapsed": true
   },
   "outputs": [],
   "source": [
    "nyse_tech_names = list(pd.read_csv(filepath_or_buffer = \"../stock-names/nyse_tech_list.csv\")[\"Symbol\"])\n",
    "nasdaq_tech_names = list(pd.read_csv(filepath_or_buffer = \"../stock-names/nasdaq_tech_list.csv\")[\"Symbol\"])"
   ]
  },
  {
   "cell_type": "markdown",
   "metadata": {},
   "source": [
    "## Connect to IB"
   ]
  },
  {
   "cell_type": "code",
   "execution_count": 3,
   "metadata": {},
   "outputs": [
    {
     "data": {
      "text/plain": [
       "<IB connected to 127.0.0.1:7497 clientId=1>"
      ]
     },
     "execution_count": 3,
     "metadata": {},
     "output_type": "execute_result"
    }
   ],
   "source": [
    "ib = IB()\n",
    "ib.connect('127.0.0.1', 7497, clientId=1)"
   ]
  },
  {
   "cell_type": "markdown",
   "metadata": {},
   "source": [
    "## Load NYSE tech stocks"
   ]
  },
  {
   "cell_type": "code",
   "execution_count": null,
   "metadata": {
    "code_folding": []
   },
   "outputs": [
    {
     "name": "stderr",
     "output_type": "stream",
     "text": [
      "Error 1100, reqId -1: Connectivity between IB and Trader Workstation has been lost.\n",
      "Error 1100, reqId -1: Connectivity between IB and Trader Workstation has been lost.\n",
      "Error 1100, reqId -1: Connectivity between IB and Trader Workstation has been lost.\n",
      "Error 1100, reqId -1: Connectivity between IB and Trader Workstation has been lost.\n",
      "Error 1100, reqId -1: Connectivity between IB and Trader Workstation has been lost.\n",
      "Error 1100, reqId -1: Connectivity between IB and Trader Workstation has been lost.\n",
      "Error 1100, reqId -1: Connectivity between IB and Trader Workstation has been lost.\n",
      "Error 1100, reqId -1: Connectivity between IB and Trader Workstation has been lost.\n",
      "Error 1102, reqId -1: Connectivity between IB and Trader Workstation has been restored - data maintained.\n",
      "Error 1100, reqId -1: Connectivity between IB and Trader Workstation has been lost.\n",
      "Error 1102, reqId -1: Connectivity between IB and Trader Workstation has been restored - data maintained.\n"
     ]
    },
    {
     "name": "stdout",
     "output_type": "stream",
     "text": [
      "Downloading data of NYSE: TLRA\n",
      "150/172 completed.\n",
      "Downloading data of NYSE: TNC\n",
      "151/172 completed.\n",
      "Downloading data of NYSE: TDC\n",
      "152/172 completed.\n",
      "Downloading data of NYSE: TGH\n"
     ]
    }
   ],
   "source": [
    "for i in range(149, len(nyse_tech_names)):\n",
    "    stock_name = nyse_tech_names[i]\n",
    "    \n",
    "    print(\"Downloading data of NYSE: \" + stock_name)\n",
    "    \n",
    "    contract = Stock(stock_name, 'SMART', 'USD', primaryExchange=\"NYSE\")\n",
    "    bars = ib.reqHistoricalData(contract, endDateTime=\"20190105 04:55:00\", durationStr='4 Y',\n",
    "            barSizeSetting='5 mins', whatToShow='MIDPOINT', useRTH=True)\n",
    "    \n",
    "    # convert to pandas dataframe:\n",
    "    df = util.df(bars)\n",
    "    PATH_NAME = \"../ib-data/nyse/\" + str(stock_name) + \".csv\"\n",
    "    \n",
    "    if df is None:\n",
    "        print( \"Error: \" + str(i + 1) + \"/\" + str(len(nyse_tech_names)) + \" download aborted.\")\n",
    "    else:\n",
    "        df.to_csv(path_or_buf=PATH_NAME, index=False)\n",
    "        print( str(i + 1) + \"/\" + str(len(nyse_tech_names)) + \" completed.\")"
   ]
  },
  {
   "cell_type": "markdown",
   "metadata": {},
   "source": [
    "**Remarks**: \n",
    "- DELL is skipped because it is a newly relisted symbol on NYSE, no market data permissions to download \n",
    "- MAXR is skipped."
   ]
  },
  {
   "cell_type": "markdown",
   "metadata": {},
   "source": [
    "## Load NASDAQ tech stocks\n",
    "\n",
    "- MIDPOINT: stopped at 228"
   ]
  },
  {
   "cell_type": "code",
   "execution_count": null,
   "metadata": {},
   "outputs": [
    {
     "name": "stdout",
     "output_type": "stream",
     "text": [
      "Downloading data of NASDAQ: MAMS\n",
      "230/437 completed.\n",
      "Downloading data of NASDAQ: MANH\n",
      "231/437 completed.\n",
      "Downloading data of NASDAQ: MNTX\n",
      "232/437 completed.\n",
      "Downloading data of NASDAQ: MRIN\n",
      "233/437 completed.\n",
      "Downloading data of NASDAQ: MRVL\n",
      "234/437 completed.\n",
      "Downloading data of NASDAQ: MTCH\n",
      "235/437 completed.\n",
      "Downloading data of NASDAQ: MTLS\n",
      "236/437 completed.\n",
      "Downloading data of NASDAQ: MXIM\n",
      "237/437 completed.\n",
      "Downloading data of NASDAQ: MGRC\n",
      "238/437 completed.\n",
      "Downloading data of NASDAQ: MDCA\n",
      "239/437 completed.\n",
      "Downloading data of NASDAQ: MTBC\n"
     ]
    },
    {
     "name": "stderr",
     "output_type": "stream",
     "text": [
      "Error 1100, reqId -1: Connectivity between IB and Trader Workstation has been lost.\n",
      "Error 1102, reqId -1: Connectivity between IB and Trader Workstation has been restored - data maintained.\n"
     ]
    },
    {
     "name": "stdout",
     "output_type": "stream",
     "text": [
      "240/437 completed.\n",
      "Downloading data of NASDAQ: MTBCP\n",
      "241/437 completed.\n",
      "Downloading data of NASDAQ: MDSO\n",
      "242/437 completed.\n",
      "Downloading data of NASDAQ: MLNX\n",
      "243/437 completed.\n",
      "Downloading data of NASDAQ: MCHP\n",
      "244/437 completed.\n",
      "Downloading data of NASDAQ: MU\n",
      "245/437 completed.\n",
      "Downloading data of NASDAQ: MSFT\n",
      "246/437 completed.\n",
      "Downloading data of NASDAQ: MSTR\n",
      "247/437 completed.\n",
      "Downloading data of NASDAQ: MIME\n",
      "248/437 completed.\n",
      "Downloading data of NASDAQ: MNDO\n",
      "249/437 completed.\n",
      "Downloading data of NASDAQ: MB\n",
      "250/437 completed.\n",
      "Downloading data of NASDAQ: MIND\n",
      "251/437 completed.\n",
      "Downloading data of NASDAQ: MINDP\n"
     ]
    },
    {
     "name": "stderr",
     "output_type": "stream",
     "text": [
      "Error 1100, reqId -1: Connectivity between IB and Trader Workstation has been lost.\n",
      "Error 1102, reqId -1: Connectivity between IB and Trader Workstation has been restored - data maintained.\n"
     ]
    },
    {
     "name": "stdout",
     "output_type": "stream",
     "text": [
      "252/437 completed.\n",
      "Downloading data of NASDAQ: MITK\n",
      "253/437 completed.\n",
      "Downloading data of NASDAQ: MOBL\n",
      "254/437 completed.\n",
      "Downloading data of NASDAQ: MOMO\n",
      "255/437 completed.\n",
      "Downloading data of NASDAQ: MDB\n",
      "256/437 completed.\n",
      "Downloading data of NASDAQ: MPWR\n",
      "257/437 completed.\n",
      "Downloading data of NASDAQ: TYPE\n",
      "258/437 completed.\n",
      "Downloading data of NASDAQ: MOSY\n",
      "259/437 completed.\n",
      "Downloading data of NASDAQ: MOXC\n"
     ]
    },
    {
     "name": "stderr",
     "output_type": "stream",
     "text": [
      "Error 162, reqId 33: Historical Market Data Service error message:No market data permissions for AMEX, ARCA, NYSENAT, PSX STK, contract: Stock(symbol='MOXC', exchange='SMART', primaryExchange='NASDAQ', currency='USD')\n"
     ]
    },
    {
     "name": "stdout",
     "output_type": "stream",
     "text": [
      "Error: 260/437 download aborted.\n",
      "Downloading data of NASDAQ: MTEC\n",
      "261/437 completed.\n",
      "Downloading data of NASDAQ: MTECU\n"
     ]
    },
    {
     "name": "stderr",
     "output_type": "stream",
     "text": [
      "Error 200, reqId 36: No security definition has been found for the request, contract: Stock(symbol='MTECW', exchange='SMART', primaryExchange='NASDAQ', currency='USD')\n"
     ]
    },
    {
     "name": "stdout",
     "output_type": "stream",
     "text": [
      "262/437 completed.\n",
      "Downloading data of NASDAQ: MTECW\n",
      "Error: 263/437 download aborted.\n",
      "Downloading data of NASDAQ: MYSZ\n",
      "264/437 completed.\n",
      "Downloading data of NASDAQ: NNDM\n"
     ]
    },
    {
     "name": "stderr",
     "output_type": "stream",
     "text": [
      "Error 162, reqId 38: Historical Market Data Service error message:No market data permissions for AMEX, ARCA, NYSENAT, PSX STK, contract: Stock(symbol='NNDM', exchange='SMART', primaryExchange='NASDAQ', currency='USD')\n"
     ]
    },
    {
     "name": "stdout",
     "output_type": "stream",
     "text": [
      "Error: 265/437 download aborted.\n",
      "Downloading data of NASDAQ: NH\n",
      "266/437 completed.\n",
      "Downloading data of NASDAQ: NATI\n",
      "267/437 completed.\n",
      "Downloading data of NASDAQ: NETE\n",
      "268/437 completed.\n",
      "Downloading data of NASDAQ: NTAP\n",
      "269/437 completed.\n",
      "Downloading data of NASDAQ: NTCT\n",
      "270/437 completed.\n",
      "Downloading data of NASDAQ: NTWK\n"
     ]
    },
    {
     "name": "stderr",
     "output_type": "stream",
     "text": [
      "Error 1100, reqId -1: Connectivity between IB and Trader Workstation has been lost.\n",
      "Error 1100, reqId -1: Connectivity between IB and Trader Workstation has been lost.\n",
      "Error 1102, reqId -1: Connectivity between IB and Trader Workstation has been restored - data maintained.\n"
     ]
    },
    {
     "name": "stdout",
     "output_type": "stream",
     "text": [
      "271/437 completed.\n",
      "Downloading data of NASDAQ: NXGN\n",
      "272/437 completed.\n",
      "Downloading data of NASDAQ: NICE\n",
      "273/437 completed.\n",
      "Downloading data of NASDAQ: LASR\n",
      "274/437 completed.\n",
      "Downloading data of NASDAQ: NUAN\n",
      "275/437 completed.\n",
      "Downloading data of NASDAQ: NTNX\n",
      "276/437 completed.\n",
      "Downloading data of NASDAQ: NVEC\n",
      "277/437 completed.\n",
      "Downloading data of NASDAQ: NVDA\n",
      "278/437 completed.\n",
      "Downloading data of NASDAQ: NXPI\n",
      "279/437 completed.\n",
      "Downloading data of NASDAQ: OIIM\n",
      "280/437 completed.\n",
      "Downloading data of NASDAQ: OKTA\n",
      "281/437 completed.\n",
      "Downloading data of NASDAQ: OMCL\n",
      "282/437 completed.\n",
      "Downloading data of NASDAQ: ON\n",
      "283/437 completed.\n",
      "Downloading data of NASDAQ: OTIV\n",
      "284/437 completed.\n",
      "Downloading data of NASDAQ: OSS\n",
      "285/437 completed.\n",
      "Downloading data of NASDAQ: OSPN\n",
      "286/437 completed.\n",
      "Downloading data of NASDAQ: OTEX\n",
      "287/437 completed.\n",
      "Downloading data of NASDAQ: OSIS\n",
      "288/437 completed.\n",
      "Downloading data of NASDAQ: PFIN\n",
      "289/437 completed.\n",
      "Downloading data of NASDAQ: TEUM\n",
      "290/437 completed.\n",
      "Downloading data of NASDAQ: PCYG\n",
      "291/437 completed.\n",
      "Downloading data of NASDAQ: PCTY\n",
      "292/437 completed.\n",
      "Downloading data of NASDAQ: PCTI\n",
      "293/437 completed.\n",
      "Downloading data of NASDAQ: PDFS\n",
      "294/437 completed.\n",
      "Downloading data of NASDAQ: PEGA\n",
      "295/437 completed.\n",
      "Downloading data of NASDAQ: PRFT\n",
      "296/437 completed.\n",
      "Downloading data of NASDAQ: PERI\n",
      "297/437 completed.\n",
      "Downloading data of NASDAQ: PLAB\n",
      "298/437 completed.\n",
      "Downloading data of NASDAQ: PHUN\n"
     ]
    },
    {
     "name": "stderr",
     "output_type": "stream",
     "text": [
      "Error 200, reqId 73: No security definition has been found for the request, contract: Stock(symbol='PHUNW', exchange='SMART', primaryExchange='NASDAQ', currency='USD')\n"
     ]
    },
    {
     "name": "stdout",
     "output_type": "stream",
     "text": [
      "299/437 completed.\n",
      "Downloading data of NASDAQ: PHUNW\n",
      "Error: 300/437 download aborted.\n",
      "Downloading data of NASDAQ: PXLW\n",
      "301/437 completed.\n",
      "Downloading data of NASDAQ: PLXS\n",
      "302/437 completed.\n",
      "Downloading data of NASDAQ: PS\n",
      "303/437 completed.\n",
      "Downloading data of NASDAQ: PNTR\n",
      "304/437 completed.\n",
      "Downloading data of NASDAQ: POWI\n"
     ]
    },
    {
     "name": "stderr",
     "output_type": "stream",
     "text": [
      "Error 1100, reqId -1: Connectivity between IB and Trader Workstation has been lost.\n",
      "Error 1102, reqId -1: Connectivity between IB and Trader Workstation has been restored - data maintained.\n"
     ]
    },
    {
     "name": "stdout",
     "output_type": "stream",
     "text": [
      "305/437 completed.\n",
      "Downloading data of NASDAQ: PSDO\n",
      "306/437 completed.\n",
      "Downloading data of NASDAQ: IPDN\n",
      "307/437 completed.\n",
      "Downloading data of NASDAQ: PRGS\n",
      "308/437 completed.\n",
      "Downloading data of NASDAQ: PFPT\n",
      "309/437 completed.\n",
      "Downloading data of NASDAQ: PTC\n",
      "310/437 completed.\n",
      "Downloading data of NASDAQ: QADA\n",
      "311/437 completed.\n",
      "Downloading data of NASDAQ: QADB\n",
      "312/437 completed.\n",
      "Downloading data of NASDAQ: QRVO\n",
      "313/437 completed.\n",
      "Downloading data of NASDAQ: QCOM\n",
      "314/437 completed.\n",
      "Downloading data of NASDAQ: QBAK\n",
      "315/437 completed.\n",
      "Downloading data of NASDAQ: QLYS\n",
      "316/437 completed.\n",
      "Downloading data of NASDAQ: QTNA\n",
      "317/437 completed.\n",
      "Downloading data of NASDAQ: QRHC\n",
      "318/437 completed.\n",
      "Downloading data of NASDAQ: QUIK\n",
      "319/437 completed.\n",
      "Downloading data of NASDAQ: QUMU\n",
      "320/437 completed.\n",
      "Downloading data of NASDAQ: RDCM\n",
      "321/437 completed.\n",
      "Downloading data of NASDAQ: RMBS\n",
      "322/437 completed.\n",
      "Downloading data of NASDAQ: RPD\n",
      "323/437 completed.\n",
      "Downloading data of NASDAQ: RCMT\n",
      "324/437 completed.\n",
      "Downloading data of NASDAQ: RNWK\n",
      "325/437 completed.\n",
      "Downloading data of NASDAQ: RP\n",
      "326/437 completed.\n",
      "Downloading data of NASDAQ: RDVT\n",
      "327/437 completed.\n",
      "Downloading data of NASDAQ: RCII\n",
      "328/437 completed.\n",
      "Downloading data of NASDAQ: RESN\n",
      "329/437 completed.\n",
      "Downloading data of NASDAQ: RBBN\n"
     ]
    },
    {
     "name": "stderr",
     "output_type": "stream",
     "text": [
      "Error 1100, reqId -1: Connectivity between IB and Trader Workstation has been lost.\n",
      "Error 1100, reqId -1: Connectivity between IB and Trader Workstation has been lost.\n",
      "Error 1100, reqId -1: Connectivity between IB and Trader Workstation has been lost.\n",
      "Error 1100, reqId -1: Connectivity between IB and Trader Workstation has been lost.\n",
      "Error 1100, reqId -1: Connectivity between IB and Trader Workstation has been lost.\n",
      "Error 1100, reqId -1: Connectivity between IB and Trader Workstation has been lost.\n",
      "Error 1100, reqId -1: Connectivity between IB and Trader Workstation has been lost.\n",
      "Error 1100, reqId -1: Connectivity between IB and Trader Workstation has been lost.\n",
      "Error 1102, reqId -1: Connectivity between IB and Trader Workstation has been restored - data maintained.\n"
     ]
    },
    {
     "name": "stdout",
     "output_type": "stream",
     "text": [
      "330/437 completed.\n",
      "Downloading data of NASDAQ: RBCN\n",
      "331/437 completed.\n",
      "Downloading data of NASDAQ: RMBL\n"
     ]
    },
    {
     "name": "stderr",
     "output_type": "stream",
     "text": [
      "Error 162, reqId 105: Historical Market Data Service error message:No market data permissions for AMEX, ARCA, NYSENAT, PSX STK, contract: Stock(symbol='RMBL', exchange='SMART', primaryExchange='NASDAQ', currency='USD')\n"
     ]
    },
    {
     "name": "stdout",
     "output_type": "stream",
     "text": [
      "Error: 332/437 download aborted.\n",
      "Downloading data of NASDAQ: SABR\n",
      "333/437 completed.\n",
      "Downloading data of NASDAQ: SFET\n"
     ]
    },
    {
     "name": "stderr",
     "output_type": "stream",
     "text": [
      "Error 162, reqId 107: Historical Market Data Service error message:No market data permissions for AMEX, ARCA, NYSENAT, PSX STK, contract: Stock(symbol='SFET', exchange='SMART', primaryExchange='NASDAQ', currency='USD')\n"
     ]
    },
    {
     "name": "stdout",
     "output_type": "stream",
     "text": [
      "Error: 334/437 download aborted.\n",
      "Downloading data of NASDAQ: SANM\n",
      "335/437 completed.\n",
      "Downloading data of NASDAQ: SPNS\n",
      "336/437 completed.\n",
      "Downloading data of NASDAQ: SCSC\n",
      "337/437 completed.\n",
      "Downloading data of NASDAQ: SGMS\n",
      "338/437 completed.\n",
      "Downloading data of NASDAQ: SEAC\n",
      "339/437 completed.\n",
      "Downloading data of NASDAQ: STX\n",
      "340/437 completed.\n",
      "Downloading data of NASDAQ: SCWX\n",
      "341/437 completed.\n",
      "Downloading data of NASDAQ: LEDS\n",
      "342/437 completed.\n",
      "Downloading data of NASDAQ: SMTC\n",
      "343/437 completed.\n",
      "Downloading data of NASDAQ: SGOC\n",
      "344/437 completed.\n",
      "Downloading data of NASDAQ: SHSP\n",
      "345/437 completed.\n",
      "Downloading data of NASDAQ: PIXY\n",
      "346/437 completed.\n",
      "Downloading data of NASDAQ: SSTI\n",
      "347/437 completed.\n",
      "Downloading data of NASDAQ: SWIR\n",
      "348/437 completed.\n",
      "Downloading data of NASDAQ: SIFY\n",
      "349/437 completed.\n",
      "Downloading data of NASDAQ: SGMA\n",
      "350/437 completed.\n",
      "Downloading data of NASDAQ: SILC\n",
      "351/437 completed.\n",
      "Downloading data of NASDAQ: SLAB\n",
      "352/437 completed.\n",
      "Downloading data of NASDAQ: SIMO\n",
      "353/437 completed.\n",
      "Downloading data of NASDAQ: SLP\n",
      "354/437 completed.\n",
      "Downloading data of NASDAQ: SINA\n",
      "355/437 completed.\n",
      "Downloading data of NASDAQ: SWKS\n",
      "356/437 completed.\n",
      "Downloading data of NASDAQ: SGH\n",
      "357/437 completed.\n",
      "Downloading data of NASDAQ: SMSI\n",
      "358/437 completed.\n",
      "Downloading data of NASDAQ: SMTX\n",
      "359/437 completed.\n",
      "Downloading data of NASDAQ: SRAX\n"
     ]
    },
    {
     "name": "stderr",
     "output_type": "stream",
     "text": [
      "Error 162, reqId 133: Historical Market Data Service error message:No market data permissions for AMEX, ARCA, NYSENAT, PSX STK, contract: Stock(symbol='SRAX', exchange='SMART', primaryExchange='NASDAQ', currency='USD')\n"
     ]
    },
    {
     "name": "stdout",
     "output_type": "stream",
     "text": [
      "Error: 360/437 download aborted.\n",
      "Downloading data of NASDAQ: SCKT\n"
     ]
    },
    {
     "name": "stderr",
     "output_type": "stream",
     "text": [
      "Error 162, reqId 134: Historical Market Data Service error message:No market data permissions for AMEX, ARCA, NYSENAT, PSX STK, contract: Stock(symbol='SCKT', exchange='SMART', primaryExchange='NASDAQ', currency='USD')\n"
     ]
    },
    {
     "name": "stdout",
     "output_type": "stream",
     "text": [
      "Error: 361/437 download aborted.\n",
      "Downloading data of NASDAQ: SOHU\n",
      "362/437 completed.\n",
      "Downloading data of NASDAQ: SEDG\n",
      "363/437 completed.\n",
      "Downloading data of NASDAQ: ANY\n",
      "364/437 completed.\n",
      "Downloading data of NASDAQ: SPI\n"
     ]
    },
    {
     "name": "stderr",
     "output_type": "stream",
     "text": [
      "Error 162, reqId 138: Historical Market Data Service error message:No market data permissions for AMEX, ARCA, NYSENAT, PSX STK, contract: Stock(symbol='SPI', exchange='SMART', primaryExchange='NASDAQ', currency='USD')\n"
     ]
    },
    {
     "name": "stdout",
     "output_type": "stream",
     "text": [
      "Error: 365/437 download aborted.\n",
      "Downloading data of NASDAQ: SPLK\n",
      "366/437 completed.\n",
      "Downloading data of NASDAQ: SPSC\n",
      "367/437 completed.\n",
      "Downloading data of NASDAQ: SSNC\n",
      "368/437 completed.\n",
      "Downloading data of NASDAQ: STAF\n"
     ]
    },
    {
     "name": "stderr",
     "output_type": "stream",
     "text": [
      "Error 162, reqId 142: Historical Market Data Service error message:No market data permissions for AMEX, ARCA, NYSENAT, PSX STK, contract: Stock(symbol='STAF', exchange='SMART', primaryExchange='NASDAQ', currency='USD')\n"
     ]
    },
    {
     "name": "stdout",
     "output_type": "stream",
     "text": [
      "Error: 369/437 download aborted.\n",
      "Downloading data of NASDAQ: STNE\n",
      "370/437 completed.\n",
      "Downloading data of NASDAQ: SSYS\n",
      "371/437 completed.\n",
      "Downloading data of NASDAQ: STRM\n",
      "372/437 completed.\n",
      "Downloading data of NASDAQ: WISA\n",
      "373/437 completed.\n",
      "Downloading data of NASDAQ: SPWR\n",
      "374/437 completed.\n",
      "Downloading data of NASDAQ: SPCB\n",
      "375/437 completed.\n",
      "Downloading data of NASDAQ: SCON\n",
      "376/437 completed.\n",
      "Downloading data of NASDAQ: SPRT\n",
      "377/437 completed.\n",
      "Downloading data of NASDAQ: SVMK\n",
      "378/437 completed.\n",
      "Downloading data of NASDAQ: SYKE\n",
      "379/437 completed.\n",
      "Downloading data of NASDAQ: SYMC\n",
      "380/437 completed.\n",
      "Downloading data of NASDAQ: SYNC\n",
      "381/437 completed.\n",
      "Downloading data of NASDAQ: SYNA\n",
      "382/437 completed.\n",
      "Downloading data of NASDAQ: SNCR\n"
     ]
    },
    {
     "name": "stderr",
     "output_type": "stream",
     "text": [
      "Error 162, reqId 156: Historical Market Data Service error message:No market data permissions for AMEX, ARCA, NYSENAT, PSX STK, contract: Stock(symbol='SNCR', exchange='SMART', primaryExchange='NASDAQ', currency='USD')\n"
     ]
    },
    {
     "name": "stdout",
     "output_type": "stream",
     "text": [
      "Error: 383/437 download aborted.\n",
      "Downloading data of NASDAQ: SNPS\n",
      "384/437 completed.\n",
      "Downloading data of NASDAQ: TTWO\n",
      "385/437 completed.\n",
      "Downloading data of NASDAQ: TLND\n",
      "386/437 completed.\n",
      "Downloading data of NASDAQ: TAOP\n",
      "387/437 completed.\n",
      "Downloading data of NASDAQ: TECD\n",
      "388/437 completed.\n",
      "Downloading data of NASDAQ: TCCO\n",
      "389/437 completed.\n",
      "Downloading data of NASDAQ: TENB\n",
      "390/437 completed.\n",
      "Downloading data of NASDAQ: TXN\n",
      "391/437 completed.\n",
      "Downloading data of NASDAQ: DSGX\n",
      "392/437 completed.\n",
      "Downloading data of NASDAQ: KEYW\n",
      "393/437 completed.\n",
      "Downloading data of NASDAQ: MIDD\n",
      "394/437 completed.\n",
      "Downloading data of NASDAQ: TSG\n"
     ]
    },
    {
     "name": "stderr",
     "output_type": "stream",
     "text": [
      "Error 162, reqId 168: Historical Market Data Service error message:No market data permissions for AMEX, ARCA, NYSENAT, PSX STK, contract: Stock(symbol='TSG', exchange='SMART', primaryExchange='NASDAQ', currency='USD')\n"
     ]
    },
    {
     "name": "stdout",
     "output_type": "stream",
     "text": [
      "Error: 395/437 download aborted.\n",
      "Downloading data of NASDAQ: TTD\n",
      "396/437 completed.\n",
      "Downloading data of NASDAQ: ULTI\n",
      "397/437 completed.\n",
      "Downloading data of NASDAQ: TISA\n",
      "398/437 completed.\n",
      "Downloading data of NASDAQ: TSEM\n",
      "399/437 completed.\n",
      "Downloading data of NASDAQ: TACT\n",
      "400/437 completed.\n",
      "Downloading data of NASDAQ: TZOO\n",
      "401/437 completed.\n",
      "Downloading data of NASDAQ: TRIP\n",
      "402/437 completed.\n",
      "Downloading data of NASDAQ: TRVG\n",
      "403/437 completed.\n",
      "Downloading data of NASDAQ: TRUE\n",
      "404/437 completed.\n",
      "Downloading data of NASDAQ: TSRI\n",
      "405/437 completed.\n",
      "Downloading data of NASDAQ: TTEC\n",
      "406/437 completed.\n",
      "Downloading data of NASDAQ: TTMI\n"
     ]
    }
   ],
   "source": [
    "for i in range(229, len(nasdaq_tech_names)):\n",
    "    stock_name = nasdaq_tech_names[i]\n",
    "    \n",
    "    print(\"Downloading data of NASDAQ: \" + stock_name)\n",
    "    \n",
    "    contract = Stock(stock_name, 'SMART', 'USD', primaryExchange=\"NASDAQ\")\n",
    "    bars = ib.reqHistoricalData(contract, endDateTime=\"20190105 04:55:00\", durationStr='4 Y',\n",
    "            barSizeSetting='5 mins', whatToShow='MIDPOINT', useRTH=True)\n",
    "    \n",
    "    # convert to pandas dataframe:\n",
    "    df = util.df(bars)\n",
    "    PATH_NAME = \"../ib-data/iex/\" + str(stock_name) + \".csv\"\n",
    "\n",
    "    if df is None:\n",
    "        print( \"Error: \" + str(i + 1) + \"/\" + str(len(nasdaq_tech_names)) + \" download aborted.\")\n",
    "    else:\n",
    "        df.to_csv(path_or_buf=PATH_NAME, index=False)\n",
    "        print( str(i + 1) + \"/\" + str(len(nasdaq_tech_names)) + \" completed.\")"
   ]
  },
  {
   "cell_type": "code",
   "execution_count": 5,
   "metadata": {
    "collapsed": true
   },
   "outputs": [],
   "source": [
    "contract = Stock('VXX', 'SMART', 'USD', primaryExchange=\"NYSE\")\n",
    "bars = ib.reqHistoricalData(contract, endDateTime=\"20190105 04:55:00\", durationStr='4 Y',\n",
    "        barSizeSetting='5 mins', whatToShow='MIDPOINT', useRTH=True)\n",
    "\n",
    "# convert to pandas dataframe:\n",
    "df = util.df(bars)\n",
    "PATH_NAME = \"../ib-data/nyse-vol/\" + str('VXX') + \".csv\"\n",
    "df.to_csv(path_or_buf=PATH_NAME, index=False)"
   ]
  },
  {
   "cell_type": "code",
   "execution_count": null,
   "metadata": {
    "collapsed": true
   },
   "outputs": [],
   "source": []
  }
 ],
 "metadata": {
  "kernelspec": {
   "display_name": "Python (traders_nlp)",
   "language": "python",
   "name": "traders_nlp"
  },
  "language_info": {
   "codemirror_mode": {
    "name": "ipython",
    "version": 3
   },
   "file_extension": ".py",
   "mimetype": "text/x-python",
   "name": "python",
   "nbconvert_exporter": "python",
   "pygments_lexer": "ipython3",
   "version": "3.6.3"
  },
  "varInspector": {
   "cols": {
    "lenName": 16,
    "lenType": 16,
    "lenVar": 40
   },
   "kernels_config": {
    "python": {
     "delete_cmd_postfix": "",
     "delete_cmd_prefix": "del ",
     "library": "var_list.py",
     "varRefreshCmd": "print(var_dic_list())"
    },
    "r": {
     "delete_cmd_postfix": ") ",
     "delete_cmd_prefix": "rm(",
     "library": "var_list.r",
     "varRefreshCmd": "cat(var_dic_list()) "
    }
   },
   "types_to_exclude": [
    "module",
    "function",
    "builtin_function_or_method",
    "instance",
    "_Feature"
   ],
   "window_display": false
  }
 },
 "nbformat": 4,
 "nbformat_minor": 2
}
