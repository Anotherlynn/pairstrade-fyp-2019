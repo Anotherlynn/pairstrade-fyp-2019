{
 "cells": [
  {
   "cell_type": "markdown",
   "metadata": {},
   "source": [
    "## Import packages\n",
    "\n",
    "**Remark:** ib_insync is a very useful third party library that can send *blocking* requests to Interactive Brokers. "
   ]
  },
  {
   "cell_type": "code",
   "execution_count": 1,
   "metadata": {
    "collapsed": true
   },
   "outputs": [],
   "source": [
    "from IB_load_data import *\n",
    "from datetime import datetime\n",
    "from datetime import timedelta\n",
    "from matplotlib import pyplot as plt\n",
    "from ib_insync import *\n",
    "\n",
    "import pandas as pd\n",
    "import numpy as np\n",
    "\n",
    "%load_ext autoreload\n",
    "%autoreload 2"
   ]
  },
  {
   "cell_type": "markdown",
   "metadata": {},
   "source": [
    "## Load Names of Tech Companies listed on NYSE and NASDAQ"
   ]
  },
  {
   "cell_type": "code",
   "execution_count": 2,
   "metadata": {
    "collapsed": true
   },
   "outputs": [],
   "source": [
    "nyse_tech_names = list(pd.read_csv(filepath_or_buffer = \"../stock-names/nyse_tech_list.csv\")[\"Symbol\"])\n",
    "nasdaq_tech_names = list(pd.read_csv(filepath_or_buffer = \"../stock-names/nasdaq_tech_list.csv\")[\"Symbol\"])"
   ]
  },
  {
   "cell_type": "markdown",
   "metadata": {},
   "source": [
    "## Connect to IB"
   ]
  },
  {
   "cell_type": "code",
   "execution_count": 3,
   "metadata": {},
   "outputs": [
    {
     "data": {
      "text/plain": [
       "<IB connected to 127.0.0.1:7497 clientId=1>"
      ]
     },
     "execution_count": 3,
     "metadata": {},
     "output_type": "execute_result"
    }
   ],
   "source": [
    "ib = IB()\n",
    "ib.connect('127.0.0.1', 7497, clientId=1)"
   ]
  },
  {
   "cell_type": "markdown",
   "metadata": {},
   "source": [
    "## Load NYSE tech stocks"
   ]
  },
  {
   "cell_type": "code",
   "execution_count": null,
   "metadata": {
    "code_folding": []
   },
   "outputs": [
    {
     "name": "stderr",
     "output_type": "stream",
     "text": [
      "Error 1100, reqId -1: Connectivity between IB and Trader Workstation has been lost.\n",
      "Error 1100, reqId -1: Connectivity between IB and Trader Workstation has been lost.\n",
      "Error 1100, reqId -1: Connectivity between IB and Trader Workstation has been lost.\n",
      "Error 1100, reqId -1: Connectivity between IB and Trader Workstation has been lost.\n",
      "Error 1100, reqId -1: Connectivity between IB and Trader Workstation has been lost.\n",
      "Error 1100, reqId -1: Connectivity between IB and Trader Workstation has been lost.\n",
      "Error 1100, reqId -1: Connectivity between IB and Trader Workstation has been lost.\n",
      "Error 1100, reqId -1: Connectivity between IB and Trader Workstation has been lost.\n",
      "Error 1102, reqId -1: Connectivity between IB and Trader Workstation has been restored - data maintained.\n",
      "Error 1100, reqId -1: Connectivity between IB and Trader Workstation has been lost.\n",
      "Error 1102, reqId -1: Connectivity between IB and Trader Workstation has been restored - data maintained.\n"
     ]
    },
    {
     "name": "stdout",
     "output_type": "stream",
     "text": [
      "Downloading data of NYSE: TLRA\n",
      "150/172 completed.\n",
      "Downloading data of NYSE: TNC\n",
      "151/172 completed.\n",
      "Downloading data of NYSE: TDC\n",
      "152/172 completed.\n",
      "Downloading data of NYSE: TGH\n"
     ]
    }
   ],
   "source": [
    "for i in range(149, len(nyse_tech_names)):\n",
    "    stock_name = nyse_tech_names[i]\n",
    "    \n",
    "    print(\"Downloading data of NYSE: \" + stock_name)\n",
    "    \n",
    "    contract = Stock(stock_name, 'SMART', 'USD', primaryExchange=\"NYSE\")\n",
    "    bars = ib.reqHistoricalData(contract, endDateTime=\"20190105 04:55:00\", durationStr='4 Y',\n",
    "            barSizeSetting='5 mins', whatToShow='MIDPOINT', useRTH=True)\n",
    "    \n",
    "    # convert to pandas dataframe:\n",
    "    df = util.df(bars)\n",
    "    PATH_NAME = \"../ib-data/nyse/\" + str(stock_name) + \".csv\"\n",
    "    \n",
    "    if df is None:\n",
    "        print( \"Error: \" + str(i + 1) + \"/\" + str(len(nyse_tech_names)) + \" download aborted.\")\n",
    "    else:\n",
    "        df.to_csv(path_or_buf=PATH_NAME, index=False)\n",
    "        print( str(i + 1) + \"/\" + str(len(nyse_tech_names)) + \" completed.\")"
   ]
  },
  {
   "cell_type": "markdown",
   "metadata": {},
   "source": [
    "**Remarks**: \n",
    "- DELL is skipped because it is a newly relisted symbol on NYSE, no market data permissions to download \n",
    "- MAXR is skipped."
   ]
  },
  {
   "cell_type": "markdown",
   "metadata": {},
   "source": [
    "## Load NASDAQ tech stocks\n",
    "\n",
    "- MIDPOINT: stopped at 228"
   ]
  },
  {
   "cell_type": "code",
   "execution_count": null,
   "metadata": {},
   "outputs": [
    {
     "name": "stdout",
     "output_type": "stream",
     "text": [
      "Downloading data of NASDAQ: MNGA\n"
     ]
    },
    {
     "name": "stderr",
     "output_type": "stream",
     "text": [
      "Peer closed connection\n"
     ]
    }
   ],
   "source": [
    "for i in range(228, len(nasdaq_tech_names)):\n",
    "    stock_name = nasdaq_tech_names[i]\n",
    "    \n",
    "    print(\"Downloading data of NASDAQ: \" + stock_name)\n",
    "    \n",
    "    contract = Stock(stock_name, 'SMART', 'USD', primaryExchange=\"NASDAQ\")\n",
    "    bars = ib.reqHistoricalData(contract, endDateTime=\"20190105 04:55:00\", durationStr='4 Y',\n",
    "            barSizeSetting='5 mins', whatToShow='MIDPOINT', useRTH=True)\n",
    "    \n",
    "    # convert to pandas dataframe:\n",
    "    df = util.df(bars)\n",
    "    PATH_NAME = \"../ib-data/iex/\" + str(stock_name) + \".csv\"\n",
    "\n",
    "    if df is None:\n",
    "        print( \"Error: \" + str(i + 1) + \"/\" + str(len(nasdaq_tech_names)) + \" download aborted.\")\n",
    "    else:\n",
    "        df.to_csv(path_or_buf=PATH_NAME, index=False)\n",
    "        print( str(i + 1) + \"/\" + str(len(nasdaq_tech_names)) + \" completed.\")"
   ]
  },
  {
   "cell_type": "code",
   "execution_count": 5,
   "metadata": {},
   "outputs": [],
   "source": [
    "contract = Stock('VXX', 'SMART', 'USD', primaryExchange=\"NYSE\")\n",
    "bars = ib.reqHistoricalData(contract, endDateTime=\"20190105 04:55:00\", durationStr='4 Y',\n",
    "        barSizeSetting='5 mins', whatToShow='MIDPOINT', useRTH=True)\n",
    "\n",
    "# convert to pandas dataframe:\n",
    "df = util.df(bars)\n",
    "PATH_NAME = \"../ib-data/nyse-vol/\" + str('VXX') + \".csv\"\n",
    "df.to_csv(path_or_buf=PATH_NAME, index=False)"
   ]
  },
  {
   "cell_type": "code",
   "execution_count": null,
   "metadata": {
    "collapsed": true
   },
   "outputs": [],
   "source": []
  }
 ],
 "metadata": {
  "kernelspec": {
   "display_name": "Python (traders_nlp)",
   "language": "python",
   "name": "traders_nlp"
  },
  "language_info": {
   "codemirror_mode": {
    "name": "ipython",
    "version": 3
   },
   "file_extension": ".py",
   "mimetype": "text/x-python",
   "name": "python",
   "nbconvert_exporter": "python",
   "pygments_lexer": "ipython3",
   "version": "3.6.3"
  },
  "varInspector": {
   "cols": {
    "lenName": 16,
    "lenType": 16,
    "lenVar": 40
   },
   "kernels_config": {
    "python": {
     "delete_cmd_postfix": "",
     "delete_cmd_prefix": "del ",
     "library": "var_list.py",
     "varRefreshCmd": "print(var_dic_list())"
    },
    "r": {
     "delete_cmd_postfix": ") ",
     "delete_cmd_prefix": "rm(",
     "library": "var_list.r",
     "varRefreshCmd": "cat(var_dic_list()) "
    }
   },
   "types_to_exclude": [
    "module",
    "function",
    "builtin_function_or_method",
    "instance",
    "_Feature"
   ],
   "window_display": false
  }
 },
 "nbformat": 4,
 "nbformat_minor": 2
}
