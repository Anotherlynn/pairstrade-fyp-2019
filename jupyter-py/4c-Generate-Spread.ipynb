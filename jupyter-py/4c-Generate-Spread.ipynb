{
 "cells": [
  {
   "cell_type": "code",
   "execution_count": 25,
   "metadata": {
    "collapsed": true
   },
   "outputs": [],
   "source": [
    "import os\n",
    "import glob\n",
    "\n",
    "import pandas as pd\n",
    "import numpy as np\n",
    "\n",
    "import statsmodels.tsa.stattools as smts\n",
    "import statsmodels.api as sm    \n",
    "\n",
    "from matplotlib import pyplot as plt"
   ]
  },
  {
   "cell_type": "code",
   "execution_count": 10,
   "metadata": {},
   "outputs": [],
   "source": [
    "def price_spread_is_stationary(p1, p2, sig_level = 0.05):\n",
    "    Y, X = pd.Series(p1), pd.Series(p2)\n",
    "    adf_pvalue = smts.adfuller(Y - X)[1]\n",
    "\n",
    "    return adf_pvalue < sig_level\n",
    "\n",
    "def log_price_spread_is_stationary(p1, p2, sig_level = 0.05):\n",
    "    Y, X = pd.Series(np.log(p1)), pd.Series(np.log(p2)) \n",
    "    adf_pvalue = smts.adfuller(Y - X)[1]\n",
    "\n",
    "    return adf_pvalue < sig_level"
   ]
  },
  {
   "cell_type": "code",
   "execution_count": 61,
   "metadata": {},
   "outputs": [],
   "source": [
    "df1 = pd.read_csv('../ib-data/iex-features/GOOGL.csv')\n",
    "df2 = pd.read_csv('../ib-data/iex-features/GOOG.csv')"
   ]
  },
  {
   "cell_type": "code",
   "execution_count": 9,
   "metadata": {},
   "outputs": [],
   "source": [
    "# price_spread_is_stationary(df1['close'][0:2000], df2['close'][0:2000])\n",
    "# log_price_spread_is_stationary(df1['close'][0:2000], df2['close'][0:2000])"
   ]
  },
  {
   "cell_type": "code",
   "execution_count": 62,
   "metadata": {},
   "outputs": [],
   "source": [
    "# log Y = intercept + log X + c\n",
    "def compute_intercept_and_pvalue(p1, p2):\n",
    "    Y, X = pd.Series(np.log(p1)), pd.Series(np.log(p2))\n",
    "    \n",
    "    # returns (intercept, pvalue)\n",
    "    return (np.mean(Y - X), smts.adfuller(Y - X)[1])\n",
    "\n",
    "def generate_pair_df(df1, df2, training_period = 84*20):\n",
    "    dt1, dt2 = df1['date'][0], df2['date'][0]\n",
    "    dt = max(dt1, dt2)\n",
    "    \n",
    "    p1_start, p2_start = df1[df1['date'] >= dt].index[0], df2[df2['date'] >= dt].index[0]\n",
    "    \n",
    "    df1_train, df1_test = df1[p1_start:p1_start + training_period], df1[p1_start + training_period:]\n",
    "    df2_train, df2_test = df2[p2_start:p2_start + training_period], df2[p2_start + training_period:]\n",
    "    \n",
    "    intercept, pvalue = compute_intercept_and_pvalue(df1_train['close'], df2_train['close'])\n",
    "    \n",
    "    df_combined = pd.DataFrame()\n",
    "    \n",
    "    # date\n",
    "    df_combined[\"date\"] = df1_test[\"date\"]\n",
    "    \n",
    "    # datetime features\n",
    "    df_combined['year'] = df1_test['year']\n",
    "    df_combined['monthOfYear'] = df1_test['monthOfYear']\n",
    "    df_combined['dayOfMonth'] = df1_test['dayOfMonth']\n",
    "    df_combined['hourOfDay'] = df1_test['hourOfDay']\n",
    "    df_combined['minuteOfHour'] = df1_test['minuteOfHour']\n",
    "    df_combined['dayOfWeek'] = df1_test['dayOfWeek']\n",
    "    df_combined['dayOfYear'] = df1_test['dayOfYear']\n",
    "    df_combined['weekOfYear'] = df1_test['weekOfYear']\n",
    "    df_combined['isHoliday'] = df1_test['isHoliday']\n",
    "    df_combined['prevDayIsHoliday'] = df1_test['prevDayIsHoliday']\n",
    "    df_combined['nextDayIsHoliday'] = df1_test['nextDayIsHoliday']\n",
    "\n",
    "    # spread and pvalue\n",
    "    df_combined[\"spread\"] = pd.Series(np.log(df1_test['close']) - np.log(df2_test['close']) - intercept)\n",
    "    df_combined[\"pvalue\"] = pvalue\n",
    "    \n",
    "    # price information of both stocks\n",
    "    df_combined[\"open1\"] = df1_test[\"open\"]\n",
    "    df_combined[\"high1\"] = df1_test[\"high\"]\n",
    "    df_combined[\"low1\"] = df1_test[\"low\"]\n",
    "    df_combined[\"close1\"] = df1_test[\"close\"]\n",
    "                \n",
    "    df_combined[\"open2\"] = df2_test[\"open\"]\n",
    "    df_combined[\"high2\"] = df2_test[\"high\"]\n",
    "    df_combined[\"low2\"] = df2_test[\"low\"]\n",
    "    df_combined[\"close2\"] = df2_test[\"close\"]\n",
    "    \n",
    "    \n",
    "    return df_combined  "
   ]
  },
  {
   "cell_type": "code",
   "execution_count": 63,
   "metadata": {},
   "outputs": [
    {
     "data": {
      "text/plain": [
       "(0.010596148788664595, 0.098684168451024346)"
      ]
     },
     "execution_count": 63,
     "metadata": {},
     "output_type": "execute_result"
    }
   ],
   "source": [
    "compute_intercept_and_pvalue(df1['close'][0:100], df2['close'][0:100])"
   ]
  },
  {
   "cell_type": "code",
   "execution_count": 64,
   "metadata": {},
   "outputs": [],
   "source": [
    "df3 = generate_pair_df(df1, df2)\n",
    "df3.to_csv(path_or_buf=\"../ib-data/pair-features/GOOGL-GOOG.csv\", index=False)"
   ]
  },
  {
   "cell_type": "code",
   "execution_count": null,
   "metadata": {
    "collapsed": true
   },
   "outputs": [],
   "source": []
  },
  {
   "cell_type": "code",
   "execution_count": null,
   "metadata": {
    "collapsed": true
   },
   "outputs": [],
   "source": []
  }
 ],
 "metadata": {
  "kernelspec": {
   "display_name": "Python (traders_nlp)",
   "language": "python",
   "name": "traders_nlp"
  },
  "language_info": {
   "codemirror_mode": {
    "name": "ipython",
    "version": 3
   },
   "file_extension": ".py",
   "mimetype": "text/x-python",
   "name": "python",
   "nbconvert_exporter": "python",
   "pygments_lexer": "ipython3",
   "version": "3.6.3"
  },
  "varInspector": {
   "cols": {
    "lenName": 16,
    "lenType": 16,
    "lenVar": 40
   },
   "kernels_config": {
    "python": {
     "delete_cmd_postfix": "",
     "delete_cmd_prefix": "del ",
     "library": "var_list.py",
     "varRefreshCmd": "print(var_dic_list())"
    },
    "r": {
     "delete_cmd_postfix": ") ",
     "delete_cmd_prefix": "rm(",
     "library": "var_list.r",
     "varRefreshCmd": "cat(var_dic_list()) "
    }
   },
   "types_to_exclude": [
    "module",
    "function",
    "builtin_function_or_method",
    "instance",
    "_Feature"
   ],
   "window_display": false
  }
 },
 "nbformat": 4,
 "nbformat_minor": 2
}
