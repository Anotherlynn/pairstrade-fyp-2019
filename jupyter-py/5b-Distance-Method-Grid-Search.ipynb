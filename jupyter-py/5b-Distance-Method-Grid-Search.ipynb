{
 "cells": [
  {
   "cell_type": "code",
   "execution_count": 1,
   "metadata": {},
   "outputs": [],
   "source": [
    "from grid_search_tools import GSTools\n",
    "from distance_method import DistanceStrategy, Metrics\n",
    "from pair_selector import *\n",
    "\n",
    "import backtrader as bt\n",
    "import backtrader.feeds as btfeeds\n",
    "import pandas as pd\n",
    "import warnings\n",
    "import glob\n",
    "import os\n",
    "import uuid\n",
    "import itertools\n",
    "import json\n",
    "\n",
    "%load_ext autoreload\n",
    "%autoreload 2"
   ]
  },
  {
   "cell_type": "markdown",
   "metadata": {},
   "source": [
    "### Don't touch this"
   ]
  },
  {
   "cell_type": "code",
   "execution_count": 2,
   "metadata": {},
   "outputs": [],
   "source": [
    "class PandasData(bt.feed.DataBase):\n",
    "    '''\n",
    "    The ``dataname`` parameter inherited from ``feed.DataBase`` is the pandas\n",
    "    DataFrame\n",
    "    '''\n",
    "\n",
    "    params = (\n",
    "        ('datetime', 0),\n",
    "        ('open', -1),\n",
    "        ('high', -1),\n",
    "        ('low', -1),\n",
    "        ('close', -1),\n",
    "        ('volume', -1),\n",
    "        ('openinterest', -1),\n",
    "    )"
   ]
  },
  {
   "cell_type": "markdown",
   "metadata": {},
   "source": [
    "### Set your params"
   ]
  },
  {
   "cell_type": "code",
   "execution_count": 3,
   "metadata": {
    "collapsed": true
   },
   "outputs": [],
   "source": [
    "# INPUT PARAMETERS\n",
    "\n",
    "DIR = \"../ib-data/nyse-daily-tech/\"\n",
    "\n",
    "BT_START_DT = '2017-01-03'\n",
    "\n",
    "PAIR_FORMATION_LEN = 60\n",
    "\n",
    "# top PCT percentage of the pairs with lowest distance will be backtested\n",
    "PCT = 0.01\n",
    "\n",
    "# STRATEGY PARAMETERS\n",
    "LOOKBACK_VALUE = [10]\n",
    "ENTER_THRESHOLD_SIZE = [2]\n",
    "EXIT_THRESHOLD_SIZE = [0.5]\n",
    "LOSS_LIMIT = [-0.005]\n",
    "MAX_LOOKBACK = max(LOOKBACK_VALUE)\n",
    "\n",
    "# Where to save the ouputs\n",
    "DST_DIR = \"../backtest-results/distance/test1/\""
   ]
  },
  {
   "cell_type": "markdown",
   "metadata": {},
   "source": [
    "### Save these configurations ..."
   ]
  },
  {
   "cell_type": "code",
   "execution_count": 4,
   "metadata": {},
   "outputs": [],
   "source": [
    "CONFIG = {\n",
    "    'DIR': DIR,\n",
    "    'BT_START_DT': BT_START_DT,\n",
    "    'PAIR_FORMATION_LEN': PAIR_FORMATION_LEN,\n",
    "    'PCT': PCT,\n",
    "    'LOOKBACK_VALUE': LOOKBACK_VALUE,\n",
    "    'ENTER_THRESHOLD_SIZE': ENTER_THRESHOLD_SIZE,\n",
    "    'EXIT_THRESHOLD_SIZE': EXIT_THRESHOLD_SIZE,\n",
    "    'LOSS_LIMIT': LOSS_LIMIT,\n",
    "    'MAX_LOOKBACK': MAX_LOOKBACK,\n",
    "    'DST_DIR': DST_DIR,\n",
    "}\n",
    "\n",
    "# create json string\n",
    "CONFIG_JSON_STR = json.dumps(CONFIG)\n",
    "\n",
    "# create directory if neccessary\n",
    "if not os.path.exists(DST_DIR):\n",
    "    os.makedirs(DST_DIR)\n",
    "    \n",
    "# save json string to a file\n",
    "with open(DST_DIR + 'config.json', 'w') as outfile:\n",
    "    json.dump(CONFIG_JSON_STR, outfile)"
   ]
  },
  {
   "cell_type": "markdown",
   "metadata": {},
   "source": [
    "### Data wrangling :)"
   ]
  },
  {
   "cell_type": "code",
   "execution_count": 5,
   "metadata": {},
   "outputs": [
    {
     "name": "stdout",
     "output_type": "stream",
     "text": [
      "---------------------------------------------------------------------\n",
      "Initial number of datafeeds: 2517.\n",
      "To fulfill BT_START_DT, PAIR_FORMATION_LEN and MAX_LOOKBACK, size = 575.\n",
      "After cutting datafeeds, 131 datafeeds remaining.\n",
      "No null values detected in aggregated close price df.\n",
      "From 8515 pairs, pick the top 85 pairs in terms of MSE score.\n",
      "---------------------------------------------------------------------\n"
     ]
    }
   ],
   "source": [
    "print(\"---------------------------------------------------------------------\")\n",
    "\n",
    "###################################################################################################################\n",
    "# Load data\n",
    "data = GSTools.load_csv_files(DIR)\n",
    "dt_idx = GSTools.get_trading_dates(data)\n",
    "\n",
    "print(\"Initial number of datafeeds: \" + str(len(dt_idx)) + \".\")\n",
    "\n",
    "###################################################################################################################\n",
    "# get position of intended start date of backtest\n",
    "bt_start_idx = dt_idx.get_loc('2017-01-03')\n",
    "size = PAIR_FORMATION_LEN + MAX_LOOKBACK + (len(dt_idx) - bt_start_idx)\n",
    "\n",
    "print(\"To fulfill BT_START_DT, PAIR_FORMATION_LEN and MAX_LOOKBACK, size = \" + str(size) + \".\")\n",
    "\n",
    "# get datafeeds which fulfill size requirement\n",
    "data = GSTools.cut_datafeeds(data, size=size)\n",
    "\n",
    "print(\"After cutting datafeeds, \" + str(len(data.keys())) + \" datafeeds remaining.\")\n",
    "\n",
    "###################################################################################################################\n",
    "# just to be safe, sync the start end dates of the dataframes\n",
    "data, start_dt, end_dt = GSTools.sync_start_end(data)\n",
    "dt_idx = GSTools.get_trading_dates(data)\n",
    "\n",
    "###################################################################################################################\n",
    "# get aggregated close prices\n",
    "close_df = GSTools.get_aggregated(data, col='close')\n",
    "\n",
    "if close_df.isnull().values.any():\n",
    "    warnings.warn(\"There are null values in the aggregated close price df.\")\n",
    "else:\n",
    "    print(\"No null values detected in aggregated close price df.\")\n",
    "\n",
    "###################################################################################################################\n",
    "# total number of stocks remaining\n",
    "N = len(data.keys())\n",
    "\n",
    "# number of pairs of interest\n",
    "K = int(PCT * N * (N-1) / 2)\n",
    "\n",
    "print(\"From \" + str(int(N * (N-1) / 2)) + \" pairs, pick the top \" + str(K) + \" pairs in terms of MSE score.\")\n",
    "\n",
    "###################################################################################################################\n",
    "# pair selection\n",
    "good_pairs = select_pairs_for_all_combin(train_df=close_df[0:PAIR_FORMATION_LEN], test_df=None,\n",
    "        config={'n': K, 'score_function': distance_score, 'series_transform': distance_transform}, plot=False)\n",
    "\n",
    "print(\"---------------------------------------------------------------------\")"
   ]
  },
  {
   "cell_type": "markdown",
   "metadata": {},
   "source": [
    "### OK let's do grid search!"
   ]
  },
  {
   "cell_type": "code",
   "execution_count": 6,
   "metadata": {},
   "outputs": [
    {
     "name": "stdout",
     "output_type": "stream",
     "text": [
      "Running 1/1\n",
      "Backtesting all pairs using parameters (10, 2, 0.5, -0.005)\n",
      "-------------------------------------------------------------------------------------\n"
     ]
    }
   ],
   "source": [
    "# combinations of parameters\n",
    "param_combinations = list(itertools.product(LOOKBACK_VALUE, ENTER_THRESHOLD_SIZE, EXIT_THRESHOLD_SIZE, LOSS_LIMIT))\n",
    "\n",
    "# list to store MACRO results\n",
    "macro_results = []\n",
    "\n",
    "for i, params in enumerate(param_combinations, 1):\n",
    "    # set params\n",
    "    print(\"Running \" + str(i) + \"/\" + str(len(param_combinations)))\n",
    "    print(\"Backtesting all pairs using parameters \" + str(params))\n",
    "    # list to store MICRO results\n",
    "    results = []\n",
    "\n",
    "    for pair in good_pairs:\n",
    "        # get names of both stock\n",
    "        stk0, stk1 = pair\n",
    "\n",
    "        # get data of both stock\n",
    "        stk0_df, stk1_df = data[stk0], data[stk1]\n",
    "        stk0_df_test = stk0_df[PAIR_FORMATION_LEN + MAX_LOOKBACK : ]\n",
    "        stk1_df_test = stk1_df[PAIR_FORMATION_LEN + MAX_LOOKBACK : ]\n",
    "        \n",
    "        # Create a cerebro\n",
    "        cerebro = bt.Cerebro()\n",
    "\n",
    "        # Create data feeds\n",
    "        data0 = bt.feeds.PandasData(dataname=stk0_df_test, timeframe=(bt.TimeFrame.Days), datetime=0)\n",
    "        data1 = bt.feeds.PandasData(dataname=stk1_df_test, timeframe=(bt.TimeFrame.Days), datetime=0)\n",
    "\n",
    "        # add data feeds to cerebro\n",
    "        cerebro.adddata(data0)\n",
    "        cerebro.adddata(data1)\n",
    "\n",
    "        # Add the strategy\n",
    "        cerebro.addstrategy(DistanceStrategy, \n",
    "                            lookback=params[0],\n",
    "                            max_lookback=MAX_LOOKBACK,\n",
    "                            enter_threshold_size=params[1], \n",
    "                            exit_threshold_size=params[2], \n",
    "                            loss_limit=params[3])\n",
    "\n",
    "        # Add analyzers\n",
    "        cerebro.addanalyzer(bt.analyzers.SharpeRatio, _name='mysharpe')\n",
    "        cerebro.addanalyzer(Metrics, \n",
    "                            lookback=MAX_LOOKBACK, \n",
    "                            _name='metrics')\n",
    "\n",
    "        # Add the commission - only stocks like a for each operation\n",
    "        cerebro.broker.setcash(1000000)\n",
    "\n",
    "        # And run it\n",
    "        strat = cerebro.run()\n",
    "\n",
    "        # get MICRO metrics\n",
    "        sharperatio = strat[0].analyzers.mysharpe.get_analysis()['sharperatio']\n",
    "        returnstd = strat[0].analyzers.metrics.returns_std()\n",
    "        startcash = cerebro.getbroker().startingcash\n",
    "        endcash = cerebro.getbroker().getvalue()\n",
    "        profit = (endcash - startcash) / startcash\n",
    "        \n",
    "        results.append((stk0 + \"-\" + stk1, sharperatio, profit, returnstd))\n",
    "    \n",
    "    # convert to dataframe\n",
    "    results_df = pd.DataFrame(results)\n",
    "    results_df.columns = ['pair', 'sharpe_ratio', 'overall_return', 'returns_std']\n",
    "    \n",
    "    # save as csv\n",
    "    uuid_str = str(uuid.uuid4())\n",
    "    path = DST_DIR + str(uuid_str) + \".csv\" \n",
    "    results_df.to_csv(path_or_buf=path, index=False)\n",
    "    \n",
    "    # calculate MACRO attributes\n",
    "    avg_sharpe_ratio = results_df['sharpe_ratio'].mean()\n",
    "    avg_overall_return = results_df['overall_return'].mean()\n",
    "    overall_return_std = results_df['overall_return'].std()\n",
    "    \n",
    "    macro_results.append((params[0], \n",
    "                          params[1], \n",
    "                          params[2], \n",
    "                          params[3],\n",
    "                          avg_sharpe_ratio, \n",
    "                          avg_overall_return,\n",
    "                          overall_return_std,\n",
    "                          uuid_str\n",
    "                         ))\n",
    "    \n",
    "    # nextline\n",
    "    print(\"\")\n",
    "\n",
    "macro_results_df = pd.DataFrame(macro_results)\n",
    "macro_results_df.columns = ['lookback', \n",
    "                            'enter_threshold_size', \n",
    "                            'exit_threshold_size',\n",
    "                            'loss_limit', \n",
    "                            'avg_sharpe_ratio', \n",
    "                            'avg_overall_return', \n",
    "                            'overall_return_std',\n",
    "                            'uuid']\n",
    "macro_results_df.to_csv(DST_DIR + 'summary.csv', index=False)"
   ]
  },
  {
   "cell_type": "markdown",
   "metadata": {},
   "source": [
    "### Now, if you're interested to look into one specific pair .. "
   ]
  },
  {
   "cell_type": "code",
   "execution_count": 7,
   "metadata": {
    "collapsed": true
   },
   "outputs": [],
   "source": [
    "# set your params\n",
    "_STK0 = 'CACI'\n",
    "_STK1 = 'LDOS'\n",
    "_LOOKBACK = 10\n",
    "_ENTER_THRESHOLD_SIZE = 2\n",
    "_EXIT_THRESHOLD_SIZE = 0.5\n",
    "_LOSS_LIMIT = -0.005"
   ]
  },
  {
   "cell_type": "code",
   "execution_count": 8,
   "metadata": {
    "collapsed": true
   },
   "outputs": [],
   "source": [
    "def backtest_single_pair(_stk0, _stk1, _lookback, _enter_threshold_size, _exit_threshold_size, _loss_limit):\n",
    "    # get data of both stock\n",
    "    stk0_df, stk1_df = data[_stk0], data[_stk1]\n",
    "    stk0_df_test = stk0_df[PAIR_FORMATION_LEN + MAX_LOOKBACK : ]\n",
    "    stk1_df_test = stk1_df[PAIR_FORMATION_LEN + MAX_LOOKBACK : ]\n",
    "\n",
    "    # Create a cerebro\n",
    "    cerebro = bt.Cerebro()\n",
    "\n",
    "    # Create data feeds\n",
    "    data0 = bt.feeds.PandasData(dataname=stk0_df_test, timeframe=(bt.TimeFrame.Days), datetime=0)\n",
    "    data1 = bt.feeds.PandasData(dataname=stk1_df_test, timeframe=(bt.TimeFrame.Days), datetime=0)\n",
    "\n",
    "    # add data feeds to cerebro\n",
    "    cerebro.adddata(data0)\n",
    "    cerebro.adddata(data1)\n",
    "\n",
    "    # Add the strategy\n",
    "    cerebro.addstrategy(DistanceStrategy, \n",
    "                        lookback=_lookback,\n",
    "                        max_lookback=MAX_LOOKBACK,\n",
    "                        enter_threshold_size=_enter_threshold_size, \n",
    "                        exit_threshold_size=_exit_threshold_size, \n",
    "                        loss_limit=_loss_limit,\n",
    "                        print_bar=False,\n",
    "                        print_msg=True,\n",
    "                        print_transaction=True,\n",
    "                       )\n",
    "\n",
    "    # Add analyzers\n",
    "    cerebro.addanalyzer(bt.analyzers.SharpeRatio, _name='mysharpe')\n",
    "    cerebro.addanalyzer(Metrics, \n",
    "                        lookback=MAX_LOOKBACK, \n",
    "                        _name='metrics')\n",
    "\n",
    "    # Add the commission - only stocks like a for each operation\n",
    "    cerebro.broker.setcash(1000000)\n",
    "\n",
    "    # And run it\n",
    "    strat = cerebro.run()\n",
    "    \n",
    "    return (cerebro, strat)"
   ]
  },
  {
   "cell_type": "code",
   "execution_count": 10,
   "metadata": {},
   "outputs": [
    {
     "name": "stdout",
     "output_type": "stream",
     "text": [
      "2017-01-20T00:00:00, BUY COMPLETE, 118.83\n",
      "2017-01-20T00:00:00, SELL COMPLETE, 49.91\n",
      "2017-01-23T00:00:00, SELL COMPLETE, 119.55\n",
      "2017-01-23T00:00:00, BUY COMPLETE, 49.58\n",
      "2017-01-24T00:00:00, BUY COMPLETE, 123.08\n",
      "2017-01-24T00:00:00, SELL COMPLETE, 49.33\n",
      "2017-01-25T00:00:00, SELL COMPLETE, 123.97\n",
      "2017-01-25T00:00:00, BUY COMPLETE, 49.75\n",
      "2017-02-03T00:00:00, SELL COMPLETE, 132.75\n",
      "2017-02-03T00:00:00, BUY COMPLETE, 49.23\n",
      "2017-02-13T00:00:00, BUY COMPLETE, 127.10\n",
      "2017-02-13T00:00:00, SELL COMPLETE, 51.02\n",
      "2017-03-20T00:00:00, SELL COMPLETE, 120.95\n",
      "2017-03-20T00:00:00, BUY COMPLETE, 53.86\n",
      "2017-03-21T00:00:00, BUY COMPLETE, 120.30\n",
      "2017-03-21T00:00:00, SELL COMPLETE, 54.01\n",
      "2017-04-04T00:00:00, BUY COMPLETE, 113.10\n",
      "2017-04-04T00:00:00, SELL COMPLETE, 50.42\n",
      "2017-04-05T00:00:00, SELL COMPLETE, 117.62\n",
      "2017-04-05T00:00:00, BUY COMPLETE, 51.01\n",
      "2017-05-05T00:00:00, SELL COMPLETE, 127.85\n",
      "2017-05-05T00:00:00, BUY COMPLETE, 54.55\n",
      "2017-05-09T00:00:00, BUY COMPLETE, 126.35\n",
      "2017-05-09T00:00:00, SELL COMPLETE, 53.60\n",
      "2017-06-13T00:00:00, SELL COMPLETE, 125.15\n",
      "2017-06-13T00:00:00, BUY COMPLETE, 55.42\n",
      "2017-06-15T00:00:00, BUY COMPLETE, 125.40\n",
      "2017-06-15T00:00:00, SELL COMPLETE, 54.70\n",
      "2017-07-24T00:00:00, BUY COMPLETE, 130.97\n",
      "2017-07-24T00:00:00, SELL COMPLETE, 53.44\n",
      "2017-07-25T00:00:00, SELL COMPLETE, 125.08\n",
      "2017-07-25T00:00:00, BUY COMPLETE, 53.55\n",
      "2017-07-27T00:00:00, BUY COMPLETE, 130.00\n",
      "2017-07-27T00:00:00, SELL COMPLETE, 53.55\n",
      "2017-07-28T00:00:00, SELL COMPLETE, 130.00\n",
      "2017-07-28T00:00:00, BUY COMPLETE, 53.35\n",
      "2017-09-01T00:00:00, SELL COMPLETE, 129.95\n",
      "2017-09-01T00:00:00, BUY COMPLETE, 58.76\n",
      "2017-09-08T00:00:00, BUY COMPLETE, 129.15\n",
      "2017-09-08T00:00:00, SELL COMPLETE, 57.65\n",
      "2017-10-25T00:00:00, SELL COMPLETE, 146.55\n",
      "2017-10-25T00:00:00, BUY COMPLETE, 64.08\n",
      "2017-11-02T00:00:00, Margin ,\n",
      "2017-11-02T00:00:00, SELL COMPLETE, 61.90\n",
      "2017-11-03T00:00:00, BUY COMPLETE, 133.20\n",
      "2017-11-03T00:00:00, BUY COMPLETE, 62.91\n",
      "2017-11-06T00:00:00, BUY COMPLETE, 129.70\n",
      "2017-11-06T00:00:00, SELL COMPLETE, 63.73\n",
      "2017-11-07T00:00:00, SELL COMPLETE, 128.30\n",
      "2017-11-07T00:00:00, BUY COMPLETE, 63.17\n",
      "2017-11-22T00:00:00, SELL COMPLETE, 131.38\n",
      "2017-11-22T00:00:00, BUY COMPLETE, 61.45\n",
      "2017-11-24T00:00:00, BUY COMPLETE, 128.18\n",
      "2017-11-24T00:00:00, SELL COMPLETE, 61.35\n",
      "2018-01-04T00:00:00, SELL COMPLETE, 138.45\n",
      "2018-01-04T00:00:00, BUY COMPLETE, 63.88\n",
      "2018-01-16T00:00:00, BUY COMPLETE, 137.78\n",
      "2018-01-16T00:00:00, SELL COMPLETE, 69.79\n",
      "2018-01-29T00:00:00, SELL COMPLETE, 141.38\n",
      "2018-01-29T00:00:00, BUY COMPLETE, 66.28\n",
      "2018-02-06T00:00:00, BUY COMPLETE, 137.90\n",
      "2018-02-06T00:00:00, SELL COMPLETE, 62.62\n",
      "2018-02-27T00:00:00, SELL COMPLETE, 153.22\n",
      "2018-02-27T00:00:00, BUY COMPLETE, 66.47\n",
      "2018-02-28T00:00:00, BUY COMPLETE, 152.57\n",
      "2018-02-28T00:00:00, SELL COMPLETE, 65.44\n",
      "2018-03-13T00:00:00, BUY COMPLETE, 153.97\n",
      "2018-03-13T00:00:00, SELL COMPLETE, 69.81\n",
      "2018-03-14T00:00:00, SELL COMPLETE, 154.65\n",
      "2018-03-14T00:00:00, BUY COMPLETE, 69.39\n",
      "2018-03-19T00:00:00, SELL COMPLETE, 152.05\n",
      "2018-03-19T00:00:00, BUY COMPLETE, 67.41\n",
      "2018-03-20T00:00:00, Margin ,\n",
      "2018-03-20T00:00:00, SELL COMPLETE, 67.34\n",
      "2018-03-21T00:00:00, BUY COMPLETE, 152.38\n",
      "2018-03-21T00:00:00, BUY COMPLETE, 67.67\n",
      "2018-05-31T00:00:00, SELL COMPLETE, 167.45\n",
      "2018-05-31T00:00:00, BUY COMPLETE, 60.78\n",
      "2018-06-01T00:00:00, BUY COMPLETE, 167.55\n",
      "2018-06-01T00:00:00, SELL COMPLETE, 60.43\n",
      "2018-06-22T00:00:00, SELL COMPLETE, 174.40\n",
      "2018-06-22T00:00:00, BUY COMPLETE, 57.75\n",
      "2018-07-27T00:00:00, BUY COMPLETE, 177.28\n",
      "2018-07-27T00:00:00, SELL COMPLETE, 68.47\n",
      "2018-07-31T00:00:00, BUY COMPLETE, 164.15\n",
      "2018-07-31T00:00:00, SELL COMPLETE, 68.44\n",
      "2018-08-01T00:00:00, SELL COMPLETE, 175.20\n",
      "2018-08-01T00:00:00, BUY COMPLETE, 68.45\n",
      "2018-08-17T00:00:00, SELL COMPLETE, 183.97\n",
      "2018-08-17T00:00:00, BUY COMPLETE, 70.77\n",
      "2018-08-24T00:00:00, BUY COMPLETE, 193.45\n",
      "2018-08-24T00:00:00, SELL COMPLETE, 69.73\n",
      "2018-09-06T00:00:00, SELL COMPLETE, 198.88\n",
      "2018-09-06T00:00:00, BUY COMPLETE, 70.69\n",
      "2018-09-10T00:00:00, BUY COMPLETE, 196.95\n",
      "2018-09-10T00:00:00, SELL COMPLETE, 72.31\n",
      "2018-09-20T00:00:00, BUY COMPLETE, 188.97\n",
      "2018-09-20T00:00:00, SELL COMPLETE, 68.82\n",
      "2018-09-21T00:00:00, SELL COMPLETE, 185.43\n",
      "2018-09-21T00:00:00, BUY COMPLETE, 69.22\n",
      "2018-10-12T00:00:00, BUY COMPLETE, 177.97\n",
      "2018-10-12T00:00:00, SELL COMPLETE, 65.88\n",
      "2018-10-15T00:00:00, SELL COMPLETE, 177.44\n",
      "2018-10-15T00:00:00, BUY COMPLETE, 64.48\n",
      "2018-11-08T00:00:00, SELL COMPLETE, 180.44\n",
      "2018-11-08T00:00:00, BUY COMPLETE, 65.45\n",
      "2018-11-12T00:00:00, BUY COMPLETE, 181.44\n",
      "2018-11-12T00:00:00, SELL COMPLETE, 65.11\n",
      "2018-11-28T00:00:00, BUY COMPLETE, 172.58\n",
      "2018-11-28T00:00:00, SELL COMPLETE, 63.01\n",
      "2018-11-29T00:00:00, SELL COMPLETE, 170.43\n",
      "2018-11-29T00:00:00, BUY COMPLETE, 62.97\n",
      "==================================================\n",
      "Starting Value: 1000000.00\n",
      "Ending   Value: 1227939.52\n",
      "==================================================\n"
     ]
    }
   ],
   "source": [
    "cerebro, strat = backtest_single_pair(_STK0, _STK1, _LOOKBACK, _ENTER_THRESHOLD_SIZE, _EXIT_THRESHOLD_SIZE, _LOSS_LIMIT)"
   ]
  },
  {
   "cell_type": "code",
   "execution_count": 11,
   "metadata": {},
   "outputs": [
    {
     "name": "stderr",
     "output_type": "stream",
     "text": [
      "C:\\Users\\emara\\Anaconda3\\envs\\traders_nlp\\lib\\site-packages\\matplotlib\\__init__.py:1405: UserWarning: \n",
      "This call to matplotlib.use() has no effect because the backend has already\n",
      "been chosen; matplotlib.use() must be called *before* pylab, matplotlib.pyplot,\n",
      "or matplotlib.backends is imported for the first time.\n",
      "\n",
      "  warnings.warn(_use_error_msg)\n",
      "C:\\Users\\emara\\Anaconda3\\envs\\traders_nlp\\lib\\site-packages\\matplotlib\\__init__.py:1405: UserWarning: \n",
      "This call to matplotlib.use() has no effect because the backend has already\n",
      "been chosen; matplotlib.use() must be called *before* pylab, matplotlib.pyplot,\n",
      "or matplotlib.backends is imported for the first time.\n",
      "\n",
      "  warnings.warn(_use_error_msg)\n"
     ]
    },
    {
     "data": {
      "image/png": "[encoded data removed]",
      "text/plain": [
       "<matplotlib.figure.Figure at 0x20b3dfe5400>"
      ]
     },
     "metadata": {},
     "output_type": "display_data"
    },
    {
     "data": {
      "text/plain": [
       "[[<matplotlib.figure.Figure at 0x20b3dfe5400>]]"
      ]
     },
     "execution_count": 11,
     "metadata": {},
     "output_type": "execute_result"
    }
   ],
   "source": [
    "cerebro.plot()"
   ]
  },
  {
   "cell_type": "markdown",
   "metadata": {},
   "source": [
    "### Sharpe ratio, profit"
   ]
  },
  {
   "cell_type": "code",
   "execution_count": 12,
   "metadata": {},
   "outputs": [
    {
     "name": "stdout",
     "output_type": "stream",
     "text": [
      "1.0472010627811144\n",
      "0.22793951999999978\n"
     ]
    }
   ],
   "source": [
    "sharperatio = strat[0].analyzers.mysharpe.get_analysis()['sharperatio']\n",
    "startcash = cerebro.getbroker().startingcash\n",
    "endcash = cerebro.getbroker().getvalue()\n",
    "profit = (endcash - startcash) / startcash\n",
    "\n",
    "print(sharperatio)\n",
    "print(profit)"
   ]
  },
  {
   "cell_type": "markdown",
   "metadata": {},
   "source": [
    "### Trade statistics"
   ]
  },
  {
   "cell_type": "code",
   "execution_count": 13,
   "metadata": {},
   "outputs": [
    {
     "name": "stdout",
     "output_type": "stream",
     "text": [
      "29 29 0 2.896551724137931 -1\n"
     ]
    }
   ],
   "source": [
    "n_trades = strat[0].analyzers.metrics.n_trades\n",
    "n_resolved_trades = strat[0].analyzers.metrics.n_resolved_trades\n",
    "n_unresolved_trades = strat[0].analyzers.metrics.n_unresolved_trades\n",
    "avg_holding_period = strat[0].analyzers.metrics.avg_holding_period\n",
    "len_unresolved_trade= strat[0].analyzers.metrics.len_unresolved_trade\n",
    "\n",
    "returns = strat[0].analyzers.metrics.returns\n",
    "pv = strat[0].analyzers.metrics.pv\n",
    "\n",
    "print(n_trades, n_resolved_trades, n_unresolved_trades, avg_holding_period, len_unresolved_trade)"
   ]
  },
  {
   "cell_type": "code",
   "execution_count": 14,
   "metadata": {},
   "outputs": [
    {
     "data": {
      "image/png": "[encoded data removed]",
      "text/plain": [
       "<matplotlib.figure.Figure at 0x20b3e231828>"
      ]
     },
     "metadata": {},
     "output_type": "display_data"
    }
   ],
   "source": [
    "plt.plot(returns)\n",
    "plt.show()"
   ]
  },
  {
   "cell_type": "code",
   "execution_count": 15,
   "metadata": {},
   "outputs": [
    {
     "data": {
      "image/png": "[encoded data removed]",
      "text/plain": [
       "<matplotlib.figure.Figure at 0x20b3e705a20>"
      ]
     },
     "metadata": {},
     "output_type": "display_data"
    }
   ],
   "source": [
    "plt.plot(pv)\n",
    "plt.show()"
   ]
  },
  {
   "cell_type": "code",
   "execution_count": null,
   "metadata": {
    "collapsed": true
   },
   "outputs": [],
   "source": []
  }
 ],
 "metadata": {
  "kernelspec": {
   "display_name": "Python (traders_nlp)",
   "language": "python",
   "name": "traders_nlp"
  },
  "language_info": {
   "codemirror_mode": {
    "name": "ipython",
    "version": 3
   },
   "file_extension": ".py",
   "mimetype": "text/x-python",
   "name": "python",
   "nbconvert_exporter": "python",
   "pygments_lexer": "ipython3",
   "version": "3.6.3"
  },
  "varInspector": {
   "cols": {
    "lenName": 16,
    "lenType": 16,
    "lenVar": 40
   },
   "kernels_config": {
    "python": {
     "delete_cmd_postfix": "",
     "delete_cmd_prefix": "del ",
     "library": "var_list.py",
     "varRefreshCmd": "print(var_dic_list())"
    },
    "r": {
     "delete_cmd_postfix": ") ",
     "delete_cmd_prefix": "rm(",
     "library": "var_list.r",
     "varRefreshCmd": "cat(var_dic_list()) "
    }
   },
   "types_to_exclude": [
    "module",
    "function",
    "builtin_function_or_method",
    "instance",
    "_Feature"
   ],
   "window_display": false
  }
 },
 "nbformat": 4,
 "nbformat_minor": 2
}
