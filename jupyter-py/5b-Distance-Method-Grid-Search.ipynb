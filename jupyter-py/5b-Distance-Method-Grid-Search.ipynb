{
 "cells": [
  {
   "cell_type": "code",
   "execution_count": 1,
   "metadata": {
    "collapsed": true
   },
   "outputs": [],
   "source": [
    "from grid_search_tools import GSTools\n",
    "from distance_method import DistanceStrategy, Metrics\n",
    "from pair_selector import *\n",
    "\n",
    "import backtrader as bt\n",
    "import backtrader.feeds as btfeeds\n",
    "import pandas as pd\n",
    "import warnings\n",
    "import glob\n",
    "import os\n",
    "import uuid\n",
    "import itertools\n",
    "import json\n",
    "\n",
    "%load_ext autoreload\n",
    "%autoreload 2"
   ]
  },
  {
   "cell_type": "markdown",
   "metadata": {},
   "source": [
    "### Don't touch this"
   ]
  },
  {
   "cell_type": "code",
   "execution_count": 9,
   "metadata": {
    "collapsed": true
   },
   "outputs": [],
   "source": [
    "class PandasData(bt.feed.DataBase):\n",
    "    '''\n",
    "    The ``dataname`` parameter inherited from ``feed.DataBase`` is the pandas\n",
    "    DataFrame\n",
    "    '''\n",
    "\n",
    "    params = (\n",
    "        ('datetime', 0),\n",
    "        ('open', -1),\n",
    "        ('high', -1),\n",
    "        ('low', -1),\n",
    "        ('close', -1),\n",
    "        ('volume', -1),\n",
    "        ('openinterest', -1),\n",
    "    )"
   ]
  },
  {
   "cell_type": "markdown",
   "metadata": {},
   "source": [
    "### Set your params"
   ]
  },
  {
   "cell_type": "code",
   "execution_count": 10,
   "metadata": {
    "collapsed": true
   },
   "outputs": [],
   "source": [
    "# INPUT PARAMETERS\n",
    "\n",
    "DIR = \"../ib-data/nyse-daily-tech/\"\n",
    "\n",
    "BT_START_DT = '2017-01-03'\n",
    "TEST_PERIOD = 252*2\n",
    "\n",
    "PAIR_FORMATION_LEN = 60\n",
    "\n",
    "# top PCT percentage of the pairs with lowest distance will be backtested\n",
    "PCT = 0.005\n",
    "\n",
    "# STRATEGY PARAMETERS\n",
    "LOOKBACK_VALUE = [50]\n",
    "ENTER_THRESHOLD_SIZE = [2, 3, 4]\n",
    "EXIT_THRESHOLD_SIZE = [0.5]\n",
    "LOSS_LIMIT = [-0.01, -0.02]\n",
    "MAX_LOOKBACK = max(LOOKBACK_VALUE)\n",
    "\n",
    "# Where to save the ouputs\n",
    "DST_DIR = \"../backtest-results/distance/test3/\""
   ]
  },
  {
   "cell_type": "markdown",
   "metadata": {},
   "source": [
    "### Save these configurations ..."
   ]
  },
  {
   "cell_type": "code",
   "execution_count": 11,
   "metadata": {
    "collapsed": true
   },
   "outputs": [],
   "source": [
    "CONFIG = {\n",
    "    'DIR': DIR,\n",
    "    'BT_START_DT': BT_START_DT,\n",
    "    'TEST_PERIOD': TEST_PERIOD,\n",
    "    'PAIR_FORMATION_LEN': PAIR_FORMATION_LEN,\n",
    "    'PCT': PCT,\n",
    "    'LOOKBACK_VALUE': LOOKBACK_VALUE,\n",
    "    'ENTER_THRESHOLD_SIZE': ENTER_THRESHOLD_SIZE,\n",
    "    'EXIT_THRESHOLD_SIZE': EXIT_THRESHOLD_SIZE,\n",
    "    'LOSS_LIMIT': LOSS_LIMIT,\n",
    "    'MAX_LOOKBACK': MAX_LOOKBACK,\n",
    "    'DST_DIR': DST_DIR,\n",
    "}\n",
    "\n",
    "# create json string\n",
    "CONFIG_JSON_STR = json.dumps(CONFIG)\n",
    "\n",
    "# create directory if neccessary\n",
    "if not os.path.exists(DST_DIR):\n",
    "    os.makedirs(DST_DIR)\n",
    "    \n",
    "# save json string to a file\n",
    "with open(DST_DIR + 'config.json', 'w') as outfile:\n",
    "    json.dump(CONFIG_JSON_STR, outfile)"
   ]
  },
  {
   "cell_type": "markdown",
   "metadata": {},
   "source": [
    "### Data wrangling :)"
   ]
  },
  {
   "cell_type": "code",
   "execution_count": 17,
   "metadata": {},
   "outputs": [
    {
     "name": "stdout",
     "output_type": "stream",
     "text": [
      "---------------------------------------------------------------------\n",
      "Initial number of datafeeds: 2517.\n",
      "To fulfill BT_START_DT, PAIR_FORMATION_LEN and MAX_LOOKBACK, size = 615.\n",
      "After cutting datafeeds, 131 datafeeds remaining.\n",
      "Backtest start date: 2017-01-03 00:00:00\n",
      "Backtest end date: 2019-01-03 00:00:00\n",
      "No null values detected in aggregated close price df.\n",
      "From 8515 pairs, pick the top 42 pairs in terms of MSE score.\n",
      "---------------------------------------------------------------------\n"
     ]
    }
   ],
   "source": [
    "print(\"---------------------------------------------------------------------\")\n",
    "\n",
    "###################################################################################################################\n",
    "# Load data\n",
    "data = GSTools.load_csv_files(DIR)\n",
    "dt_idx = GSTools.get_trading_dates(data)\n",
    "\n",
    "print(\"Initial number of datafeeds: \" + str(len(dt_idx)) + \".\")\n",
    "\n",
    "###################################################################################################################\n",
    "# get position of intended start date of backtest\n",
    "bt_start_idx = dt_idx.get_loc(BT_START_DT)\n",
    "size = PAIR_FORMATION_LEN + MAX_LOOKBACK + (len(dt_idx) - bt_start_idx)\n",
    "\n",
    "print(\"To fulfill BT_START_DT, PAIR_FORMATION_LEN and MAX_LOOKBACK, size = \" + str(size) + \".\")\n",
    "\n",
    "# get datafeeds which fulfill size requirement\n",
    "data = GSTools.cut_datafeeds(data, size=size)\n",
    "\n",
    "print(\"After cutting datafeeds, \" + str(len(data.keys())) + \" datafeeds remaining.\")\n",
    "\n",
    "###################################################################################################################\n",
    "# just to be safe, sync the start end dates of the dataframes\n",
    "data, start_dt, end_dt = GSTools.sync_start_end(data)\n",
    "dt_idx = GSTools.get_trading_dates(data)\n",
    "\n",
    "print(\"Backtest start date: \" + str(dt_idx[PAIR_FORMATION_LEN + MAX_LOOKBACK]))\n",
    "print(\"Backtest end date: \" + str(dt_idx[PAIR_FORMATION_LEN + MAX_LOOKBACK + TEST_PERIOD - 1]))\n",
    "\n",
    "###################################################################################################################\n",
    "# get aggregated close prices\n",
    "close_df = GSTools.get_aggregated(data, col='close')\n",
    "\n",
    "if close_df.isnull().values.any():\n",
    "    warnings.warn(\"There are null values in the aggregated close price df.\")\n",
    "else:\n",
    "    print(\"No null values detected in aggregated close price df.\")\n",
    "\n",
    "###################################################################################################################\n",
    "# total number of stocks remaining\n",
    "N = len(data.keys())\n",
    "\n",
    "# number of pairs of interest\n",
    "K = int(PCT * N * (N-1) / 2)\n",
    "\n",
    "print(\"From \" + str(int(N * (N-1) / 2)) + \" pairs, pick the top \" + str(K) + \" pairs in terms of MSE score.\")\n",
    "\n",
    "###################################################################################################################\n",
    "# pair selection\n",
    "good_pairs = select_pairs_for_all_combin(train_df=close_df[0:PAIR_FORMATION_LEN], test_df=None,\n",
    "        config={'n': K, 'score_function': distance_score, 'series_transform': distance_transform}, plot=False)\n",
    "\n",
    "print(\"---------------------------------------------------------------------\")"
   ]
  },
  {
   "cell_type": "markdown",
   "metadata": {},
   "source": [
    "### OK let's do grid search!"
   ]
  },
  {
   "cell_type": "code",
   "execution_count": 13,
   "metadata": {},
   "outputs": [
    {
     "name": "stdout",
     "output_type": "stream",
     "text": [
      "Running 1/6\n",
      "Backtesting all pairs using parameters (50, 2, 0.5, -0.01)\n",
      "------------------------------------------\n",
      "Running 2/6\n",
      "Backtesting all pairs using parameters (50, 2, 0.5, -0.02)\n",
      "------------------------------------------\n",
      "Running 3/6\n",
      "Backtesting all pairs using parameters (50, 3, 0.5, -0.01)\n",
      "------------------------------------------\n",
      "Running 4/6\n",
      "Backtesting all pairs using parameters (50, 3, 0.5, -0.02)\n",
      "------------------------------------------\n",
      "Running 5/6\n",
      "Backtesting all pairs using parameters (50, 4, 0.5, -0.01)\n",
      "------------------------------------------\n",
      "Running 6/6\n",
      "Backtesting all pairs using parameters (50, 4, 0.5, -0.02)\n",
      "------------------------------------------\n"
     ]
    }
   ],
   "source": [
    "# combinations of parameters\n",
    "param_combinations = list(itertools.product(LOOKBACK_VALUE, ENTER_THRESHOLD_SIZE, EXIT_THRESHOLD_SIZE, LOSS_LIMIT))\n",
    "\n",
    "# list to store MACRO results\n",
    "macro_results = []\n",
    "\n",
    "for i, params in enumerate(param_combinations, 1):\n",
    "    # set params\n",
    "    print(\"Running \" + str(i) + \"/\" + str(len(param_combinations)))\n",
    "    print(\"Backtesting all pairs using parameters \" + str(params))\n",
    "    # list to store MICRO results\n",
    "    results = []\n",
    "\n",
    "    for pair in good_pairs:\n",
    "        # get names of both stock\n",
    "        stk0, stk1 = pair\n",
    "\n",
    "        # get data of both stock\n",
    "        stk0_df, stk1_df = data[stk0], data[stk1]\n",
    "        stk0_df_test = stk0_df[PAIR_FORMATION_LEN + MAX_LOOKBACK : PAIR_FORMATION_LEN + MAX_LOOKBACK + TEST_PERIOD]\n",
    "        stk1_df_test = stk1_df[PAIR_FORMATION_LEN + MAX_LOOKBACK : PAIR_FORMATION_LEN + MAX_LOOKBACK + TEST_PERIOD]\n",
    "        \n",
    "        # Create a cerebro\n",
    "        cerebro = bt.Cerebro()\n",
    "\n",
    "        # Create data feeds\n",
    "        data0 = bt.feeds.PandasData(dataname=stk0_df_test, timeframe=(bt.TimeFrame.Days), datetime=0)\n",
    "        data1 = bt.feeds.PandasData(dataname=stk1_df_test, timeframe=(bt.TimeFrame.Days), datetime=0)\n",
    "\n",
    "        # add data feeds to cerebro\n",
    "        cerebro.adddata(data0)\n",
    "        cerebro.adddata(data1)\n",
    "\n",
    "        # Add the strategy\n",
    "        cerebro.addstrategy(DistanceStrategy, \n",
    "                            lookback=params[0],\n",
    "                            max_lookback=MAX_LOOKBACK,\n",
    "                            enter_threshold_size=params[1], \n",
    "                            exit_threshold_size=params[2], \n",
    "                            loss_limit=params[3])\n",
    "\n",
    "        # Add analyzers\n",
    "        cerebro.addanalyzer(bt.analyzers.SharpeRatio, _name='mysharpe')\n",
    "        cerebro.addanalyzer(Metrics, \n",
    "                            lookback=MAX_LOOKBACK, \n",
    "                            _name='metrics')\n",
    "\n",
    "        # Add the commission - only stocks like a for each operation\n",
    "        cerebro.broker.setcash(1000000)\n",
    "\n",
    "        # And run it\n",
    "        strat = cerebro.run()\n",
    "\n",
    "        # get MICRO metrics\n",
    "        sharperatio = strat[0].analyzers.mysharpe.get_analysis()['sharperatio']\n",
    "        returnstd = strat[0].analyzers.metrics.returns_std()\n",
    "        startcash = cerebro.getbroker().startingcash\n",
    "        endcash = cerebro.getbroker().getvalue()\n",
    "        profit = (endcash - startcash) / startcash\n",
    "        \n",
    "        results.append((stk0 + \"-\" + stk1, sharperatio, profit, returnstd))\n",
    "    \n",
    "    # convert to dataframe\n",
    "    results_df = pd.DataFrame(results)\n",
    "    results_df.columns = ['pair', 'sharpe_ratio', 'overall_return', 'returns_std']\n",
    "    \n",
    "    # save as csv\n",
    "    uuid_str = str(uuid.uuid4())\n",
    "    path = DST_DIR + str(uuid_str) + \".csv\" \n",
    "    results_df.to_csv(path_or_buf=path, index=False)\n",
    "    \n",
    "    # calculate MACRO attributes\n",
    "    avg_sharpe_ratio = results_df['sharpe_ratio'].mean()\n",
    "    avg_overall_return = results_df['overall_return'].mean()\n",
    "    overall_return_std = results_df['overall_return'].std()\n",
    "    \n",
    "    macro_results.append((params[0], \n",
    "                          params[1], \n",
    "                          params[2], \n",
    "                          params[3],\n",
    "                          avg_sharpe_ratio, \n",
    "                          avg_overall_return,\n",
    "                          overall_return_std,\n",
    "                          uuid_str\n",
    "                         ))\n",
    "    \n",
    "    # nextline\n",
    "    print(\"\")\n",
    "\n",
    "macro_results_df = pd.DataFrame(macro_results)\n",
    "macro_results_df.columns = ['lookback', \n",
    "                            'enter_threshold_size', \n",
    "                            'exit_threshold_size',\n",
    "                            'loss_limit', \n",
    "                            'avg_sharpe_ratio', \n",
    "                            'avg_overall_return', \n",
    "                            'overall_return_std',\n",
    "                            'uuid']\n",
    "macro_results_df.to_csv(DST_DIR + 'summary.csv', index=False)"
   ]
  },
  {
   "cell_type": "code",
   "execution_count": 14,
   "metadata": {},
   "outputs": [
    {
     "data": {
      "text/html": [
       "<div>\n",
       "<style>\n",
       "    .dataframe thead tr:only-child th {\n",
       "        text-align: right;\n",
       "    }\n",
       "\n",
       "    .dataframe thead th {\n",
       "        text-align: left;\n",
       "    }\n",
       "\n",
       "    .dataframe tbody tr th {\n",
       "        vertical-align: top;\n",
       "    }\n",
       "</style>\n",
       "<table border=\"1\" class=\"dataframe\">\n",
       "  <thead>\n",
       "    <tr style=\"text-align: right;\">\n",
       "      <th></th>\n",
       "      <th>lookback</th>\n",
       "      <th>enter_threshold_size</th>\n",
       "      <th>exit_threshold_size</th>\n",
       "      <th>loss_limit</th>\n",
       "      <th>avg_sharpe_ratio</th>\n",
       "      <th>avg_overall_return</th>\n",
       "      <th>overall_return_std</th>\n",
       "      <th>uuid</th>\n",
       "    </tr>\n",
       "  </thead>\n",
       "  <tbody>\n",
       "    <tr>\n",
       "      <th>0</th>\n",
       "      <td>50</td>\n",
       "      <td>2</td>\n",
       "      <td>0.5</td>\n",
       "      <td>-0.01</td>\n",
       "      <td>-0.257321</td>\n",
       "      <td>-0.024012</td>\n",
       "      <td>0.374445</td>\n",
       "      <td>882143bd-a877-44c9-9e79-ddba51635000</td>\n",
       "    </tr>\n",
       "    <tr>\n",
       "      <th>1</th>\n",
       "      <td>50</td>\n",
       "      <td>2</td>\n",
       "      <td>0.5</td>\n",
       "      <td>-0.02</td>\n",
       "      <td>-1.233001</td>\n",
       "      <td>-0.002130</td>\n",
       "      <td>0.411350</td>\n",
       "      <td>28a40ed9-625d-4675-b8d4-2877b41b7ef9</td>\n",
       "    </tr>\n",
       "    <tr>\n",
       "      <th>2</th>\n",
       "      <td>50</td>\n",
       "      <td>3</td>\n",
       "      <td>0.5</td>\n",
       "      <td>-0.01</td>\n",
       "      <td>-0.188678</td>\n",
       "      <td>0.069324</td>\n",
       "      <td>0.242703</td>\n",
       "      <td>883f6e26-af73-47cb-9146-6314d0068e2d</td>\n",
       "    </tr>\n",
       "    <tr>\n",
       "      <th>3</th>\n",
       "      <td>50</td>\n",
       "      <td>3</td>\n",
       "      <td>0.5</td>\n",
       "      <td>-0.02</td>\n",
       "      <td>-0.186564</td>\n",
       "      <td>0.059003</td>\n",
       "      <td>0.264144</td>\n",
       "      <td>6a60c6ef-569d-405a-ab47-bb53f4fe5b09</td>\n",
       "    </tr>\n",
       "    <tr>\n",
       "      <th>4</th>\n",
       "      <td>50</td>\n",
       "      <td>4</td>\n",
       "      <td>0.5</td>\n",
       "      <td>-0.01</td>\n",
       "      <td>-3.176465</td>\n",
       "      <td>-0.022073</td>\n",
       "      <td>0.064010</td>\n",
       "      <td>8b9c1625-8730-4c21-8793-46c32579aa74</td>\n",
       "    </tr>\n",
       "    <tr>\n",
       "      <th>5</th>\n",
       "      <td>50</td>\n",
       "      <td>4</td>\n",
       "      <td>0.5</td>\n",
       "      <td>-0.02</td>\n",
       "      <td>-2.924199</td>\n",
       "      <td>-0.019973</td>\n",
       "      <td>0.092268</td>\n",
       "      <td>b635c77e-d1fa-467e-9152-85fc02b11ebf</td>\n",
       "    </tr>\n",
       "  </tbody>\n",
       "</table>\n",
       "</div>"
      ],
      "text/plain": [
       "   lookback  enter_threshold_size  exit_threshold_size  loss_limit  \\\n",
       "0        50                     2                  0.5       -0.01   \n",
       "1        50                     2                  0.5       -0.02   \n",
       "2        50                     3                  0.5       -0.01   \n",
       "3        50                     3                  0.5       -0.02   \n",
       "4        50                     4                  0.5       -0.01   \n",
       "5        50                     4                  0.5       -0.02   \n",
       "\n",
       "   avg_sharpe_ratio  avg_overall_return  overall_return_std  \\\n",
       "0         -0.257321           -0.024012            0.374445   \n",
       "1         -1.233001           -0.002130            0.411350   \n",
       "2         -0.188678            0.069324            0.242703   \n",
       "3         -0.186564            0.059003            0.264144   \n",
       "4         -3.176465           -0.022073            0.064010   \n",
       "5         -2.924199           -0.019973            0.092268   \n",
       "\n",
       "                                   uuid  \n",
       "0  882143bd-a877-44c9-9e79-ddba51635000  \n",
       "1  28a40ed9-625d-4675-b8d4-2877b41b7ef9  \n",
       "2  883f6e26-af73-47cb-9146-6314d0068e2d  \n",
       "3  6a60c6ef-569d-405a-ab47-bb53f4fe5b09  \n",
       "4  8b9c1625-8730-4c21-8793-46c32579aa74  \n",
       "5  b635c77e-d1fa-467e-9152-85fc02b11ebf  "
      ]
     },
     "execution_count": 14,
     "metadata": {},
     "output_type": "execute_result"
    }
   ],
   "source": [
    "macro_results_df = pd.read_csv(DST_DIR + \"summary.csv\")\n",
    "macro_results_df"
   ]
  },
  {
   "cell_type": "code",
   "execution_count": 15,
   "metadata": {},
   "outputs": [
    {
     "data": {
      "text/html": [
       "<div>\n",
       "<style>\n",
       "    .dataframe thead tr:only-child th {\n",
       "        text-align: right;\n",
       "    }\n",
       "\n",
       "    .dataframe thead th {\n",
       "        text-align: left;\n",
       "    }\n",
       "\n",
       "    .dataframe tbody tr th {\n",
       "        vertical-align: top;\n",
       "    }\n",
       "</style>\n",
       "<table border=\"1\" class=\"dataframe\">\n",
       "  <thead>\n",
       "    <tr style=\"text-align: right;\">\n",
       "      <th></th>\n",
       "      <th>lookback</th>\n",
       "      <th>enter_threshold_size</th>\n",
       "      <th>exit_threshold_size</th>\n",
       "      <th>loss_limit</th>\n",
       "      <th>avg_sharpe_ratio</th>\n",
       "      <th>avg_overall_return</th>\n",
       "      <th>overall_return_std</th>\n",
       "      <th>uuid</th>\n",
       "    </tr>\n",
       "  </thead>\n",
       "  <tbody>\n",
       "    <tr>\n",
       "      <th>2</th>\n",
       "      <td>50</td>\n",
       "      <td>3</td>\n",
       "      <td>0.5</td>\n",
       "      <td>-0.01</td>\n",
       "      <td>-0.188678</td>\n",
       "      <td>0.069324</td>\n",
       "      <td>0.242703</td>\n",
       "      <td>883f6e26-af73-47cb-9146-6314d0068e2d</td>\n",
       "    </tr>\n",
       "  </tbody>\n",
       "</table>\n",
       "</div>"
      ],
      "text/plain": [
       "   lookback  enter_threshold_size  exit_threshold_size  loss_limit  \\\n",
       "2        50                     3                  0.5       -0.01   \n",
       "\n",
       "   avg_sharpe_ratio  avg_overall_return  overall_return_std  \\\n",
       "2         -0.188678            0.069324            0.242703   \n",
       "\n",
       "                                   uuid  \n",
       "2  883f6e26-af73-47cb-9146-6314d0068e2d  "
      ]
     },
     "execution_count": 15,
     "metadata": {},
     "output_type": "execute_result"
    }
   ],
   "source": [
    "macro_results_df[macro_results_df['avg_overall_return'] == max(macro_results_df['avg_overall_return'])]"
   ]
  },
  {
   "cell_type": "code",
   "execution_count": null,
   "metadata": {
    "collapsed": true
   },
   "outputs": [],
   "source": []
  },
  {
   "cell_type": "markdown",
   "metadata": {},
   "source": [
    "### Now, if you're interested to look into one specific pair .. "
   ]
  },
  {
   "cell_type": "code",
   "execution_count": 10,
   "metadata": {
    "collapsed": true
   },
   "outputs": [],
   "source": [
    "# set your params\n",
    "_STK0 = 'BOX'\n",
    "_STK1 = 'PRO'\n",
    "_LOOKBACK = 50\n",
    "_ENTER_THRESHOLD_SIZE = 3\n",
    "_EXIT_THRESHOLD_SIZE = 0.5\n",
    "_LOSS_LIMIT = -0.02"
   ]
  },
  {
   "cell_type": "code",
   "execution_count": 11,
   "metadata": {
    "collapsed": true
   },
   "outputs": [],
   "source": [
    "def backtest_single_pair(_stk0, _stk1, _lookback, _enter_threshold_size, _exit_threshold_size, _loss_limit):\n",
    "    # get data of both stock\n",
    "    stk0_df, stk1_df = data[_stk0], data[_stk1]\n",
    "    stk0_df_test = stk0_df[PAIR_FORMATION_LEN + MAX_LOOKBACK : PAIR_FORMATION_LEN + MAX_LOOKBACK + TEST_PERIOD]\n",
    "    stk1_df_test = stk1_df[PAIR_FORMATION_LEN + MAX_LOOKBACK : PAIR_FORMATION_LEN + MAX_LOOKBACK + TEST_PERIOD]\n",
    "\n",
    "    # Create a cerebro\n",
    "    cerebro = bt.Cerebro()\n",
    "\n",
    "    # Create data feeds\n",
    "    data0 = bt.feeds.PandasData(dataname=stk0_df_test, timeframe=(bt.TimeFrame.Days), datetime=0)\n",
    "    data1 = bt.feeds.PandasData(dataname=stk1_df_test, timeframe=(bt.TimeFrame.Days), datetime=0)\n",
    "\n",
    "    # add data feeds to cerebro\n",
    "    cerebro.adddata(data0)\n",
    "    cerebro.adddata(data1)\n",
    "\n",
    "    # Add the strategy\n",
    "    cerebro.addstrategy(DistanceStrategy, \n",
    "                        lookback=_lookback,\n",
    "                        max_lookback=MAX_LOOKBACK,\n",
    "                        enter_threshold_size=_enter_threshold_size, \n",
    "                        exit_threshold_size=_exit_threshold_size, \n",
    "                        loss_limit=_loss_limit,\n",
    "                        print_bar=False,\n",
    "                        print_msg=True,\n",
    "                        print_transaction=True,\n",
    "                       )\n",
    "\n",
    "    # Add analyzers\n",
    "    cerebro.addanalyzer(bt.analyzers.SharpeRatio, _name='mysharpe')\n",
    "    cerebro.addanalyzer(Metrics, \n",
    "                        lookback=MAX_LOOKBACK, \n",
    "                        _name='metrics')\n",
    "\n",
    "    # Add the commission - only stocks like a for each operation\n",
    "    cerebro.broker.setcash(1000000)\n",
    "\n",
    "    # And run it\n",
    "    strat = cerebro.run()\n",
    "    \n",
    "    return (cerebro, strat)"
   ]
  },
  {
   "cell_type": "code",
   "execution_count": 12,
   "metadata": {},
   "outputs": [
    {
     "name": "stdout",
     "output_type": "stream",
     "text": [
      "2017-05-19T00:00:00, BUY COMPLETE, 17.23\n",
      "2017-05-19T00:00:00, SELL COMPLETE, 27.26\n",
      "2017-06-28T00:00:00, SELL COMPLETE, 18.91\n",
      "2017-06-28T00:00:00, BUY COMPLETE, 26.12\n",
      "2017-10-30T00:00:00, SELL COMPLETE, 21.61\n",
      "2017-10-30T00:00:00, BUY COMPLETE, 23.55\n",
      "2017-10-31T00:00:00, BUY COMPLETE, 21.55\n",
      "2017-10-31T00:00:00, SELL COMPLETE, 22.48\n",
      "2017-11-01T00:00:00, SELL COMPLETE, 22.02\n",
      "2017-11-01T00:00:00, BUY COMPLETE, 22.71\n",
      "2017-12-12T00:00:00, BUY COMPLETE, 20.89\n",
      "2017-12-12T00:00:00, SELL COMPLETE, 27.44\n",
      "2018-02-08T00:00:00, BUY COMPLETE, 21.05\n",
      "2018-02-08T00:00:00, SELL COMPLETE, 31.40\n",
      "2018-05-04T00:00:00, SELL COMPLETE, 24.38\n",
      "2018-05-04T00:00:00, BUY COMPLETE, 30.73\n",
      "==================================================\n",
      "Starting Value: 1000000.00\n",
      "Ending   Value: 1395457.68\n",
      "==================================================\n"
     ]
    }
   ],
   "source": [
    "cerebro, strat = backtest_single_pair(_STK0, _STK1, _LOOKBACK, _ENTER_THRESHOLD_SIZE, _EXIT_THRESHOLD_SIZE, _LOSS_LIMIT)"
   ]
  },
  {
   "cell_type": "code",
   "execution_count": 6,
   "metadata": {},
   "outputs": [
    {
     "ename": "NameError",
     "evalue": "name 'cerebro' is not defined",
     "output_type": "error",
     "traceback": [
      "\u001b[1;31m---------------------------------------------------------------------------\u001b[0m",
      "\u001b[1;31mNameError\u001b[0m                                 Traceback (most recent call last)",
      "\u001b[1;32m<ipython-input-6-954d04f5488c>\u001b[0m in \u001b[0;36m<module>\u001b[1;34m()\u001b[0m\n\u001b[1;32m----> 1\u001b[1;33m \u001b[0mcerebro\u001b[0m\u001b[1;33m.\u001b[0m\u001b[0mplot\u001b[0m\u001b[1;33m(\u001b[0m\u001b[1;33m)\u001b[0m\u001b[1;33m\u001b[0m\u001b[0m\n\u001b[0m",
      "\u001b[1;31mNameError\u001b[0m: name 'cerebro' is not defined"
     ]
    }
   ],
   "source": [
    "cerebro.plot()"
   ]
  },
  {
   "cell_type": "markdown",
   "metadata": {},
   "source": [
    "### Sharpe ratio, profit"
   ]
  },
  {
   "cell_type": "code",
   "execution_count": 14,
   "metadata": {},
   "outputs": [
    {
     "name": "stdout",
     "output_type": "stream",
     "text": [
      "1.1216869731031534\n",
      "0.3954576849999991\n"
     ]
    }
   ],
   "source": [
    "sharperatio = strat[0].analyzers.mysharpe.get_analysis()['sharperatio']\n",
    "startcash = cerebro.getbroker().startingcash\n",
    "endcash = cerebro.getbroker().getvalue()\n",
    "profit = (endcash - startcash) / startcash\n",
    "\n",
    "print(sharperatio)\n",
    "print(profit)"
   ]
  },
  {
   "cell_type": "markdown",
   "metadata": {},
   "source": [
    "### Trade statistics"
   ]
  },
  {
   "cell_type": "code",
   "execution_count": 15,
   "metadata": {},
   "outputs": [
    {
     "name": "stdout",
     "output_type": "stream",
     "text": [
      "4 4 0 28.75 -1\n"
     ]
    }
   ],
   "source": [
    "n_trades = strat[0].analyzers.metrics.n_trades\n",
    "n_resolved_trades = strat[0].analyzers.metrics.n_resolved_trades\n",
    "n_unresolved_trades = strat[0].analyzers.metrics.n_unresolved_trades\n",
    "avg_holding_period = strat[0].analyzers.metrics.avg_holding_period\n",
    "len_unresolved_trade= strat[0].analyzers.metrics.len_unresolved_trade\n",
    "\n",
    "returns = strat[0].analyzers.metrics.returns\n",
    "pv = strat[0].analyzers.metrics.pv\n",
    "\n",
    "print(n_trades, n_resolved_trades, n_unresolved_trades, avg_holding_period, len_unresolved_trade)"
   ]
  },
  {
   "cell_type": "code",
   "execution_count": 16,
   "metadata": {},
   "outputs": [
    {
     "data": {
      "image/png": "[encoded data removed]",
      "text/plain": [
       "<matplotlib.figure.Figure at 0x13ca2346320>"
      ]
     },
     "metadata": {},
     "output_type": "display_data"
    }
   ],
   "source": [
    "plt.plot(returns)\n",
    "plt.show()"
   ]
  },
  {
   "cell_type": "code",
   "execution_count": 17,
   "metadata": {},
   "outputs": [
    {
     "data": {
      "image/png": "[encoded data removed]",
      "text/plain": [
       "<matplotlib.figure.Figure at 0x13ca2408898>"
      ]
     },
     "metadata": {},
     "output_type": "display_data"
    }
   ],
   "source": [
    "plt.plot(pv)\n",
    "plt.show()"
   ]
  },
  {
   "cell_type": "code",
   "execution_count": null,
   "metadata": {
    "collapsed": true
   },
   "outputs": [],
   "source": []
  }
 ],
 "metadata": {
  "kernelspec": {
   "display_name": "Python (traders_nlp)",
   "language": "python",
   "name": "traders_nlp"
  },
  "language_info": {
   "codemirror_mode": {
    "name": "ipython",
    "version": 3
   },
   "file_extension": ".py",
   "mimetype": "text/x-python",
   "name": "python",
   "nbconvert_exporter": "python",
   "pygments_lexer": "ipython3",
   "version": "3.6.3"
  },
  "varInspector": {
   "cols": {
    "lenName": 16,
    "lenType": 16,
    "lenVar": 40
   },
   "kernels_config": {
    "python": {
     "delete_cmd_postfix": "",
     "delete_cmd_prefix": "del ",
     "library": "var_list.py",
     "varRefreshCmd": "print(var_dic_list())"
    },
    "r": {
     "delete_cmd_postfix": ") ",
     "delete_cmd_prefix": "rm(",
     "library": "var_list.r",
     "varRefreshCmd": "cat(var_dic_list()) "
    }
   },
   "types_to_exclude": [
    "module",
    "function",
    "builtin_function_or_method",
    "instance",
    "_Feature"
   ],
   "window_display": false
  }
 },
 "nbformat": 4,
 "nbformat_minor": 2
}
