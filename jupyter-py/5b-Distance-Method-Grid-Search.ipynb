{
 "cells": [
  {
   "cell_type": "code",
   "execution_count": 1,
   "metadata": {},
   "outputs": [],
   "source": [
    "from grid_search_tools import GSTools\n",
    "from ptstrategy import PTStrategy\n",
    "from ptstrategy_distance import DistStrategy\n",
    "from custom_analyzer import Metrics\n",
    "from pandas_datafeed import PandasData\n",
    "from pair_selector import *\n",
    "\n",
    "import backtrader as bt\n",
    "import backtrader.feeds as btfeeds\n",
    "import pandas as pd\n",
    "import warnings\n",
    "import glob\n",
    "import os\n",
    "import uuid\n",
    "import itertools\n",
    "import json\n",
    "\n",
    "%load_ext autoreload\n",
    "%autoreload 2"
   ]
  },
  {
   "cell_type": "markdown",
   "metadata": {},
   "source": [
    "### Input params"
   ]
  },
  {
   "cell_type": "code",
   "execution_count": 9,
   "metadata": {},
   "outputs": [],
   "source": [
    "# INPUT PARAMETERS\n",
    "\n",
    "DIR = \"../ib-data/nyse-daily-tech/\"\n",
    "\n",
    "BT_START_DT = '2016-03-18'\n",
    "TEST_PERIOD = 500\n",
    "\n",
    "PRE_PAIR_FORMATION = 204\n",
    "PAIR_FORMATION_LEN = 60\n",
    "\n",
    "# top PCT percentage of the pairs with lowest distance will be backtested\n",
    "PCT = 0.01\n",
    "\n",
    "# STRATEGY PARAMETERS\n",
    "LOOKBACK_VALUE = [20, 25, 30, 40]\n",
    "ENTER_THRESHOLD_SIZE = [2]\n",
    "EXIT_THRESHOLD_SIZE = [0.5]\n",
    "LOSS_LIMIT = [-0.005, -0.01]\n",
    "MAX_LOOKBACK = max(LOOKBACK_VALUE)\n",
    "CONSIDER_BORROW_COST = False\n",
    "CONSIDER_COMMISSION = True\n",
    "\n",
    "# ADDITIONAL INFO\n",
    "OTHER_INFO = \"\"\n",
    "\n",
    "# Where to save the ouputs\n",
    "DST_DIR = \"../backtest-results/distance/progress-report-v3/\""
   ]
  },
  {
   "cell_type": "markdown",
   "metadata": {},
   "source": [
    "### Save these configurations ..."
   ]
  },
  {
   "cell_type": "code",
   "execution_count": 10,
   "metadata": {},
   "outputs": [],
   "source": [
    "CONFIG = {\n",
    "    'DIR': DIR,\n",
    "    'BT_START_DT': BT_START_DT,\n",
    "    'TEST_PERIOD': TEST_PERIOD,\n",
    "    'PRE_PAIR_FORMATION': PRE_PAIR_FORMATION,\n",
    "    'PAIR_FORMATION_LEN': PAIR_FORMATION_LEN,\n",
    "    'PCT': PCT,\n",
    "    'LOOKBACK_VALUE': LOOKBACK_VALUE,\n",
    "    'ENTER_THRESHOLD_SIZE': ENTER_THRESHOLD_SIZE,\n",
    "    'EXIT_THRESHOLD_SIZE': EXIT_THRESHOLD_SIZE,\n",
    "    'LOSS_LIMIT': LOSS_LIMIT,\n",
    "    'MAX_LOOKBACK': MAX_LOOKBACK,\n",
    "    'CONSIDER_BORROW_COST': CONSIDER_BORROW_COST,\n",
    "    'CONSIDER_COMMISSION': CONSIDER_COMMISSION,\n",
    "    'DST_DIR': DST_DIR,\n",
    "    'OTHER_INFO': OTHER_INFO,\n",
    "}\n",
    "\n",
    "# create json string\n",
    "CONFIG_JSON_STR = json.dumps(CONFIG)\n",
    "\n",
    "# create directory if neccessary\n",
    "if not os.path.exists(DST_DIR):\n",
    "    os.makedirs(DST_DIR)\n",
    "    \n",
    "# save json string to a file\n",
    "with open(DST_DIR + 'config.json', 'w') as outfile:\n",
    "    json.dump(CONFIG_JSON_STR, outfile)"
   ]
  },
  {
   "cell_type": "markdown",
   "metadata": {},
   "source": [
    "### Data wrangling :)"
   ]
  },
  {
   "cell_type": "code",
   "execution_count": 11,
   "metadata": {},
   "outputs": [
    {
     "name": "stdout",
     "output_type": "stream",
     "text": [
      "---------------------------------------------------------------------\n",
      "Initial number of datafeeds: 2517.\n",
      "To fulfill BT_START_DT, PAIR_FORMATION_LEN and MAX_LOOKBACK, size = 1009.\n",
      "After cutting datafeeds, 116 datafeeds remaining.\n",
      "Backtest start date: 2016-03-18 00:00:00\n",
      "Backtest end date: 2018-03-13 00:00:00\n",
      "No null values detected in aggregated close price df.\n",
      "From 6670 pairs, pick the top 66 pairs in terms of MSE score.\n",
      "---------------------------------------------------------------------\n"
     ]
    }
   ],
   "source": [
    "print(\"---------------------------------------------------------------------\")\n",
    "\n",
    "###################################################################################################################\n",
    "# Load data\n",
    "data = GSTools.load_csv_files(DIR)\n",
    "dt_idx = GSTools.get_trading_dates(data)\n",
    "\n",
    "print(\"Initial number of datafeeds: \" + str(len(dt_idx)) + \".\")\n",
    "\n",
    "###################################################################################################################\n",
    "# get position of intended start date of backtest\n",
    "bt_start_idx = dt_idx.get_loc(BT_START_DT)\n",
    "size = PRE_PAIR_FORMATION + PAIR_FORMATION_LEN + MAX_LOOKBACK + (len(dt_idx) - bt_start_idx)\n",
    "\n",
    "print(\"To fulfill BT_START_DT, PAIR_FORMATION_LEN and MAX_LOOKBACK, size = \" + str(size) + \".\")\n",
    "\n",
    "# get datafeeds which fulfill size requirement\n",
    "data = GSTools.cut_datafeeds(data, size=size)\n",
    "\n",
    "print(\"After cutting datafeeds, \" + str(len(data.keys())) + \" datafeeds remaining.\")\n",
    "\n",
    "###################################################################################################################\n",
    "# just to be safe, sync the start end dates of the dataframes\n",
    "data, start_dt, end_dt = GSTools.sync_start_end(data)\n",
    "dt_idx = GSTools.get_trading_dates(data)\n",
    "\n",
    "print(\"Backtest start date: \" + str(dt_idx[PRE_PAIR_FORMATION + PAIR_FORMATION_LEN + MAX_LOOKBACK]))\n",
    "print(\"Backtest end date: \" + str(dt_idx[PRE_PAIR_FORMATION + PAIR_FORMATION_LEN + MAX_LOOKBACK + TEST_PERIOD - 1]))\n",
    "\n",
    "###################################################################################################################\n",
    "# get aggregated close prices\n",
    "close_df = GSTools.get_aggregated(data, col='close')\n",
    "\n",
    "if close_df.isnull().values.any():\n",
    "    warnings.warn(\"There are null values in the aggregated close price df.\")\n",
    "else:\n",
    "    print(\"No null values detected in aggregated close price df.\")\n",
    "\n",
    "###################################################################################################################\n",
    "# total number of stocks remaining\n",
    "N = len(data.keys())\n",
    "\n",
    "# number of pairs of interest\n",
    "K = int(PCT * N * (N-1) / 2)\n",
    "\n",
    "print(\"From \" + str(int(N * (N-1) / 2)) + \" pairs, pick the top \" + str(K) + \" pairs in terms of MSE score.\")\n",
    "\n",
    "###################################################################################################################\n",
    "# pair selection\n",
    "good_pairs = select_pairs_for_all_combin(train_df=close_df[PRE_PAIR_FORMATION:PRE_PAIR_FORMATION + PAIR_FORMATION_LEN], \n",
    "                                         test_df=None, \n",
    "                                         config={'n': K, \n",
    "                                                 'score_function': distance_score, \n",
    "                                                 'series_transform': distance_transform}, \n",
    "                                         plot=False)\n",
    "\n",
    "print(\"---------------------------------------------------------------------\")"
   ]
  },
  {
   "cell_type": "markdown",
   "metadata": {},
   "source": [
    "### OK let's do grid search!"
   ]
  },
  {
   "cell_type": "code",
   "execution_count": 15,
   "metadata": {},
   "outputs": [
    {
     "name": "stdout",
     "output_type": "stream",
     "text": [
      "Running 1/8\n",
      "Backtesting all pairs using parameters (20, 2, 0.5, -0.005)\n",
      "------------------------------------------------------------------\n",
      "Running 2/8\n",
      "Backtesting all pairs using parameters (20, 2, 0.5, -0.01)\n",
      "------------------------------------------------------------------\n",
      "Running 3/8\n",
      "Backtesting all pairs using parameters (25, 2, 0.5, -0.005)\n",
      "------------------------------------------------------------------\n",
      "Running 4/8\n",
      "Backtesting all pairs using parameters (25, 2, 0.5, -0.01)\n",
      "------------------------------------------------------------------\n",
      "Running 5/8\n",
      "Backtesting all pairs using parameters (30, 2, 0.5, -0.005)\n",
      "------------------------------------------------------------------\n",
      "Running 6/8\n",
      "Backtesting all pairs using parameters (30, 2, 0.5, -0.01)\n",
      "------------------------------------------------------------------\n",
      "Running 7/8\n",
      "Backtesting all pairs using parameters (40, 2, 0.5, -0.005)\n",
      "------------------------------------------------------------------\n",
      "Running 8/8\n",
      "Backtesting all pairs using parameters (40, 2, 0.5, -0.01)\n",
      "------------------------------------------------------------------\n"
     ]
    }
   ],
   "source": [
    "# combinations of parameters\n",
    "param_combinations = list(itertools.product(LOOKBACK_VALUE, ENTER_THRESHOLD_SIZE, EXIT_THRESHOLD_SIZE, LOSS_LIMIT))\n",
    "\n",
    "# list to store MACRO results\n",
    "macro_results = []\n",
    "\n",
    "for i, params in enumerate(param_combinations, 1):\n",
    "    # set params\n",
    "    print(\"Running \" + str(i) + \"/\" + str(len(param_combinations)))\n",
    "    print(\"Backtesting all pairs using parameters \" + str(params))\n",
    "    # list to store MICRO results\n",
    "    results = []\n",
    "\n",
    "    for pair in good_pairs:\n",
    "        # get names of both stock\n",
    "        stk0, stk1 = pair\n",
    "\n",
    "        # get data of both stock\n",
    "        stk0_df, stk1_df = data[stk0], data[stk1]\n",
    "        stk0_df_test = stk0_df[PRE_PAIR_FORMATION + PAIR_FORMATION_LEN : PRE_PAIR_FORMATION + PAIR_FORMATION_LEN + MAX_LOOKBACK + TEST_PERIOD]\n",
    "        stk1_df_test = stk1_df[PRE_PAIR_FORMATION + PAIR_FORMATION_LEN : PRE_PAIR_FORMATION + PAIR_FORMATION_LEN + MAX_LOOKBACK + TEST_PERIOD]\n",
    "        \n",
    "        # Create a cerebro\n",
    "        cerebro = bt.Cerebro()\n",
    "\n",
    "        # Create data feeds\n",
    "        data0 = bt.feeds.PandasData(dataname=stk0_df_test, timeframe=(bt.TimeFrame.Days), datetime=0)\n",
    "        data1 = bt.feeds.PandasData(dataname=stk1_df_test, timeframe=(bt.TimeFrame.Days), datetime=0)\n",
    "\n",
    "        # add data feeds to cerebro\n",
    "        cerebro.adddata(data0)\n",
    "        cerebro.adddata(data1)\n",
    "\n",
    "        # Add the strategy\n",
    "        cerebro.addstrategy(DistStrategy, \n",
    "                            lookback=params[0],\n",
    "                            max_lookback=MAX_LOOKBACK,\n",
    "                            enter_threshold_size=params[1], \n",
    "                            exit_threshold_size=params[2], \n",
    "                            loss_limit=params[3],\n",
    "                            consider_borrow_cost=CONSIDER_BORROW_COST,\n",
    "                            consider_commission=CONSIDER_COMMISSION\n",
    "                           )\n",
    "\n",
    "        # Add analyzers\n",
    "        cerebro.addanalyzer(bt.analyzers.SharpeRatio, _name='mysharpe')\n",
    "        cerebro.addanalyzer(Metrics, \n",
    "                            lookback=MAX_LOOKBACK, \n",
    "                            _name='metrics')\n",
    "\n",
    "        # Add the commission - only stocks like a for each operation\n",
    "        cerebro.broker.setcash(1000000)\n",
    "\n",
    "        # And run it\n",
    "        strat = cerebro.run()\n",
    "\n",
    "        # get MICRO metrics\n",
    "        sharperatio = strat[0].analyzers.mysharpe.get_analysis()['sharperatio']\n",
    "        returnstd = strat[0].analyzers.metrics.returns_std()\n",
    "        startcash = cerebro.getbroker().startingcash\n",
    "        endcash = cerebro.getbroker().getvalue()\n",
    "        profit = (endcash - startcash) / startcash\n",
    "        \n",
    "        results.append((stk0 + \"-\" + stk1, sharperatio, profit, returnstd))\n",
    "    \n",
    "    # convert to dataframe\n",
    "    results_df = pd.DataFrame(results)\n",
    "    results_df.columns = ['pair', 'sharpe_ratio', 'overall_return', 'returns_std']\n",
    "    \n",
    "    # save as csv\n",
    "    uuid_str = str(uuid.uuid4())\n",
    "    path = DST_DIR + str(uuid_str) + \".csv\" \n",
    "    results_df.to_csv(path_or_buf=path, index=False)\n",
    "    \n",
    "    # calculate MACRO attributes\n",
    "    avg_sharpe_ratio = results_df['sharpe_ratio'].mean()\n",
    "    median_sharpe_ratio = results_df['sharpe_ratio'].median()\n",
    "    \n",
    "    avg_overall_return = results_df['overall_return'].mean()\n",
    "    median_overall_return = results_df['overall_return'].median()\n",
    "    overall_return_std = results_df['overall_return'].std()\n",
    "\n",
    "    \n",
    "    macro_results.append((params[0], \n",
    "                          params[1], \n",
    "                          params[2], \n",
    "                          params[3],\n",
    "                          avg_sharpe_ratio,\n",
    "                          median_sharpe_ratio,\n",
    "                          avg_overall_return,\n",
    "                          median_overall_return,\n",
    "                          overall_return_std,\n",
    "                          uuid_str\n",
    "                         ))\n",
    "    \n",
    "    # nextline\n",
    "    print(\"\")\n",
    "\n",
    "macro_results_df = pd.DataFrame(macro_results)\n",
    "macro_results_df.columns = ['lookback', \n",
    "                            'enter_threshold_size', \n",
    "                            'exit_threshold_size',\n",
    "                            'loss_limit', \n",
    "                            'avg_sharpe_ratio', \n",
    "                            'median_sharpe_ratio',\n",
    "                            'avg_overall_return', \n",
    "                            'median_overall_return',\n",
    "                            'overall_return_std',\n",
    "                            'uuid']\n",
    "macro_results_df.to_csv(DST_DIR + 'summary.csv', index=False)"
   ]
  },
  {
   "cell_type": "code",
   "execution_count": 16,
   "metadata": {},
   "outputs": [
    {
     "data": {
      "text/html": [
       "<div>\n",
       "<style scoped>\n",
       "    .dataframe tbody tr th:only-of-type {\n",
       "        vertical-align: middle;\n",
       "    }\n",
       "\n",
       "    .dataframe tbody tr th {\n",
       "        vertical-align: top;\n",
       "    }\n",
       "\n",
       "    .dataframe thead th {\n",
       "        text-align: right;\n",
       "    }\n",
       "</style>\n",
       "<table border=\"1\" class=\"dataframe\">\n",
       "  <thead>\n",
       "    <tr style=\"text-align: right;\">\n",
       "      <th></th>\n",
       "      <th>lookback</th>\n",
       "      <th>enter_threshold_size</th>\n",
       "      <th>exit_threshold_size</th>\n",
       "      <th>loss_limit</th>\n",
       "      <th>avg_sharpe_ratio</th>\n",
       "      <th>median_sharpe_ratio</th>\n",
       "      <th>avg_overall_return</th>\n",
       "      <th>median_overall_return</th>\n",
       "      <th>overall_return_std</th>\n",
       "      <th>uuid</th>\n",
       "    </tr>\n",
       "  </thead>\n",
       "  <tbody>\n",
       "    <tr>\n",
       "      <th>0</th>\n",
       "      <td>20</td>\n",
       "      <td>2</td>\n",
       "      <td>0.5</td>\n",
       "      <td>-0.005</td>\n",
       "      <td>-0.322395</td>\n",
       "      <td>0.007451</td>\n",
       "      <td>0.024171</td>\n",
       "      <td>0.006715</td>\n",
       "      <td>0.246193</td>\n",
       "      <td>bf190dac-d8cb-4dc7-808b-07b7bf9ae82e</td>\n",
       "    </tr>\n",
       "    <tr>\n",
       "      <th>1</th>\n",
       "      <td>20</td>\n",
       "      <td>2</td>\n",
       "      <td>0.5</td>\n",
       "      <td>-0.010</td>\n",
       "      <td>-0.364533</td>\n",
       "      <td>-0.184471</td>\n",
       "      <td>0.015625</td>\n",
       "      <td>-0.033238</td>\n",
       "      <td>0.261770</td>\n",
       "      <td>9fc74b19-8eae-47c8-a05c-87b157082743</td>\n",
       "    </tr>\n",
       "    <tr>\n",
       "      <th>2</th>\n",
       "      <td>25</td>\n",
       "      <td>2</td>\n",
       "      <td>0.5</td>\n",
       "      <td>-0.005</td>\n",
       "      <td>-0.175588</td>\n",
       "      <td>-0.035411</td>\n",
       "      <td>0.003829</td>\n",
       "      <td>-0.000166</td>\n",
       "      <td>0.198682</td>\n",
       "      <td>ec5924e0-e2d0-4248-b2e5-d15dca4e0b35</td>\n",
       "    </tr>\n",
       "    <tr>\n",
       "      <th>3</th>\n",
       "      <td>25</td>\n",
       "      <td>2</td>\n",
       "      <td>0.5</td>\n",
       "      <td>-0.010</td>\n",
       "      <td>-0.239191</td>\n",
       "      <td>-0.131862</td>\n",
       "      <td>-0.002943</td>\n",
       "      <td>-0.010088</td>\n",
       "      <td>0.244194</td>\n",
       "      <td>a32ec336-59a7-4b8e-92de-3d93946f4c61</td>\n",
       "    </tr>\n",
       "    <tr>\n",
       "      <th>4</th>\n",
       "      <td>30</td>\n",
       "      <td>2</td>\n",
       "      <td>0.5</td>\n",
       "      <td>-0.005</td>\n",
       "      <td>-0.319687</td>\n",
       "      <td>-0.215534</td>\n",
       "      <td>-0.007416</td>\n",
       "      <td>-0.035522</td>\n",
       "      <td>0.224277</td>\n",
       "      <td>9ff7d543-b135-4f3e-95b8-4ca06b4d15a6</td>\n",
       "    </tr>\n",
       "    <tr>\n",
       "      <th>5</th>\n",
       "      <td>30</td>\n",
       "      <td>2</td>\n",
       "      <td>0.5</td>\n",
       "      <td>-0.010</td>\n",
       "      <td>-0.305402</td>\n",
       "      <td>-0.153974</td>\n",
       "      <td>-0.018321</td>\n",
       "      <td>-0.049383</td>\n",
       "      <td>0.256443</td>\n",
       "      <td>25d00332-e037-4878-8e5b-25bfebc4b7e3</td>\n",
       "    </tr>\n",
       "    <tr>\n",
       "      <th>6</th>\n",
       "      <td>40</td>\n",
       "      <td>2</td>\n",
       "      <td>0.5</td>\n",
       "      <td>-0.005</td>\n",
       "      <td>-0.206751</td>\n",
       "      <td>-0.187176</td>\n",
       "      <td>-0.021241</td>\n",
       "      <td>-0.028624</td>\n",
       "      <td>0.245672</td>\n",
       "      <td>93dc7890-d80f-4e08-9259-a2818d118c1c</td>\n",
       "    </tr>\n",
       "    <tr>\n",
       "      <th>7</th>\n",
       "      <td>40</td>\n",
       "      <td>2</td>\n",
       "      <td>0.5</td>\n",
       "      <td>-0.010</td>\n",
       "      <td>-0.387697</td>\n",
       "      <td>-0.164976</td>\n",
       "      <td>-0.016503</td>\n",
       "      <td>-0.027301</td>\n",
       "      <td>0.248869</td>\n",
       "      <td>5de8c2c6-9653-4b6d-83cc-5e1cc4fd45b1</td>\n",
       "    </tr>\n",
       "  </tbody>\n",
       "</table>\n",
       "</div>"
      ],
      "text/plain": [
       "   lookback  enter_threshold_size  exit_threshold_size  loss_limit  \\\n",
       "0        20                     2                  0.5      -0.005   \n",
       "1        20                     2                  0.5      -0.010   \n",
       "2        25                     2                  0.5      -0.005   \n",
       "3        25                     2                  0.5      -0.010   \n",
       "4        30                     2                  0.5      -0.005   \n",
       "5        30                     2                  0.5      -0.010   \n",
       "6        40                     2                  0.5      -0.005   \n",
       "7        40                     2                  0.5      -0.010   \n",
       "\n",
       "   avg_sharpe_ratio  median_sharpe_ratio  avg_overall_return  \\\n",
       "0         -0.322395             0.007451            0.024171   \n",
       "1         -0.364533            -0.184471            0.015625   \n",
       "2         -0.175588            -0.035411            0.003829   \n",
       "3         -0.239191            -0.131862           -0.002943   \n",
       "4         -0.319687            -0.215534           -0.007416   \n",
       "5         -0.305402            -0.153974           -0.018321   \n",
       "6         -0.206751            -0.187176           -0.021241   \n",
       "7         -0.387697            -0.164976           -0.016503   \n",
       "\n",
       "   median_overall_return  overall_return_std  \\\n",
       "0               0.006715            0.246193   \n",
       "1              -0.033238            0.261770   \n",
       "2              -0.000166            0.198682   \n",
       "3              -0.010088            0.244194   \n",
       "4              -0.035522            0.224277   \n",
       "5              -0.049383            0.256443   \n",
       "6              -0.028624            0.245672   \n",
       "7              -0.027301            0.248869   \n",
       "\n",
       "                                   uuid  \n",
       "0  bf190dac-d8cb-4dc7-808b-07b7bf9ae82e  \n",
       "1  9fc74b19-8eae-47c8-a05c-87b157082743  \n",
       "2  ec5924e0-e2d0-4248-b2e5-d15dca4e0b35  \n",
       "3  a32ec336-59a7-4b8e-92de-3d93946f4c61  \n",
       "4  9ff7d543-b135-4f3e-95b8-4ca06b4d15a6  \n",
       "5  25d00332-e037-4878-8e5b-25bfebc4b7e3  \n",
       "6  93dc7890-d80f-4e08-9259-a2818d118c1c  \n",
       "7  5de8c2c6-9653-4b6d-83cc-5e1cc4fd45b1  "
      ]
     },
     "execution_count": 16,
     "metadata": {},
     "output_type": "execute_result"
    }
   ],
   "source": [
    "macro_results_df = pd.read_csv(DST_DIR + \"summary.csv\")\n",
    "macro_results_df"
   ]
  },
  {
   "cell_type": "code",
   "execution_count": 17,
   "metadata": {},
   "outputs": [
    {
     "data": {
      "text/html": [
       "<div>\n",
       "<style scoped>\n",
       "    .dataframe tbody tr th:only-of-type {\n",
       "        vertical-align: middle;\n",
       "    }\n",
       "\n",
       "    .dataframe tbody tr th {\n",
       "        vertical-align: top;\n",
       "    }\n",
       "\n",
       "    .dataframe thead th {\n",
       "        text-align: right;\n",
       "    }\n",
       "</style>\n",
       "<table border=\"1\" class=\"dataframe\">\n",
       "  <thead>\n",
       "    <tr style=\"text-align: right;\">\n",
       "      <th></th>\n",
       "      <th>lookback</th>\n",
       "      <th>enter_threshold_size</th>\n",
       "      <th>exit_threshold_size</th>\n",
       "      <th>loss_limit</th>\n",
       "      <th>avg_sharpe_ratio</th>\n",
       "      <th>median_sharpe_ratio</th>\n",
       "      <th>avg_overall_return</th>\n",
       "      <th>median_overall_return</th>\n",
       "      <th>overall_return_std</th>\n",
       "      <th>uuid</th>\n",
       "    </tr>\n",
       "  </thead>\n",
       "  <tbody>\n",
       "    <tr>\n",
       "      <th>0</th>\n",
       "      <td>20</td>\n",
       "      <td>2</td>\n",
       "      <td>0.5</td>\n",
       "      <td>-0.005</td>\n",
       "      <td>-0.322395</td>\n",
       "      <td>0.007451</td>\n",
       "      <td>0.024171</td>\n",
       "      <td>0.006715</td>\n",
       "      <td>0.246193</td>\n",
       "      <td>bf190dac-d8cb-4dc7-808b-07b7bf9ae82e</td>\n",
       "    </tr>\n",
       "  </tbody>\n",
       "</table>\n",
       "</div>"
      ],
      "text/plain": [
       "   lookback  enter_threshold_size  exit_threshold_size  loss_limit  \\\n",
       "0        20                     2                  0.5      -0.005   \n",
       "\n",
       "   avg_sharpe_ratio  median_sharpe_ratio  avg_overall_return  \\\n",
       "0         -0.322395             0.007451            0.024171   \n",
       "\n",
       "   median_overall_return  overall_return_std  \\\n",
       "0               0.006715            0.246193   \n",
       "\n",
       "                                   uuid  \n",
       "0  bf190dac-d8cb-4dc7-808b-07b7bf9ae82e  "
      ]
     },
     "execution_count": 17,
     "metadata": {},
     "output_type": "execute_result"
    }
   ],
   "source": [
    "macro_results_df[macro_results_df['median_overall_return'] == max(macro_results_df['median_overall_return'])]"
   ]
  },
  {
   "cell_type": "code",
   "execution_count": null,
   "metadata": {
    "collapsed": true
   },
   "outputs": [],
   "source": []
  },
  {
   "cell_type": "markdown",
   "metadata": {},
   "source": [
    "### Now, if you're interested to look into one specific pair .. "
   ]
  },
  {
   "cell_type": "code",
   "execution_count": 75,
   "metadata": {
    "collapsed": true
   },
   "outputs": [],
   "source": [
    "# set your params\n",
    "_STK0 = 'KAI'\n",
    "_STK1 = 'TBI'\n",
    "_LOOKBACK = 15\n",
    "_ENTER_THRESHOLD_SIZE = 3\n",
    "_EXIT_THRESHOLD_SIZE = 0.5\n",
    "_LOSS_LIMIT = -0.005"
   ]
  },
  {
   "cell_type": "code",
   "execution_count": 76,
   "metadata": {
    "collapsed": true
   },
   "outputs": [],
   "source": [
    "def backtest_single_pair(_stk0, _stk1, _lookback, _enter_threshold_size, _exit_threshold_size, _loss_limit):\n",
    "    # get data of both stock\n",
    "    stk0_df, stk1_df = data[_stk0], data[_stk1]\n",
    "    stk0_df_test = stk0_df[PRE_PAIR_FORMATION + PAIR_FORMATION_LEN : PRE_PAIR_FORMATION + PAIR_FORMATION_LEN + MAX_LOOKBACK + TEST_PERIOD]\n",
    "    stk1_df_test = stk1_df[PRE_PAIR_FORMATION + PAIR_FORMATION_LEN : PRE_PAIR_FORMATION + PAIR_FORMATION_LEN + MAX_LOOKBACK + TEST_PERIOD]\n",
    "\n",
    "    # Create a cerebro\n",
    "    cerebro = bt.Cerebro()\n",
    "\n",
    "    # Create data feeds\n",
    "    data0 = bt.feeds.PandasData(dataname=stk0_df_test, timeframe=(bt.TimeFrame.Days), datetime=0)\n",
    "    data1 = bt.feeds.PandasData(dataname=stk1_df_test, timeframe=(bt.TimeFrame.Days), datetime=0)\n",
    "\n",
    "    # add data feeds to cerebro\n",
    "    cerebro.adddata(data0)\n",
    "    cerebro.adddata(data1)\n",
    "\n",
    "    # Add the strategy\n",
    "    cerebro.addstrategy(DistStrategy, \n",
    "                        lookback=_lookback,\n",
    "                        max_lookback=MAX_LOOKBACK,\n",
    "                        enter_threshold_size=_enter_threshold_size, \n",
    "                        exit_threshold_size=_exit_threshold_size, \n",
    "                        loss_limit=_loss_limit,\n",
    "                        print_bar=False,\n",
    "                        print_msg=True,\n",
    "                        print_transaction=True,\n",
    "                       )\n",
    "\n",
    "    # Add analyzers\n",
    "    cerebro.addanalyzer(bt.analyzers.SharpeRatio, _name='mysharpe')\n",
    "    cerebro.addanalyzer(Metrics, \n",
    "                        lookback=MAX_LOOKBACK, \n",
    "                        _name='metrics')\n",
    "\n",
    "    # Add the commission - only stocks like a for each operation\n",
    "    cerebro.broker.setcash(1000000)\n",
    "\n",
    "    # And run it\n",
    "    strat = cerebro.run()\n",
    "    \n",
    "    return (cerebro, strat)"
   ]
  },
  {
   "cell_type": "code",
   "execution_count": 79,
   "metadata": {},
   "outputs": [
    {
     "name": "stdout",
     "output_type": "stream",
     "text": [
      "2016-02-29T00:00:00, BUY COMPLETE, 37.85\n",
      "2016-02-29T00:00:00, SELL COMPLETE, 22.89\n",
      "2016-03-01T00:00:00, SELL COMPLETE, 38.10\n",
      "2016-03-01T00:00:00, BUY COMPLETE, 23.14\n",
      "2016-03-14T00:00:00, SELL COMPLETE, 45.83\n",
      "2016-03-14T00:00:00, BUY COMPLETE, 24.00\n",
      "2016-03-15T00:00:00, BUY COMPLETE, 41.84\n",
      "2016-03-15T00:00:00, SELL COMPLETE, 23.68\n",
      "2016-04-08T00:00:00, SELL COMPLETE, 45.82\n",
      "2016-04-08T00:00:00, BUY COMPLETE, 25.42\n",
      "2016-04-11T00:00:00, BUY COMPLETE, 45.62\n",
      "2016-04-11T00:00:00, SELL COMPLETE, 25.99\n",
      "2016-04-22T00:00:00, SELL COMPLETE, 46.08\n",
      "2016-04-22T00:00:00, BUY COMPLETE, 20.84\n",
      "2016-04-29T00:00:00, BUY COMPLETE, 47.34\n",
      "2016-04-29T00:00:00, SELL COMPLETE, 20.41\n",
      "2016-06-24T00:00:00, SELL COMPLETE, 53.01\n",
      "2016-06-24T00:00:00, BUY COMPLETE, 18.48\n",
      "2016-06-27T00:00:00, BUY COMPLETE, 50.26\n",
      "2016-06-27T00:00:00, SELL COMPLETE, 18.09\n",
      "2016-07-05T00:00:00, SELL COMPLETE, 52.73\n",
      "2016-07-05T00:00:00, BUY COMPLETE, 19.07\n",
      "2016-07-06T00:00:00, BUY COMPLETE, 52.05\n",
      "2016-07-06T00:00:00, SELL COMPLETE, 18.52\n",
      "2016-07-22T00:00:00, BUY COMPLETE, 53.66\n",
      "2016-07-22T00:00:00, SELL COMPLETE, 22.82\n",
      "2016-07-25T00:00:00, SELL COMPLETE, 54.00\n",
      "2016-07-25T00:00:00, BUY COMPLETE, 23.03\n",
      "2016-08-15T00:00:00, BUY COMPLETE, 51.19\n",
      "2016-08-15T00:00:00, SELL COMPLETE, 22.50\n",
      "2016-08-16T00:00:00, SELL COMPLETE, 51.87\n",
      "2016-08-16T00:00:00, BUY COMPLETE, 22.97\n",
      "2016-09-19T00:00:00, BUY COMPLETE, 48.44\n",
      "2016-09-19T00:00:00, SELL COMPLETE, 21.83\n",
      "2016-09-20T00:00:00, SELL COMPLETE, 51.87\n",
      "2016-09-20T00:00:00, BUY COMPLETE, 22.05\n",
      "2016-10-12T00:00:00, BUY COMPLETE, 49.42\n",
      "2016-10-12T00:00:00, SELL COMPLETE, 22.06\n",
      "2016-10-13T00:00:00, SELL COMPLETE, 51.23\n",
      "2016-10-13T00:00:00, BUY COMPLETE, 21.86\n",
      "2016-10-20T00:00:00, SELL COMPLETE, 52.83\n",
      "2016-10-20T00:00:00, BUY COMPLETE, 18.18\n",
      "2016-10-21T00:00:00, BUY COMPLETE, 52.77\n",
      "2016-10-21T00:00:00, SELL COMPLETE, 18.35\n",
      "2016-10-24T00:00:00, SELL COMPLETE, 52.67\n",
      "2016-10-24T00:00:00, BUY COMPLETE, 17.98\n",
      "2016-10-26T00:00:00, BUY COMPLETE, 52.20\n",
      "2016-10-26T00:00:00, SELL COMPLETE, 17.12\n",
      "2016-12-15T00:00:00, BUY COMPLETE, 62.10\n",
      "2016-12-15T00:00:00, SELL COMPLETE, 23.65\n",
      "2016-12-16T00:00:00, SELL COMPLETE, 62.65\n",
      "2016-12-16T00:00:00, BUY COMPLETE, 23.60\n",
      "2016-12-19T00:00:00, BUY COMPLETE, 61.40\n",
      "2016-12-19T00:00:00, SELL COMPLETE, 24.93\n",
      "2016-12-20T00:00:00, SELL COMPLETE, 62.55\n",
      "2016-12-20T00:00:00, BUY COMPLETE, 24.10\n",
      "==================================================\n",
      "Starting Value: 1000000.00\n",
      "Ending   Value: 1130422.67\n",
      "==================================================\n"
     ]
    }
   ],
   "source": [
    "cerebro, strat = backtest_single_pair(_STK0, _STK1, _LOOKBACK, _ENTER_THRESHOLD_SIZE, _EXIT_THRESHOLD_SIZE, _LOSS_LIMIT)"
   ]
  },
  {
   "cell_type": "code",
   "execution_count": 61,
   "metadata": {},
   "outputs": [
    {
     "name": "stderr",
     "output_type": "stream",
     "text": [
      "C:\\Users\\emara\\Anaconda3\\envs\\traders_nlp\\lib\\site-packages\\matplotlib\\__init__.py:1405: UserWarning: \n",
      "This call to matplotlib.use() has no effect because the backend has already\n",
      "been chosen; matplotlib.use() must be called *before* pylab, matplotlib.pyplot,\n",
      "or matplotlib.backends is imported for the first time.\n",
      "\n",
      "  warnings.warn(_use_error_msg)\n",
      "C:\\Users\\emara\\Anaconda3\\envs\\traders_nlp\\lib\\site-packages\\matplotlib\\__init__.py:1405: UserWarning: \n",
      "This call to matplotlib.use() has no effect because the backend has already\n",
      "been chosen; matplotlib.use() must be called *before* pylab, matplotlib.pyplot,\n",
      "or matplotlib.backends is imported for the first time.\n",
      "\n",
      "  warnings.warn(_use_error_msg)\n"
     ]
    },
    {
     "data": {
      "image/png": "[encoded data removed]",
      "text/plain": [
       "<matplotlib.figure.Figure at 0x1e1db56cb00>"
      ]
     },
     "metadata": {},
     "output_type": "display_data"
    },
    {
     "data": {
      "text/plain": [
       "[[<matplotlib.figure.Figure at 0x1e1db56cb00>]]"
      ]
     },
     "execution_count": 61,
     "metadata": {},
     "output_type": "execute_result"
    }
   ],
   "source": [
    "cerebro.plot()"
   ]
  },
  {
   "cell_type": "markdown",
   "metadata": {},
   "source": [
    "### Sharpe ratio, profit"
   ]
  },
  {
   "cell_type": "code",
   "execution_count": 62,
   "metadata": {},
   "outputs": [
    {
     "name": "stdout",
     "output_type": "stream",
     "text": [
      "0.846652426299812\n",
      "0.1304226699999983\n"
     ]
    }
   ],
   "source": [
    "sharperatio = strat[0].analyzers.mysharpe.get_analysis()['sharperatio']\n",
    "startcash = cerebro.getbroker().startingcash\n",
    "endcash = cerebro.getbroker().getvalue()\n",
    "profit = (endcash - startcash) / startcash\n",
    "\n",
    "print(sharperatio)\n",
    "print(profit)"
   ]
  },
  {
   "cell_type": "markdown",
   "metadata": {},
   "source": [
    "### Trade statistics"
   ]
  },
  {
   "cell_type": "code",
   "execution_count": 63,
   "metadata": {},
   "outputs": [
    {
     "name": "stdout",
     "output_type": "stream",
     "text": [
      "14 14 0 1.3571428571428572 -1\n"
     ]
    }
   ],
   "source": [
    "n_trades = strat[0].analyzers.metrics.n_trades\n",
    "n_resolved_trades = strat[0].analyzers.metrics.n_resolved_trades\n",
    "n_unresolved_trades = strat[0].analyzers.metrics.n_unresolved_trades\n",
    "avg_holding_period = strat[0].analyzers.metrics.avg_holding_period\n",
    "len_unresolved_trade= strat[0].analyzers.metrics.len_unresolved_trade\n",
    "\n",
    "returns = strat[0].analyzers.metrics.returns\n",
    "pv = strat[0].analyzers.metrics.pv\n",
    "\n",
    "print(n_trades, n_resolved_trades, n_unresolved_trades, avg_holding_period, len_unresolved_trade)"
   ]
  },
  {
   "cell_type": "code",
   "execution_count": 64,
   "metadata": {},
   "outputs": [
    {
     "data": {
      "image/png": "[encoded data removed]",
      "text/plain": [
       "<matplotlib.figure.Figure at 0x1e1e2948dd8>"
      ]
     },
     "metadata": {},
     "output_type": "display_data"
    }
   ],
   "source": [
    "plt.plot(returns)\n",
    "plt.show()"
   ]
  },
  {
   "cell_type": "code",
   "execution_count": 65,
   "metadata": {},
   "outputs": [
    {
     "data": {
      "image/png": "[encoded data removed]",
      "text/plain": [
       "<matplotlib.figure.Figure at 0x1e1e0484470>"
      ]
     },
     "metadata": {},
     "output_type": "display_data"
    }
   ],
   "source": [
    "plt.plot(pv)\n",
    "plt.show()"
   ]
  },
  {
   "cell_type": "code",
   "execution_count": null,
   "metadata": {
    "collapsed": true
   },
   "outputs": [],
   "source": []
  },
  {
   "cell_type": "code",
   "execution_count": null,
   "metadata": {
    "collapsed": true
   },
   "outputs": [],
   "source": []
  }
 ],
 "metadata": {
  "kernelspec": {
   "display_name": "Python 3 (Intel, 2018 update 2)",
   "language": "python",
   "name": "c009-intel_distribution_of_python_3_2018u2"
  },
  "language_info": {
   "codemirror_mode": {
    "name": "ipython",
    "version": 3
   },
   "file_extension": ".py",
   "mimetype": "text/x-python",
   "name": "python",
   "nbconvert_exporter": "python",
   "pygments_lexer": "ipython3",
   "version": "3.6.3"
  },
  "varInspector": {
   "cols": {
    "lenName": 16,
    "lenType": 16,
    "lenVar": 40
   },
   "kernels_config": {
    "python": {
     "delete_cmd_postfix": "",
     "delete_cmd_prefix": "del ",
     "library": "var_list.py",
     "varRefreshCmd": "print(var_dic_list())"
    },
    "r": {
     "delete_cmd_postfix": ") ",
     "delete_cmd_prefix": "rm(",
     "library": "var_list.r",
     "varRefreshCmd": "cat(var_dic_list()) "
    }
   },
   "types_to_exclude": [
    "module",
    "function",
    "builtin_function_or_method",
    "instance",
    "_Feature"
   ],
   "window_display": false
  }
 },
 "nbformat": 4,
 "nbformat_minor": 2
}
