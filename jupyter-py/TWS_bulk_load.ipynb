{
 "cells": [
  {
   "cell_type": "code",
   "execution_count": 1,
   "metadata": {},
   "outputs": [],
   "source": [
    "from IB_load_data import *\n",
    "\n",
    "import pandas as pd\n",
    "import numpy as np\n",
    "\n",
    "%load_ext autoreload\n",
    "%autoreload 2"
   ]
  },
  {
   "cell_type": "code",
   "execution_count": 2,
   "metadata": {},
   "outputs": [],
   "source": [
    "nyse_tech_names = pd.read_csv(filepath_or_buffer = \"../stock-names/nyse_tech_list.csv\")[\"Symbol\"]\n",
    "nasdaq_tech_names = pd.read_csv(filepath_or_buffer = \"../stock-names/nasdaq_tech_list.csv\")[\"Symbol\"]"
   ]
  },
  {
   "cell_type": "code",
   "execution_count": 10,
   "metadata": {},
   "outputs": [],
   "source": [
    "# Load NYSE tech stocks\n",
    "\n",
    "# for symbol in nyse_tech_names:\n",
    "    "
   ]
  },
  {
   "cell_type": "code",
   "execution_count": 4,
   "metadata": {},
   "outputs": [
    {
     "name": "stdout",
     "output_type": "stream",
     "text": [
      "Getting full contract details from the server... \n",
      "IB error id -1 errorcode 2104 string Market data farm connection is OK:usfuture.nj\n",
      "IB error id -1 errorcode 2104 string Market data farm connection is OK:usfarm.nj\n",
      "IB error id -1 errorcode 2104 string Market data farm connection is OK:usopt\n",
      "IB error id -1 errorcode 2106 string HMDS data farm connection is OK:ushmds.us\n",
      "IB error id -1 errorcode 2106 string HMDS data farm connection is OK:njhmds\n",
      "IB error id -1 errorcode 2106 string HMDS data farm connection is OK:hkhmds\n",
      "IB error id -1 errorcode 2106 string HMDS data farm connection is OK:ushmds\n",
      "Getting historical data from the server... could take 180 seconds to complete \n"
     ]
    }
   ],
   "source": [
    "app = TestApp(\"127.0.0.1\", 7497, 77)\n",
    "\n",
    "start_time = timeit.timeit()\n",
    "\n",
    "ibcontract = IBcontract()\n",
    "ibcontract.secType = \"STK\"\n",
    "ibcontract.symbol=\"C\"\n",
    "ibcontract.exchange=\"NYSE\"\n",
    "\n",
    "resolved_ibcontract=app.resolve_ib_contract(ibcontract)\n",
    "\n",
    "historic_data = app.get_IB_historical_data(resolved_ibcontract, durationStr=\"20 D\", barSizeSetting=\"1 min\")"
   ]
  },
  {
   "cell_type": "code",
   "execution_count": 5,
   "metadata": {
    "collapsed": true
   },
   "outputs": [],
   "source": [
    "# app.disconnect()"
   ]
  },
  {
   "cell_type": "code",
   "execution_count": 6,
   "metadata": {},
   "outputs": [
    {
     "name": "stdout",
     "output_type": "stream",
     "text": [
      "Used -0.0015473062539539013secs\n"
     ]
    }
   ],
   "source": [
    "print(\"Used \" + str((end_time - start_time)) + \"secs\")"
   ]
  },
  {
   "cell_type": "code",
   "execution_count": 8,
   "metadata": {},
   "outputs": [
    {
     "data": {
      "text/plain": [
       "('20190104  04:59:00', 52.715, 52.755, 52.45, 52.585, -1)"
      ]
     },
     "execution_count": 8,
     "metadata": {},
     "output_type": "execute_result"
    }
   ],
   "source": [
    "historic_data[-1]"
   ]
  },
  {
   "cell_type": "code",
   "execution_count": 9,
   "metadata": {},
   "outputs": [
    {
     "data": {
      "text/plain": [
       "('20181204  22:30:00', 64.585, 64.585, 64.48, 64.48, -1)"
      ]
     },
     "execution_count": 9,
     "metadata": {},
     "output_type": "execute_result"
    }
   ],
   "source": [
    "historic_data[0]"
   ]
  },
  {
   "cell_type": "code",
   "execution_count": null,
   "metadata": {},
   "outputs": [],
   "source": [
    "temp_df = pd.DataFrame(historic_data)\n",
    "temp_df[0] = pd.to_datetime(temp_df[0], format='%Y%m%d  %H:%M:%S')\n",
    "temp_df.columns = [\"Time\", \"Open\", \"High\", \"Low\", \"Close\", \"Stuff\"]"
   ]
  },
  {
   "cell_type": "code",
   "execution_count": null,
   "metadata": {},
   "outputs": [],
   "source": [
    "temp_df"
   ]
  },
  {
   "cell_type": "code",
   "execution_count": null,
   "metadata": {
    "collapsed": true
   },
   "outputs": [],
   "source": [
    "temp_df.to_csv(path_or_buf=\"sample.csv\", index=False)"
   ]
  },
  {
   "cell_type": "code",
   "execution_count": null,
   "metadata": {},
   "outputs": [],
   "source": [
    "round(1.4)"
   ]
  },
  {
   "cell_type": "code",
   "execution_count": null,
   "metadata": {
    "collapsed": true
   },
   "outputs": [],
   "source": []
  }
 ],
 "metadata": {
  "kernelspec": {
   "display_name": "Python (traders_nlp)",
   "language": "python",
   "name": "traders_nlp"
  },
  "language_info": {
   "codemirror_mode": {
    "name": "ipython",
    "version": 3
   },
   "file_extension": ".py",
   "mimetype": "text/x-python",
   "name": "python",
   "nbconvert_exporter": "python",
   "pygments_lexer": "ipython3",
   "version": "3.6.3"
  },
  "varInspector": {
   "cols": {
    "lenName": 16,
    "lenType": 16,
    "lenVar": 40
   },
   "kernels_config": {
    "python": {
     "delete_cmd_postfix": "",
     "delete_cmd_prefix": "del ",
     "library": "var_list.py",
     "varRefreshCmd": "print(var_dic_list())"
    },
    "r": {
     "delete_cmd_postfix": ") ",
     "delete_cmd_prefix": "rm(",
     "library": "var_list.r",
     "varRefreshCmd": "cat(var_dic_list()) "
    }
   },
   "types_to_exclude": [
    "module",
    "function",
    "builtin_function_or_method",
    "instance",
    "_Feature"
   ],
   "window_display": false
  }
 },
 "nbformat": 4,
 "nbformat_minor": 2
}
