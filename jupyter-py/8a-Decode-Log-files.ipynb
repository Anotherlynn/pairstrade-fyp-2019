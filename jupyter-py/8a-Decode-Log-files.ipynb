{
 "cells": [
  {
   "cell_type": "code",
   "execution_count": 1,
   "metadata": {},
   "outputs": [],
   "source": [
    "from decode_logs import *"
   ]
  },
  {
   "cell_type": "code",
   "execution_count": null,
   "metadata": {},
   "outputs": [],
   "source": [
    "!python backtest_pair.py"
   ]
  },
  {
   "cell_type": "code",
   "execution_count": null,
   "metadata": {
    "collapsed": true
   },
   "outputs": [],
   "source": []
  },
  {
   "cell_type": "code",
   "execution_count": null,
   "metadata": {
    "collapsed": true
   },
   "outputs": [],
   "source": []
  },
  {
   "cell_type": "code",
   "execution_count": 113,
   "metadata": {},
   "outputs": [
    {
     "data": {
      "text/plain": [
       "['output/backtest-2019-04-03_15-12-29-040\\\\backtesting.log']"
      ]
     },
     "execution_count": 113,
     "metadata": {},
     "output_type": "execute_result"
    }
   ],
   "source": [
    "log_path = glob.glob(\"output\" + \"/\" + dirs[0] + \"/*.log\")\n",
    "log_path"
   ]
  },
  {
   "cell_type": "code",
   "execution_count": 114,
   "metadata": {},
   "outputs": [],
   "source": [
    "log_file_path = log_path[0]\n",
    "keyword = \"[strategy-status]\"\n",
    "\n",
    "match_lines = []\n",
    "with open(log_file_path, \"r\") as file:\n",
    "    for line in file:\n",
    "        idx = line.find(keyword)\n",
    "        if idx >= 0:\n",
    "            match_lines.append(line[idx:])"
   ]
  },
  {
   "cell_type": "code",
   "execution_count": 115,
   "metadata": {},
   "outputs": [],
   "source": [
    "dict_list = []\n",
    "for line in match_lines:\n",
    "    dict_list.append(eval(line[len(keyword) + 2: -1]))"
   ]
  },
  {
   "cell_type": "code",
   "execution_count": 116,
   "metadata": {},
   "outputs": [
    {
     "data": {
      "text/html": [
       "<div>\n",
       "<style>\n",
       "    .dataframe thead tr:only-child th {\n",
       "        text-align: right;\n",
       "    }\n",
       "\n",
       "    .dataframe thead th {\n",
       "        text-align: left;\n",
       "    }\n",
       "\n",
       "    .dataframe tbody tr th {\n",
       "        vertical-align: top;\n",
       "    }\n",
       "</style>\n",
       "<table border=\"1\" class=\"dataframe\">\n",
       "  <thead>\n",
       "    <tr style=\"text-align: right;\">\n",
       "      <th></th>\n",
       "      <th>allow_trade</th>\n",
       "      <th>alpha</th>\n",
       "      <th>data0</th>\n",
       "      <th>data1</th>\n",
       "      <th>date</th>\n",
       "      <th>enter_threshold_size</th>\n",
       "      <th>exit_threshold_size</th>\n",
       "      <th>initial_cash</th>\n",
       "      <th>initial_long_pv</th>\n",
       "      <th>initial_price_data0</th>\n",
       "      <th>...</th>\n",
       "      <th>lower_limit</th>\n",
       "      <th>max_lookback</th>\n",
       "      <th>portfolio_value</th>\n",
       "      <th>qty0</th>\n",
       "      <th>qty1</th>\n",
       "      <th>spread</th>\n",
       "      <th>spread_std</th>\n",
       "      <th>status</th>\n",
       "      <th>up_medium</th>\n",
       "      <th>upper_limit</th>\n",
       "    </tr>\n",
       "  </thead>\n",
       "  <tbody>\n",
       "    <tr>\n",
       "      <th>0</th>\n",
       "      <td>False</td>\n",
       "      <td>0.825526</td>\n",
       "      <td>40.275</td>\n",
       "      <td>51.795</td>\n",
       "      <td>2018-05-01</td>\n",
       "      <td>2.0</td>\n",
       "      <td>0.5</td>\n",
       "      <td>NaN</td>\n",
       "      <td>NaN</td>\n",
       "      <td>NaN</td>\n",
       "      <td>...</td>\n",
       "      <td>-0.093958</td>\n",
       "      <td>50</td>\n",
       "      <td>1000000.0</td>\n",
       "      <td>0</td>\n",
       "      <td>0</td>\n",
       "      <td>-0.003483</td>\n",
       "      <td>0.046979</td>\n",
       "      <td>0</td>\n",
       "      <td>0.023489</td>\n",
       "      <td>0.093958</td>\n",
       "    </tr>\n",
       "    <tr>\n",
       "      <th>1</th>\n",
       "      <td>True</td>\n",
       "      <td>0.825526</td>\n",
       "      <td>40.815</td>\n",
       "      <td>52.345</td>\n",
       "      <td>2018-05-02</td>\n",
       "      <td>2.0</td>\n",
       "      <td>0.5</td>\n",
       "      <td>NaN</td>\n",
       "      <td>NaN</td>\n",
       "      <td>NaN</td>\n",
       "      <td>...</td>\n",
       "      <td>-0.093958</td>\n",
       "      <td>50</td>\n",
       "      <td>1000000.0</td>\n",
       "      <td>0</td>\n",
       "      <td>0</td>\n",
       "      <td>0.001116</td>\n",
       "      <td>0.046979</td>\n",
       "      <td>0</td>\n",
       "      <td>0.023489</td>\n",
       "      <td>0.093958</td>\n",
       "    </tr>\n",
       "    <tr>\n",
       "      <th>2</th>\n",
       "      <td>True</td>\n",
       "      <td>0.829269</td>\n",
       "      <td>40.485</td>\n",
       "      <td>53.625</td>\n",
       "      <td>2018-05-03</td>\n",
       "      <td>2.0</td>\n",
       "      <td>0.5</td>\n",
       "      <td>NaN</td>\n",
       "      <td>NaN</td>\n",
       "      <td>NaN</td>\n",
       "      <td>...</td>\n",
       "      <td>-0.093958</td>\n",
       "      <td>50</td>\n",
       "      <td>1000000.0</td>\n",
       "      <td>0</td>\n",
       "      <td>0</td>\n",
       "      <td>-0.027802</td>\n",
       "      <td>0.046979</td>\n",
       "      <td>0</td>\n",
       "      <td>0.023489</td>\n",
       "      <td>0.093958</td>\n",
       "    </tr>\n",
       "    <tr>\n",
       "      <th>3</th>\n",
       "      <td>True</td>\n",
       "      <td>0.628990</td>\n",
       "      <td>41.555</td>\n",
       "      <td>54.165</td>\n",
       "      <td>2018-05-04</td>\n",
       "      <td>2.0</td>\n",
       "      <td>0.5</td>\n",
       "      <td>NaN</td>\n",
       "      <td>NaN</td>\n",
       "      <td>NaN</td>\n",
       "      <td>...</td>\n",
       "      <td>-0.093958</td>\n",
       "      <td>50</td>\n",
       "      <td>1000000.0</td>\n",
       "      <td>0</td>\n",
       "      <td>0</td>\n",
       "      <td>0.012612</td>\n",
       "      <td>0.046979</td>\n",
       "      <td>0</td>\n",
       "      <td>0.023489</td>\n",
       "      <td>0.093958</td>\n",
       "    </tr>\n",
       "    <tr>\n",
       "      <th>4</th>\n",
       "      <td>True</td>\n",
       "      <td>0.690333</td>\n",
       "      <td>40.365</td>\n",
       "      <td>54.155</td>\n",
       "      <td>2018-05-07</td>\n",
       "      <td>2.0</td>\n",
       "      <td>0.5</td>\n",
       "      <td>NaN</td>\n",
       "      <td>NaN</td>\n",
       "      <td>NaN</td>\n",
       "      <td>...</td>\n",
       "      <td>-0.093958</td>\n",
       "      <td>50</td>\n",
       "      <td>1000000.0</td>\n",
       "      <td>0</td>\n",
       "      <td>0</td>\n",
       "      <td>-0.025299</td>\n",
       "      <td>0.046979</td>\n",
       "      <td>0</td>\n",
       "      <td>0.023489</td>\n",
       "      <td>0.093958</td>\n",
       "    </tr>\n",
       "    <tr>\n",
       "      <th>5</th>\n",
       "      <td>True</td>\n",
       "      <td>0.637865</td>\n",
       "      <td>39.325</td>\n",
       "      <td>54.735</td>\n",
       "      <td>2018-05-08</td>\n",
       "      <td>2.0</td>\n",
       "      <td>0.5</td>\n",
       "      <td>NaN</td>\n",
       "      <td>NaN</td>\n",
       "      <td>NaN</td>\n",
       "      <td>...</td>\n",
       "      <td>-0.093958</td>\n",
       "      <td>50</td>\n",
       "      <td>1000000.0</td>\n",
       "      <td>0</td>\n",
       "      <td>0</td>\n",
       "      <td>-0.040750</td>\n",
       "      <td>0.046979</td>\n",
       "      <td>0</td>\n",
       "      <td>0.023489</td>\n",
       "      <td>0.093958</td>\n",
       "    </tr>\n",
       "    <tr>\n",
       "      <th>6</th>\n",
       "      <td>True</td>\n",
       "      <td>0.491627</td>\n",
       "      <td>39.755</td>\n",
       "      <td>55.375</td>\n",
       "      <td>2018-05-09</td>\n",
       "      <td>2.0</td>\n",
       "      <td>0.5</td>\n",
       "      <td>NaN</td>\n",
       "      <td>NaN</td>\n",
       "      <td>NaN</td>\n",
       "      <td>...</td>\n",
       "      <td>-0.093958</td>\n",
       "      <td>50</td>\n",
       "      <td>1000000.0</td>\n",
       "      <td>0</td>\n",
       "      <td>0</td>\n",
       "      <td>-0.006922</td>\n",
       "      <td>0.046979</td>\n",
       "      <td>0</td>\n",
       "      <td>0.023489</td>\n",
       "      <td>0.093958</td>\n",
       "    </tr>\n",
       "    <tr>\n",
       "      <th>7</th>\n",
       "      <td>True</td>\n",
       "      <td>0.463004</td>\n",
       "      <td>39.975</td>\n",
       "      <td>55.550</td>\n",
       "      <td>2018-05-10</td>\n",
       "      <td>2.0</td>\n",
       "      <td>0.5</td>\n",
       "      <td>NaN</td>\n",
       "      <td>NaN</td>\n",
       "      <td>NaN</td>\n",
       "      <td>...</td>\n",
       "      <td>-0.093958</td>\n",
       "      <td>50</td>\n",
       "      <td>1000000.0</td>\n",
       "      <td>0</td>\n",
       "      <td>0</td>\n",
       "      <td>0.002078</td>\n",
       "      <td>0.046979</td>\n",
       "      <td>0</td>\n",
       "      <td>0.023489</td>\n",
       "      <td>0.093958</td>\n",
       "    </tr>\n",
       "    <tr>\n",
       "      <th>8</th>\n",
       "      <td>True</td>\n",
       "      <td>0.468499</td>\n",
       "      <td>40.455</td>\n",
       "      <td>55.300</td>\n",
       "      <td>2018-05-11</td>\n",
       "      <td>2.0</td>\n",
       "      <td>0.5</td>\n",
       "      <td>NaN</td>\n",
       "      <td>NaN</td>\n",
       "      <td>NaN</td>\n",
       "      <td>...</td>\n",
       "      <td>-0.093958</td>\n",
       "      <td>50</td>\n",
       "      <td>1000000.0</td>\n",
       "      <td>0</td>\n",
       "      <td>0</td>\n",
       "      <td>0.014665</td>\n",
       "      <td>0.046979</td>\n",
       "      <td>0</td>\n",
       "      <td>0.023489</td>\n",
       "      <td>0.093958</td>\n",
       "    </tr>\n",
       "    <tr>\n",
       "      <th>9</th>\n",
       "      <td>True</td>\n",
       "      <td>0.477699</td>\n",
       "      <td>40.445</td>\n",
       "      <td>55.445</td>\n",
       "      <td>2018-05-14</td>\n",
       "      <td>2.0</td>\n",
       "      <td>0.5</td>\n",
       "      <td>NaN</td>\n",
       "      <td>NaN</td>\n",
       "      <td>NaN</td>\n",
       "      <td>...</td>\n",
       "      <td>-0.093958</td>\n",
       "      <td>50</td>\n",
       "      <td>1000000.0</td>\n",
       "      <td>0</td>\n",
       "      <td>0</td>\n",
       "      <td>0.002947</td>\n",
       "      <td>0.046979</td>\n",
       "      <td>0</td>\n",
       "      <td>0.023489</td>\n",
       "      <td>0.093958</td>\n",
       "    </tr>\n",
       "  </tbody>\n",
       "</table>\n",
       "<p>10 rows × 26 columns</p>\n",
       "</div>"
      ],
      "text/plain": [
       "   allow_trade     alpha   data0   data1       date  enter_threshold_size  \\\n",
       "0        False  0.825526  40.275  51.795 2018-05-01                   2.0   \n",
       "1         True  0.825526  40.815  52.345 2018-05-02                   2.0   \n",
       "2         True  0.829269  40.485  53.625 2018-05-03                   2.0   \n",
       "3         True  0.628990  41.555  54.165 2018-05-04                   2.0   \n",
       "4         True  0.690333  40.365  54.155 2018-05-07                   2.0   \n",
       "5         True  0.637865  39.325  54.735 2018-05-08                   2.0   \n",
       "6         True  0.491627  39.755  55.375 2018-05-09                   2.0   \n",
       "7         True  0.463004  39.975  55.550 2018-05-10                   2.0   \n",
       "8         True  0.468499  40.455  55.300 2018-05-11                   2.0   \n",
       "9         True  0.477699  40.445  55.445 2018-05-14                   2.0   \n",
       "\n",
       "   exit_threshold_size  initial_cash  initial_long_pv  initial_price_data0  \\\n",
       "0                  0.5           NaN              NaN                  NaN   \n",
       "1                  0.5           NaN              NaN                  NaN   \n",
       "2                  0.5           NaN              NaN                  NaN   \n",
       "3                  0.5           NaN              NaN                  NaN   \n",
       "4                  0.5           NaN              NaN                  NaN   \n",
       "5                  0.5           NaN              NaN                  NaN   \n",
       "6                  0.5           NaN              NaN                  NaN   \n",
       "7                  0.5           NaN              NaN                  NaN   \n",
       "8                  0.5           NaN              NaN                  NaN   \n",
       "9                  0.5           NaN              NaN                  NaN   \n",
       "\n",
       "      ...       lower_limit  max_lookback  portfolio_value  qty0  qty1  \\\n",
       "0     ...         -0.093958            50        1000000.0     0     0   \n",
       "1     ...         -0.093958            50        1000000.0     0     0   \n",
       "2     ...         -0.093958            50        1000000.0     0     0   \n",
       "3     ...         -0.093958            50        1000000.0     0     0   \n",
       "4     ...         -0.093958            50        1000000.0     0     0   \n",
       "5     ...         -0.093958            50        1000000.0     0     0   \n",
       "6     ...         -0.093958            50        1000000.0     0     0   \n",
       "7     ...         -0.093958            50        1000000.0     0     0   \n",
       "8     ...         -0.093958            50        1000000.0     0     0   \n",
       "9     ...         -0.093958            50        1000000.0     0     0   \n",
       "\n",
       "     spread  spread_std  status  up_medium  upper_limit  \n",
       "0 -0.003483    0.046979       0   0.023489     0.093958  \n",
       "1  0.001116    0.046979       0   0.023489     0.093958  \n",
       "2 -0.027802    0.046979       0   0.023489     0.093958  \n",
       "3  0.012612    0.046979       0   0.023489     0.093958  \n",
       "4 -0.025299    0.046979       0   0.023489     0.093958  \n",
       "5 -0.040750    0.046979       0   0.023489     0.093958  \n",
       "6 -0.006922    0.046979       0   0.023489     0.093958  \n",
       "7  0.002078    0.046979       0   0.023489     0.093958  \n",
       "8  0.014665    0.046979       0   0.023489     0.093958  \n",
       "9  0.002947    0.046979       0   0.023489     0.093958  \n",
       "\n",
       "[10 rows x 26 columns]"
      ]
     },
     "execution_count": 116,
     "metadata": {},
     "output_type": "execute_result"
    }
   ],
   "source": [
    "df = pd.DataFrame(dict_list)\n",
    "df.head(10)"
   ]
  },
  {
   "cell_type": "code",
   "execution_count": 117,
   "metadata": {},
   "outputs": [
    {
     "data": {
      "image/png": "[encoded data removed]",
      "text/plain": [
       "<matplotlib.figure.Figure at 0x21e16c957b8>"
      ]
     },
     "metadata": {},
     "output_type": "display_data"
    }
   ],
   "source": [
    "plt.plot(df[\"status\"])\n",
    "plt.show()"
   ]
  },
  {
   "cell_type": "code",
   "execution_count": 118,
   "metadata": {},
   "outputs": [
    {
     "data": {
      "image/png": "[encoded data removed]",
      "text/plain": [
       "<matplotlib.figure.Figure at 0x21e1972c400>"
      ]
     },
     "metadata": {},
     "output_type": "display_data"
    }
   ],
   "source": [
    "plt.plot(df[\"portfolio_value\"])\n",
    "plt.show()"
   ]
  },
  {
   "cell_type": "code",
   "execution_count": 119,
   "metadata": {},
   "outputs": [
    {
     "data": {
      "image/png": "[encoded data removed]",
      "text/plain": [
       "<matplotlib.figure.Figure at 0x21e196d8a20>"
      ]
     },
     "metadata": {},
     "output_type": "display_data"
    }
   ],
   "source": [
    "plt.plot(df[\"spread\"])\n",
    "plt.plot(df[\"upper_limit\"])\n",
    "plt.plot(df[\"lower_limit\"])\n",
    "plt.show()"
   ]
  },
  {
   "cell_type": "code",
   "execution_count": 120,
   "metadata": {},
   "outputs": [
    {
     "data": {
      "image/png": "[encoded data removed]",
      "text/plain": [
       "<matplotlib.figure.Figure at 0x21e1961f0f0>"
      ]
     },
     "metadata": {},
     "output_type": "display_data"
    }
   ],
   "source": [
    "plt.plot(df[\"data0\"])\n",
    "plt.plot(df[\"data1\"])\n",
    "plt.show()"
   ]
  },
  {
   "cell_type": "code",
   "execution_count": null,
   "metadata": {
    "collapsed": true
   },
   "outputs": [],
   "source": []
  },
  {
   "cell_type": "code",
   "execution_count": null,
   "metadata": {
    "collapsed": true
   },
   "outputs": [],
   "source": []
  }
 ],
 "metadata": {
  "kernelspec": {
   "display_name": "Python (traders_nlp)",
   "language": "python",
   "name": "traders_nlp"
  },
  "language_info": {
   "codemirror_mode": {
    "name": "ipython",
    "version": 3
   },
   "file_extension": ".py",
   "mimetype": "text/x-python",
   "name": "python",
   "nbconvert_exporter": "python",
   "pygments_lexer": "ipython3",
   "version": "3.6.3"
  },
  "toc": {
   "base_numbering": 1,
   "nav_menu": {},
   "number_sections": true,
   "sideBar": true,
   "skip_h1_title": false,
   "title_cell": "Table of Contents",
   "title_sidebar": "Contents",
   "toc_cell": false,
   "toc_position": {},
   "toc_section_display": true,
   "toc_window_display": false
  },
  "varInspector": {
   "cols": {
    "lenName": 16,
    "lenType": 16,
    "lenVar": 40
   },
   "kernels_config": {
    "python": {
     "delete_cmd_postfix": "",
     "delete_cmd_prefix": "del ",
     "library": "var_list.py",
     "varRefreshCmd": "print(var_dic_list())"
    },
    "r": {
     "delete_cmd_postfix": ") ",
     "delete_cmd_prefix": "rm(",
     "library": "var_list.r",
     "varRefreshCmd": "cat(var_dic_list()) "
    }
   },
   "types_to_exclude": [
    "module",
    "function",
    "builtin_function_or_method",
    "instance",
    "_Feature"
   ],
   "window_display": false
  }
 },
 "nbformat": 4,
 "nbformat_minor": 2
}
