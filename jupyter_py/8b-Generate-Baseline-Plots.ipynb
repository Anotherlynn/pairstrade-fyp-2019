{
 "cells": [
  {
   "cell_type": "code",
   "execution_count": 188,
   "metadata": {},
   "outputs": [],
   "source": [
    "import glob\n",
    "import os\n",
    "\n",
    "import pandas as pd\n",
    "import numpy as np\n",
    "\n",
    "import matplotlib.pyplot as plt\n",
    "from matplotlib.ticker import PercentFormatter"
   ]
  },
  {
   "cell_type": "code",
   "execution_count": 50,
   "metadata": {},
   "outputs": [
    {
     "name": "stdout",
     "output_type": "stream",
     "text": [
      "[['./final_report_outputs/cointegration_1_output']\n",
      " ['./final_report_outputs/cointegration_2_output']\n",
      " ['./final_report_outputs/distance_output_1']\n",
      " ['./final_report_outputs/kalman_output_1']\n",
      " ['./final_report_outputs/kalman_output_2']\n",
      " ['./final_report_outputs/kalman_output_3']]\n"
     ]
    }
   ],
   "source": [
    "base = './final_report_outputs/'\n",
    "print(pd.DataFrame(glob.glob(base + \"*\")).values)"
   ]
  },
  {
   "cell_type": "code",
   "execution_count": 102,
   "metadata": {},
   "outputs": [],
   "source": [
    "class GSResult(object):\n",
    "    def __init__(self, path):\n",
    "        self.summary = pd.read_csv(path + \"/summary.csv\")\n",
    "        self.csv_paths = glob.glob(path + '/*.csv')\n",
    "        self.csv_paths.remove(path + '/summary.csv')\n",
    "        self.d = {}\n",
    "        \n",
    "        for p in self.csv_paths:\n",
    "            uuid = os.path.splitext(os.path.basename(p))[0]\n",
    "            self.d[uuid] = pd.read_csv(p)\n",
    "    \n",
    "    def get(self, uuid):\n",
    "        return self.d[uuid]\n",
    "    \n",
    "    @property\n",
    "    def uuids(self):\n",
    "        return [os.path.splitext(os.path.basename(p))[0] for p in self.csv_paths]\n",
    "    \n",
    "class GSReader(object):\n",
    "    def __init__(self, base = './final_report_outputs/', folder = ''):\n",
    "        self.grid_search_dirs = glob.glob(base + folder + \"*\")\n",
    "        self.d = {}\n",
    "        \n",
    "#         print(self.grid_search_dirs)\n",
    "        \n",
    "        for p in self.grid_search_dirs:\n",
    "            key = os.path.basename(p)\n",
    "            self.d[key] = GSResult(p)\n",
    "    \n",
    "    def get(self, key):\n",
    "        return self.d[key]\n",
    "    \n",
    "    @property\n",
    "    def dirs(self):\n",
    "        return [os.path.basename(p) for p in self.grid_search_dirs] "
   ]
  },
  {
   "cell_type": "code",
   "execution_count": 117,
   "metadata": {},
   "outputs": [],
   "source": [
    "kalman_gs = GSReader(folder='kalman_output_3/')\n",
    "distance_gs = GSReader(folder='distance_output_1/')\n",
    "cointegration_gs = GSReader(folder='cointegration_2_output/')"
   ]
  },
  {
   "cell_type": "code",
   "execution_count": 92,
   "metadata": {},
   "outputs": [
    {
     "data": {
      "text/plain": [
       "['grid-search-2019-04-14_00-08-39-956',\n",
       " 'grid-search-2019-04-14_00-13-08-354',\n",
       " 'grid-search-2019-04-14_00-16-40-212',\n",
       " 'grid-search-2019-04-14_00-20-49-505',\n",
       " 'grid-search-2019-04-14_00-24-23-139',\n",
       " 'grid-search-2019-04-14_00-28-19-330',\n",
       " 'grid-search-2019-04-14_00-31-49-612',\n",
       " 'grid-search-2019-04-14_00-36-22-722']"
      ]
     },
     "execution_count": 92,
     "metadata": {},
     "output_type": "execute_result"
    }
   ],
   "source": [
    "kalman_gs.dirs"
   ]
  },
  {
   "cell_type": "code",
   "execution_count": 93,
   "metadata": {},
   "outputs": [
    {
     "data": {
      "text/html": [
       "<div>\n",
       "<style scoped>\n",
       "    .dataframe tbody tr th:only-of-type {\n",
       "        vertical-align: middle;\n",
       "    }\n",
       "\n",
       "    .dataframe tbody tr th {\n",
       "        vertical-align: top;\n",
       "    }\n",
       "\n",
       "    .dataframe thead th {\n",
       "        text-align: right;\n",
       "    }\n",
       "</style>\n",
       "<table border=\"1\" class=\"dataframe\">\n",
       "  <thead>\n",
       "    <tr style=\"text-align: right;\">\n",
       "      <th></th>\n",
       "      <th>enter_threshold_size</th>\n",
       "      <th>exit_threshold_size</th>\n",
       "      <th>loss_limit</th>\n",
       "      <th>avg_sharpe_ratio</th>\n",
       "      <th>median_sharpe_ratio</th>\n",
       "      <th>avg_overall_return</th>\n",
       "      <th>median_overall_return</th>\n",
       "      <th>overall_return_std</th>\n",
       "      <th>uuid</th>\n",
       "    </tr>\n",
       "  </thead>\n",
       "  <tbody>\n",
       "    <tr>\n",
       "      <th>0</th>\n",
       "      <td>2.0</td>\n",
       "      <td>0.5</td>\n",
       "      <td>-0.10</td>\n",
       "      <td>-0.302233</td>\n",
       "      <td>-0.368736</td>\n",
       "      <td>0.007784</td>\n",
       "      <td>0.000000</td>\n",
       "      <td>0.149797</td>\n",
       "      <td>3d8de3a7-53cf-490a-8e75-19ed014b2b64</td>\n",
       "    </tr>\n",
       "    <tr>\n",
       "      <th>1</th>\n",
       "      <td>2.0</td>\n",
       "      <td>0.5</td>\n",
       "      <td>-0.05</td>\n",
       "      <td>-0.574604</td>\n",
       "      <td>-1.110858</td>\n",
       "      <td>-0.014100</td>\n",
       "      <td>-0.002348</td>\n",
       "      <td>0.122717</td>\n",
       "      <td>ce1f75f8-947e-47a5-9b2a-bb5f19fde1d1</td>\n",
       "    </tr>\n",
       "    <tr>\n",
       "      <th>2</th>\n",
       "      <td>1.0</td>\n",
       "      <td>0.5</td>\n",
       "      <td>-0.10</td>\n",
       "      <td>-0.070072</td>\n",
       "      <td>0.119207</td>\n",
       "      <td>0.072771</td>\n",
       "      <td>0.023297</td>\n",
       "      <td>0.230219</td>\n",
       "      <td>1697bcb6-769b-40cb-babe-51b52631b624</td>\n",
       "    </tr>\n",
       "    <tr>\n",
       "      <th>3</th>\n",
       "      <td>1.0</td>\n",
       "      <td>0.5</td>\n",
       "      <td>-0.05</td>\n",
       "      <td>-5.263931</td>\n",
       "      <td>-0.346933</td>\n",
       "      <td>0.024344</td>\n",
       "      <td>-0.006780</td>\n",
       "      <td>0.214499</td>\n",
       "      <td>f11d1e45-639a-4759-a63c-b0e3c27d2c48</td>\n",
       "    </tr>\n",
       "  </tbody>\n",
       "</table>\n",
       "</div>"
      ],
      "text/plain": [
       "   enter_threshold_size  exit_threshold_size  loss_limit  avg_sharpe_ratio  \\\n",
       "0                   2.0                  0.5       -0.10         -0.302233   \n",
       "1                   2.0                  0.5       -0.05         -0.574604   \n",
       "2                   1.0                  0.5       -0.10         -0.070072   \n",
       "3                   1.0                  0.5       -0.05         -5.263931   \n",
       "\n",
       "   median_sharpe_ratio  avg_overall_return  median_overall_return  \\\n",
       "0            -0.368736            0.007784               0.000000   \n",
       "1            -1.110858           -0.014100              -0.002348   \n",
       "2             0.119207            0.072771               0.023297   \n",
       "3            -0.346933            0.024344              -0.006780   \n",
       "\n",
       "   overall_return_std                                  uuid  \n",
       "0            0.149797  3d8de3a7-53cf-490a-8e75-19ed014b2b64  \n",
       "1            0.122717  ce1f75f8-947e-47a5-9b2a-bb5f19fde1d1  \n",
       "2            0.230219  1697bcb6-769b-40cb-babe-51b52631b624  \n",
       "3            0.214499  f11d1e45-639a-4759-a63c-b0e3c27d2c48  "
      ]
     },
     "execution_count": 93,
     "metadata": {},
     "output_type": "execute_result"
    }
   ],
   "source": [
    "folder = kalman_gs.dirs[0]\n",
    "kalman_gs.get(folder).summary"
   ]
  },
  {
   "cell_type": "code",
   "execution_count": 94,
   "metadata": {},
   "outputs": [
    {
     "data": {
      "text/plain": [
       "['1697bcb6-769b-40cb-babe-51b52631b624',\n",
       " '3d8de3a7-53cf-490a-8e75-19ed014b2b64',\n",
       " 'ce1f75f8-947e-47a5-9b2a-bb5f19fde1d1',\n",
       " 'f11d1e45-639a-4759-a63c-b0e3c27d2c48']"
      ]
     },
     "execution_count": 94,
     "metadata": {},
     "output_type": "execute_result"
    }
   ],
   "source": [
    "kalman_gs.get('grid-search-2019-04-14_00-08-39-956').uuids"
   ]
  },
  {
   "cell_type": "code",
   "execution_count": 95,
   "metadata": {},
   "outputs": [],
   "source": [
    "df = kalman_gs.get('grid-search-2019-04-14_00-08-39-956').get('1697bcb6-769b-40cb-babe-51b52631b624')"
   ]
  },
  {
   "cell_type": "code",
   "execution_count": 96,
   "metadata": {},
   "outputs": [
    {
     "data": {
      "text/html": [
       "<div>\n",
       "<style scoped>\n",
       "    .dataframe tbody tr th:only-of-type {\n",
       "        vertical-align: middle;\n",
       "    }\n",
       "\n",
       "    .dataframe tbody tr th {\n",
       "        vertical-align: top;\n",
       "    }\n",
       "\n",
       "    .dataframe thead th {\n",
       "        text-align: right;\n",
       "    }\n",
       "</style>\n",
       "<table border=\"1\" class=\"dataframe\">\n",
       "  <thead>\n",
       "    <tr style=\"text-align: right;\">\n",
       "      <th></th>\n",
       "      <th>endcash</th>\n",
       "      <th>pair</th>\n",
       "      <th>profit</th>\n",
       "      <th>returnstd</th>\n",
       "      <th>sharperatio</th>\n",
       "      <th>startcash</th>\n",
       "    </tr>\n",
       "  </thead>\n",
       "  <tbody>\n",
       "    <tr>\n",
       "      <th>0</th>\n",
       "      <td>9.092936e+05</td>\n",
       "      <td>MODN-OMC</td>\n",
       "      <td>-0.090706</td>\n",
       "      <td>17170.155163</td>\n",
       "      <td>-0.601226</td>\n",
       "      <td>1000000</td>\n",
       "    </tr>\n",
       "    <tr>\n",
       "      <th>1</th>\n",
       "      <td>7.049842e+05</td>\n",
       "      <td>HUBS-IPG</td>\n",
       "      <td>-0.295016</td>\n",
       "      <td>13878.147228</td>\n",
       "      <td>-1.067793</td>\n",
       "      <td>1000000</td>\n",
       "    </tr>\n",
       "    <tr>\n",
       "      <th>2</th>\n",
       "      <td>1.455983e+06</td>\n",
       "      <td>MODN-SAP</td>\n",
       "      <td>0.455983</td>\n",
       "      <td>19302.992883</td>\n",
       "      <td>1.188774</td>\n",
       "      <td>1000000</td>\n",
       "    </tr>\n",
       "    <tr>\n",
       "      <th>3</th>\n",
       "      <td>1.000000e+06</td>\n",
       "      <td>IBM-SQNS</td>\n",
       "      <td>0.000000</td>\n",
       "      <td>0.000000</td>\n",
       "      <td>NaN</td>\n",
       "      <td>1000000</td>\n",
       "    </tr>\n",
       "    <tr>\n",
       "      <th>4</th>\n",
       "      <td>7.713071e+05</td>\n",
       "      <td>URI-WIT</td>\n",
       "      <td>-0.228693</td>\n",
       "      <td>17474.146866</td>\n",
       "      <td>-1.013908</td>\n",
       "      <td>1000000</td>\n",
       "    </tr>\n",
       "    <tr>\n",
       "      <th>5</th>\n",
       "      <td>1.346284e+06</td>\n",
       "      <td>URI-VMW</td>\n",
       "      <td>0.346284</td>\n",
       "      <td>19319.152757</td>\n",
       "      <td>0.942244</td>\n",
       "      <td>1000000</td>\n",
       "    </tr>\n",
       "    <tr>\n",
       "      <th>6</th>\n",
       "      <td>8.727292e+05</td>\n",
       "      <td>CACI-PANW</td>\n",
       "      <td>-0.127271</td>\n",
       "      <td>21313.119758</td>\n",
       "      <td>-0.356468</td>\n",
       "      <td>1000000</td>\n",
       "    </tr>\n",
       "    <tr>\n",
       "      <th>7</th>\n",
       "      <td>8.834762e+05</td>\n",
       "      <td>CACI-QTM</td>\n",
       "      <td>-0.116524</td>\n",
       "      <td>13513.239132</td>\n",
       "      <td>-1.171639</td>\n",
       "      <td>1000000</td>\n",
       "    </tr>\n",
       "    <tr>\n",
       "      <th>8</th>\n",
       "      <td>8.108405e+05</td>\n",
       "      <td>CACI-HIVE</td>\n",
       "      <td>-0.189160</td>\n",
       "      <td>9801.224979</td>\n",
       "      <td>-1.663236</td>\n",
       "      <td>1000000</td>\n",
       "    </tr>\n",
       "    <tr>\n",
       "      <th>9</th>\n",
       "      <td>1.023603e+06</td>\n",
       "      <td>CRM-PANW</td>\n",
       "      <td>0.023603</td>\n",
       "      <td>1434.963167</td>\n",
       "      <td>0.152666</td>\n",
       "      <td>1000000</td>\n",
       "    </tr>\n",
       "  </tbody>\n",
       "</table>\n",
       "</div>"
      ],
      "text/plain": [
       "        endcash       pair    profit     returnstd  sharperatio  startcash\n",
       "0  9.092936e+05   MODN-OMC -0.090706  17170.155163    -0.601226    1000000\n",
       "1  7.049842e+05   HUBS-IPG -0.295016  13878.147228    -1.067793    1000000\n",
       "2  1.455983e+06   MODN-SAP  0.455983  19302.992883     1.188774    1000000\n",
       "3  1.000000e+06   IBM-SQNS  0.000000      0.000000          NaN    1000000\n",
       "4  7.713071e+05    URI-WIT -0.228693  17474.146866    -1.013908    1000000\n",
       "5  1.346284e+06    URI-VMW  0.346284  19319.152757     0.942244    1000000\n",
       "6  8.727292e+05  CACI-PANW -0.127271  21313.119758    -0.356468    1000000\n",
       "7  8.834762e+05   CACI-QTM -0.116524  13513.239132    -1.171639    1000000\n",
       "8  8.108405e+05  CACI-HIVE -0.189160   9801.224979    -1.663236    1000000\n",
       "9  1.023603e+06   CRM-PANW  0.023603   1434.963167     0.152666    1000000"
      ]
     },
     "execution_count": 96,
     "metadata": {},
     "output_type": "execute_result"
    }
   ],
   "source": [
    "df.head(10)"
   ]
  },
  {
   "cell_type": "code",
   "execution_count": 229,
   "metadata": {},
   "outputs": [],
   "source": [
    "def plot_rs_dist(rs, fig_name, fig_title):\n",
    "#     return_in_percent = np.array(rs) / rl_constants.initial_cash\n",
    "    stat = plt.hist(rs, bins=20)\n",
    "    \n",
    "    mean = rs.mean()\n",
    "    median = np.median(rs)\n",
    "    \n",
    "    plt.axvline(mean, color='r', linestyle='dashed', linewidth=1, label='Mean: {:.3f}'.format(mean))\n",
    "    plt.axvline(median, color='y', linestyle='dashed', linewidth=1, label='Median: {:.3f}'.format(median))\n",
    "    \n",
    "    plt.gcf().set_size_inches(14, 7)\n",
    "    \n",
    "    if len(fig_title) != 0:\n",
    "        plt.suptitle(fig_title)\n",
    "    plt.xlabel('return')\n",
    "    plt.ylabel('frequency')\n",
    "    plt.legend(loc='upper right')\n",
    "    print(stat)\n",
    "#     plt.savefig(join(plot_folder_path, fig_name+'.png'))\n",
    "    print('Number of pairs:', len(rs))\n",
    "    print('Mean return over all pairs: {:.4f}'.format(np.mean(rs)))\n",
    "    \n",
    "def plot_rs_dist(rs, fig_name, fig_title, mean=False, median=False, color=None, methodName=None):\n",
    "    return_in_percent = np.array(rs)\n",
    "#     stat = plt.hist(return_in_percent, bins=30, weights=np.ones(len(return_in_percent)) / len(return_in_percent))\n",
    "    y, binEdges = np.histogram(return_in_percent, bins=30, density=True)\n",
    "    \n",
    "    bincenters = 0.5*(binEdges[1:]+binEdges[:-1])\n",
    "    plt.plot(bincenters,y,'-', color=color, label=methodName)\n",
    "    \n",
    "    mean_stat = return_in_percent.mean()\n",
    "    median_stat = np.median(return_in_percent)\n",
    "    \n",
    "    if mean:\n",
    "        plt.axvline(mean_stat, color=color, linestyle='dashed', linewidth=1, label=methodName+' Mean: {:.3f}'.format(mean_stat))\n",
    "    if median:\n",
    "        plt.axvline(median_stat, color=color, linestyle='dashed', linewidth=1, label=methodName+' Median: {:.3f}'.format(median_stat))\n",
    "    \n",
    "    plt.gcf().set_size_inches(14, 7)\n",
    "#     plt.gca().yaxis.set_major_formatter(PercentFormatter(1))\n",
    "    plt.gca().xaxis.set_major_formatter(PercentFormatter(1))\n",
    "    \n",
    "    if len(fig_title) != 0:\n",
    "        plt.suptitle(fig_title)\n",
    "    plt.xlabel('Annualized Return')\n",
    "    plt.ylabel('density of the distribution of all pairs')\n",
    "    plt.legend(loc='upper right')\n",
    "    plt.grid(True)\n",
    "    plt.xlim(-1, 2)\n",
    "#     print(stat)\n",
    "#     plt.savefig(join(plot_folder_path, fig_name+'.png'))\n",
    "    print('Number of pairs:', len(return_in_percent))\n",
    "    print('Mean return over all pairs: {:.4f}'.format(np.mean(return_in_percent)))"
   ]
  },
  {
   "cell_type": "code",
   "execution_count": 115,
   "metadata": {},
   "outputs": [
    {
     "name": "stderr",
     "output_type": "stream",
     "text": [
      "No handles with labels found to put in legend.\n"
     ]
    },
    {
     "name": "stdout",
     "output_type": "stream",
     "text": [
      "Number of pairs: 60\n",
      "Mean return over all pairs: 0.0728\n"
     ]
    },
    {
     "data": {
      "image/png": "[encoded data removed]",
      "text/plain": [
       "<Figure size 1008x504 with 1 Axes>"
      ]
     },
     "metadata": {
      "needs_background": "light"
     },
     "output_type": "display_data"
    }
   ],
   "source": [
    "plot_rs_dist(df['profit'], \"\", \"kalman best pair in 2015\")"
   ]
  },
  {
   "cell_type": "code",
   "execution_count": 118,
   "metadata": {},
   "outputs": [],
   "source": [
    "kalman_gs = GSReader(folder='kalman_output_3/')\n",
    "distance_gs = GSReader(folder='distance_output_1/')\n",
    "cointegration_gs = GSReader(folder='cointegration_2_output/')"
   ]
  },
  {
   "cell_type": "code",
   "execution_count": 212,
   "metadata": {},
   "outputs": [],
   "source": [
    "# TECH stocks\n",
    "# 2015\n",
    "# kalman_2015 = kalman_gs.get('grid-search-2019-04-14_00-08-39-956').get('1697bcb6-769b-40cb-babe-51b52631b624')\n",
    "# distance_2015 = distance_gs.get('grid-search-2019-04-13_23-38-38-625').get('243ed1ab-f0fb-403d-8e10-b47929bd51bd')\n",
    "# cointegration_2015 = cointegration_gs.get('grid-search-2019-04-13_21-47-13-877').get('9cc83f42-33e0-4114-9661-751ae9224a68')\n",
    "\n",
    "# 2016\n",
    "kalman_2016_t = kalman_gs.get(kalman_gs.dirs[1]).get('3140f9a2-597a-4b66-a2f2-0cfe05720f87')\n",
    "distance_2016_t = distance_gs.get(distance_gs.dirs[1]).get('406ba7da-b851-4649-a16a-4b18fcd94d4d')\n",
    "cointegration_2016_t = cointegration_gs.get(cointegration_gs.dirs[1]).get('242f7bea-b98d-448e-84b0-6dfaa4bd64b6')\n",
    "\n",
    "# 2017 \n",
    "kalman_2017_t = kalman_gs.get(kalman_gs.dirs[2]).get('cf8d5b4f-4e1f-44d5-9825-7033ebdd1222')\n",
    "distance_2017_t = distance_gs.get(distance_gs.dirs[2]).get('0488b7fc-45be-4c75-89c6-31607169e130')\n",
    "cointegration_2017_t = cointegration_gs.get(cointegration_gs.dirs[2]).get('3d6bb2f6-f763-4858-bb0d-372ed4294251')\n",
    "\n",
    "# 2018\n",
    "kalman_2018_t = kalman_gs.get(kalman_gs.dirs[3]).get('dc2d0970-3ea8-4ddf-8bb5-14430eda1bec')\n",
    "distance_2018_t = distance_gs.get(distance_gs.dirs[3]).get('15162f92-1e86-4805-9869-5219b32b1738')\n",
    "cointegration_2018_t = cointegration_gs.get(cointegration_gs.dirs[3]).get('08713a18-5840-4eaf-9d3e-876223175b3c')"
   ]
  },
  {
   "cell_type": "code",
   "execution_count": 226,
   "metadata": {},
   "outputs": [
    {
     "data": {
      "text/plain": [
       "['grid-search-2019-04-14_00-08-39-956',\n",
       " 'grid-search-2019-04-14_00-13-08-354',\n",
       " 'grid-search-2019-04-14_00-16-40-212',\n",
       " 'grid-search-2019-04-14_00-20-49-505',\n",
       " 'grid-search-2019-04-14_00-24-23-139',\n",
       " 'grid-search-2019-04-14_00-28-19-330',\n",
       " 'grid-search-2019-04-14_00-31-49-612',\n",
       " 'grid-search-2019-04-14_00-36-22-722']"
      ]
     },
     "execution_count": 226,
     "metadata": {},
     "output_type": "execute_result"
    }
   ],
   "source": [
    "kalman_gs.dirs"
   ]
  },
  {
   "cell_type": "code",
   "execution_count": 213,
   "metadata": {},
   "outputs": [],
   "source": [
    "# ENERGY stocks\n",
    "# 2016\n",
    "kalman_2016 = kalman_gs.get(kalman_gs.dirs[5]).get('ee009315-187f-40ae-bedb-e0ff42d7f5c5')\n",
    "distance_2016 = distance_gs.get(distance_gs.dirs[5]).get('393e2278-3237-46e3-bbdb-cecf8fa64431')\n",
    "cointegration_2016 = cointegration_gs.get(cointegration_gs.dirs[5]).get('63f651c0-9174-4551-a53f-f1c44cf2e2db')\n",
    "\n",
    "# 2017 \n",
    "kalman_2017 = kalman_gs.get(kalman_gs.dirs[6]).get('7c405a8a-08e6-4bbd-bb6d-8bbea91c2737')\n",
    "distance_2017 = distance_gs.get(distance_gs.dirs[6]).get('5323c22c-3678-4b4f-9634-ba6221ffc6e9')\n",
    "cointegration_2017 = cointegration_gs.get(cointegration_gs.dirs[6]).get('bb2451ed-6956-437a-9f5d-2f61275bf1c5')\n",
    "\n",
    "# 2018\n",
    "kalman_2018 = kalman_gs.get(kalman_gs.dirs[7]).get('2bc1e0db-ffd1-478d-9a8c-80406abd5cce')\n",
    "distance_2018 = distance_gs.get(distance_gs.dirs[7]).get('412f5fc8-fd3f-4bd8-899f-4ff24fbd5cd0')\n",
    "cointegration_2018 = cointegration_gs.get(cointegration_gs.dirs[7]).get('0ad65a5a-a6eb-40e1-a7df-f9c2c600f22e')"
   ]
  },
  {
   "cell_type": "code",
   "execution_count": 166,
   "metadata": {},
   "outputs": [],
   "source": [
    "rl_2016 = None\n",
    "rl_2017 = None\n",
    "rl_2018 = None\n",
    "\n",
    "with open(\"final_report_outputs/test_tech_1.txt\", \"r\") as myfile:\n",
    "    rl_2016 = eval(myfile.readlines()[0])\n",
    "    \n",
    "with open(\"final_report_outputs/test_tech_2.txt\", \"r\") as myfile:\n",
    "    rl_2017 = eval(myfile.readlines()[0])\n",
    "    \n",
    "with open(\"final_report_outputs/test_tech_3.txt\", \"r\") as myfile:\n",
    "    rl_2018 = eval(myfile.readlines()[0])"
   ]
  },
  {
   "cell_type": "code",
   "execution_count": 214,
   "metadata": {},
   "outputs": [
    {
     "name": "stdout",
     "output_type": "stream",
     "text": [
      "Number of pairs: 47\n",
      "Mean return over all pairs: 0.0428\n",
      "Number of pairs: 6670\n",
      "Mean return over all pairs: 0.3269\n",
      "Number of pairs: 133\n",
      "Mean return over all pairs: 0.0286\n",
      "Number of pairs: 238\n",
      "Mean return over all pairs: 0.0321\n"
     ]
    },
    {
     "data": {
      "image/png": "[encoded data removed]",
      "text/plain": [
       "<Figure size 1008x504 with 1 Axes>"
      ]
     },
     "metadata": {
      "needs_background": "light"
     },
     "output_type": "display_data"
    }
   ],
   "source": [
    "fig_title = \"Distribution of returns of various strategies (2016 - technology)\"\n",
    "plot_rs_dist(kalman_2016_t['profit'], \"\", fig_title, mean=False, median=False, color=\"blue\", methodName=\"Cointegration (Kalman Filter)\")\n",
    "plot_rs_dist(np.array(rl_2016) / 10000, \"\", fig_title, mean=False, median=False, color=\"red\", methodName=\"RL Trading Agent\")\n",
    "plot_rs_dist(distance_2016_t['profit'], \"\", fig_title, mean=False, median=False, color=\"green\", methodName=\"Distance\")\n",
    "plot_rs_dist(cointegration_2016_t['profit'], \"\", fig_title, mean=False, median=False, color=\"gold\", methodName=\"Cointegration (Rolling OLS)\")\n",
    "plt.show()"
   ]
  },
  {
   "cell_type": "code",
   "execution_count": 208,
   "metadata": {},
   "outputs": [
    {
     "name": "stdout",
     "output_type": "stream",
     "text": [
      "Number of pairs: 57\n",
      "Mean return over all pairs: 0.0046\n",
      "Number of pairs: 6670\n",
      "Mean return over all pairs: 0.4083\n",
      "Number of pairs: 133\n",
      "Mean return over all pairs: -0.0179\n",
      "Number of pairs: 287\n",
      "Mean return over all pairs: -0.0334\n"
     ]
    },
    {
     "data": {
      "image/png": "[encoded data removed]",
      "text/plain": [
       "<Figure size 1008x504 with 1 Axes>"
      ]
     },
     "metadata": {
      "needs_background": "light"
     },
     "output_type": "display_data"
    }
   ],
   "source": [
    "fig_title = \"Distribution of returns of various strategies (2017 - technology)\"\n",
    "plot_rs_dist(kalman_2017_t['profit'], \"\", fig_title, mean=False, median=False, color=\"blue\", methodName=\"Cointegration (Kalman Filter)\")\n",
    "plot_rs_dist(np.array(rl_2017) / 10000, \"\", fig_title, mean=False, median=False, color=\"red\", methodName=\"RL Trading Agent\")\n",
    "plot_rs_dist(distance_2017_t['profit'], \"\", fig_title, mean=False, median=False, color=\"green\", methodName=\"Distance\")\n",
    "plot_rs_dist(cointegration_2017_t['profit'], \"\", fig_title, mean=False, median=False, color=\"gold\", methodName=\"Cointegration (Rolling OLS)\")\n",
    "plt.show()"
   ]
  },
  {
   "cell_type": "code",
   "execution_count": 209,
   "metadata": {},
   "outputs": [
    {
     "name": "stdout",
     "output_type": "stream",
     "text": [
      "Number of pairs: 45\n",
      "Mean return over all pairs: 0.0026\n",
      "Number of pairs: 6670\n",
      "Mean return over all pairs: 0.4378\n",
      "Number of pairs: 133\n",
      "Mean return over all pairs: 0.1048\n",
      "Number of pairs: 229\n",
      "Mean return over all pairs: -0.0059\n"
     ]
    },
    {
     "data": {
      "image/png": "[encoded data removed]",
      "text/plain": [
       "<Figure size 1008x504 with 1 Axes>"
      ]
     },
     "metadata": {
      "needs_background": "light"
     },
     "output_type": "display_data"
    }
   ],
   "source": [
    "fig_title = \"Distribution of returns of various strategies (2018 - technology)\"\n",
    "plot_rs_dist(kalman_2018_t['profit'], \"\", fig_title, mean=False, median=False, color=\"blue\", methodName=\"Cointegration (Kalman Filter)\")\n",
    "plot_rs_dist(np.array(rl_2018) / 10000, \"\", fig_title, mean=False, median=False, color=\"red\", methodName=\"RL Trading Agent\")\n",
    "plot_rs_dist(distance_2018_t['profit'], \"\", fig_title, mean=False, median=False, color=\"green\", methodName=\"Distance\")\n",
    "plot_rs_dist(cointegration_2018_t['profit'], \"\", fig_title, mean=False, median=False, color=\"gold\", methodName=\"Cointegration (Rolling OLS)\")\n",
    "plt.show()"
   ]
  },
  {
   "cell_type": "code",
   "execution_count": 210,
   "metadata": {},
   "outputs": [],
   "source": [
    "rl_2016_e = None\n",
    "rl_2017_e = None\n",
    "rl_2018_e = None\n",
    "\n",
    "with open(\"final_report_outputs/test_energy_1.txt\", \"r\") as myfile:\n",
    "    rl_2016_e = eval(myfile.readlines()[0])\n",
    "    \n",
    "with open(\"final_report_outputs/test_energy_2.txt\", \"r\") as myfile:\n",
    "    rl_2017_e = eval(myfile.readlines()[0])\n",
    "    \n",
    "with open(\"final_report_outputs/test_energy_3.txt\", \"r\") as myfile:\n",
    "    rl_2018_e = eval(myfile.readlines()[0])"
   ]
  },
  {
   "cell_type": "code",
   "execution_count": 216,
   "metadata": {},
   "outputs": [
    {
     "name": "stdout",
     "output_type": "stream",
     "text": [
      "Number of pairs: 47\n",
      "Mean return over all pairs: 0.0428\n",
      "Number of pairs: 11935\n",
      "Mean return over all pairs: 0.5380\n",
      "Number of pairs: 133\n",
      "Mean return over all pairs: 0.0286\n",
      "Number of pairs: 238\n",
      "Mean return over all pairs: 0.0321\n"
     ]
    },
    {
     "data": {
      "image/png": "[encoded data removed]",
      "text/plain": [
       "<Figure size 1008x504 with 1 Axes>"
      ]
     },
     "metadata": {
      "needs_background": "light"
     },
     "output_type": "display_data"
    }
   ],
   "source": [
    "fig_title = \"Distribution of returns of various strategies (2016 - energy)\"\n",
    "plot_rs_dist(kalman_2016['profit'], \"\", fig_title, mean=False, median=False, color=\"blue\", methodName=\"Cointegration (Kalman Filter)\")\n",
    "plot_rs_dist(np.array(rl_2016_e) / 10000, \"\", fig_title, mean=False, median=False, color=\"red\", methodName=\"RL Trading Agent\")\n",
    "plot_rs_dist(distance_2016['profit'], \"\", fig_title, mean=False, median=False, color=\"green\", methodName=\"Distance\")\n",
    "plot_rs_dist(cointegration_2016['profit'], \"\", fig_title, mean=False, median=False, color=\"gold\", methodName=\"Cointegration (Rolling OLS)\")\n",
    "plt.show()"
   ]
  },
  {
   "cell_type": "code",
   "execution_count": 233,
   "metadata": {},
   "outputs": [
    {
     "name": "stdout",
     "output_type": "stream",
     "text": [
      "Number of pairs: 11935\n",
      "Mean return over all pairs: 0.6960\n"
     ]
    },
    {
     "data": {
      "image/png": "[encoded data removed]",
      "text/plain": [
       "<Figure size 1008x504 with 1 Axes>"
      ]
     },
     "metadata": {
      "needs_background": "light"
     },
     "output_type": "display_data"
    }
   ],
   "source": [
    "fig_title = \"Distribution of returns of various strategies (2017 - energy)\"\n",
    "# plot_rs_dist(kalman_2017['profit'], \"\", fig_title, mean=False, median=False, color=\"blue\", methodName=\"Cointegration (Kalman Filter)\")\n",
    "plot_rs_dist(np.array(rl_2017_e) / 10000, \"\", fig_title, mean=False, median=False, color=\"red\", methodName=\"RL Trading Agent\")\n",
    "# plot_rs_dist(distance_2017['profit'], \"\", fig_title, mean=False, median=False, color=\"green\", methodName=\"Distance\")\n",
    "# plot_rs_dist(cointegration_2017['profit'], \"\", fig_title, mean=False, median=False, color=\"gold\", methodName=\"Cointegration (Rolling OLS)\")\n",
    "plt.show()"
   ]
  },
  {
   "cell_type": "code",
   "execution_count": 234,
   "metadata": {},
   "outputs": [
    {
     "data": {
      "text/html": [
       "<div>\n",
       "<style scoped>\n",
       "    .dataframe tbody tr th:only-of-type {\n",
       "        vertical-align: middle;\n",
       "    }\n",
       "\n",
       "    .dataframe tbody tr th {\n",
       "        vertical-align: top;\n",
       "    }\n",
       "\n",
       "    .dataframe thead th {\n",
       "        text-align: right;\n",
       "    }\n",
       "</style>\n",
       "<table border=\"1\" class=\"dataframe\">\n",
       "  <thead>\n",
       "    <tr style=\"text-align: right;\">\n",
       "      <th></th>\n",
       "      <th>endcash</th>\n",
       "      <th>pair</th>\n",
       "      <th>profit</th>\n",
       "      <th>returnstd</th>\n",
       "      <th>sharperatio</th>\n",
       "      <th>startcash</th>\n",
       "    </tr>\n",
       "  </thead>\n",
       "  <tbody>\n",
       "    <tr>\n",
       "      <th>0</th>\n",
       "      <td>1.000000e+06</td>\n",
       "      <td>ASGN-SFUN</td>\n",
       "      <td>0.000000</td>\n",
       "      <td>0.000000</td>\n",
       "      <td>NaN</td>\n",
       "      <td>1000000</td>\n",
       "    </tr>\n",
       "    <tr>\n",
       "      <th>1</th>\n",
       "      <td>1.160371e+06</td>\n",
       "      <td>TBI-TGH</td>\n",
       "      <td>0.160371</td>\n",
       "      <td>15811.145424</td>\n",
       "      <td>0.875289</td>\n",
       "      <td>1000000</td>\n",
       "    </tr>\n",
       "    <tr>\n",
       "      <th>2</th>\n",
       "      <td>1.000000e+06</td>\n",
       "      <td>AL-SSTK</td>\n",
       "      <td>0.000000</td>\n",
       "      <td>0.000000</td>\n",
       "      <td>NaN</td>\n",
       "      <td>1000000</td>\n",
       "    </tr>\n",
       "    <tr>\n",
       "      <th>3</th>\n",
       "      <td>1.000000e+06</td>\n",
       "      <td>ETN-HIVE</td>\n",
       "      <td>0.000000</td>\n",
       "      <td>0.000000</td>\n",
       "      <td>NaN</td>\n",
       "      <td>1000000</td>\n",
       "    </tr>\n",
       "    <tr>\n",
       "      <th>4</th>\n",
       "      <td>1.000000e+06</td>\n",
       "      <td>HIVE-RXN</td>\n",
       "      <td>0.000000</td>\n",
       "      <td>0.000000</td>\n",
       "      <td>NaN</td>\n",
       "      <td>1000000</td>\n",
       "    </tr>\n",
       "    <tr>\n",
       "      <th>5</th>\n",
       "      <td>8.698279e+05</td>\n",
       "      <td>DDD-NPTN</td>\n",
       "      <td>-0.130172</td>\n",
       "      <td>11645.066594</td>\n",
       "      <td>-1.153643</td>\n",
       "      <td>1000000</td>\n",
       "    </tr>\n",
       "    <tr>\n",
       "      <th>6</th>\n",
       "      <td>1.000000e+06</td>\n",
       "      <td>QTWO-SFUN</td>\n",
       "      <td>0.000000</td>\n",
       "      <td>0.000000</td>\n",
       "      <td>NaN</td>\n",
       "      <td>1000000</td>\n",
       "    </tr>\n",
       "    <tr>\n",
       "      <th>7</th>\n",
       "      <td>1.000000e+06</td>\n",
       "      <td>IPG-SPA</td>\n",
       "      <td>0.000000</td>\n",
       "      <td>0.000000</td>\n",
       "      <td>NaN</td>\n",
       "      <td>1000000</td>\n",
       "    </tr>\n",
       "    <tr>\n",
       "      <th>8</th>\n",
       "      <td>1.034103e+06</td>\n",
       "      <td>DDD-ORCL</td>\n",
       "      <td>0.034103</td>\n",
       "      <td>10863.195810</td>\n",
       "      <td>0.413538</td>\n",
       "      <td>1000000</td>\n",
       "    </tr>\n",
       "    <tr>\n",
       "      <th>9</th>\n",
       "      <td>1.758486e+06</td>\n",
       "      <td>CSLT-QTWO</td>\n",
       "      <td>0.758486</td>\n",
       "      <td>32047.762750</td>\n",
       "      <td>0.973632</td>\n",
       "      <td>1000000</td>\n",
       "    </tr>\n",
       "    <tr>\n",
       "      <th>10</th>\n",
       "      <td>1.000000e+06</td>\n",
       "      <td>JKS-SSTK</td>\n",
       "      <td>0.000000</td>\n",
       "      <td>0.000000</td>\n",
       "      <td>NaN</td>\n",
       "      <td>1000000</td>\n",
       "    </tr>\n",
       "    <tr>\n",
       "      <th>11</th>\n",
       "      <td>1.000000e+06</td>\n",
       "      <td>MSI-SQNS</td>\n",
       "      <td>0.000000</td>\n",
       "      <td>0.000000</td>\n",
       "      <td>NaN</td>\n",
       "      <td>1000000</td>\n",
       "    </tr>\n",
       "    <tr>\n",
       "      <th>12</th>\n",
       "      <td>1.000000e+06</td>\n",
       "      <td>CW-TRTN</td>\n",
       "      <td>0.000000</td>\n",
       "      <td>0.000000</td>\n",
       "      <td>NaN</td>\n",
       "      <td>1000000</td>\n",
       "    </tr>\n",
       "    <tr>\n",
       "      <th>13</th>\n",
       "      <td>1.000000e+06</td>\n",
       "      <td>CW-TGH</td>\n",
       "      <td>0.000000</td>\n",
       "      <td>0.000000</td>\n",
       "      <td>NaN</td>\n",
       "      <td>1000000</td>\n",
       "    </tr>\n",
       "    <tr>\n",
       "      <th>14</th>\n",
       "      <td>1.533254e+06</td>\n",
       "      <td>CAI-CW</td>\n",
       "      <td>0.533254</td>\n",
       "      <td>15480.335362</td>\n",
       "      <td>0.962494</td>\n",
       "      <td>1000000</td>\n",
       "    </tr>\n",
       "    <tr>\n",
       "      <th>15</th>\n",
       "      <td>9.974516e+05</td>\n",
       "      <td>JBL-SRT</td>\n",
       "      <td>-0.002548</td>\n",
       "      <td>1333.992020</td>\n",
       "      <td>-8.847911</td>\n",
       "      <td>1000000</td>\n",
       "    </tr>\n",
       "    <tr>\n",
       "      <th>16</th>\n",
       "      <td>1.100471e+06</td>\n",
       "      <td>SFUN-ZEN</td>\n",
       "      <td>0.100471</td>\n",
       "      <td>5407.952627</td>\n",
       "      <td>0.800937</td>\n",
       "      <td>1000000</td>\n",
       "    </tr>\n",
       "    <tr>\n",
       "      <th>17</th>\n",
       "      <td>1.000000e+06</td>\n",
       "      <td>GWRE-RHI</td>\n",
       "      <td>0.000000</td>\n",
       "      <td>0.000000</td>\n",
       "      <td>NaN</td>\n",
       "      <td>1000000</td>\n",
       "    </tr>\n",
       "    <tr>\n",
       "      <th>18</th>\n",
       "      <td>1.047284e+06</td>\n",
       "      <td>CAI-TBI</td>\n",
       "      <td>0.047284</td>\n",
       "      <td>8769.820647</td>\n",
       "      <td>0.577020</td>\n",
       "      <td>1000000</td>\n",
       "    </tr>\n",
       "    <tr>\n",
       "      <th>19</th>\n",
       "      <td>1.000000e+06</td>\n",
       "      <td>AAN-MXL</td>\n",
       "      <td>0.000000</td>\n",
       "      <td>0.000000</td>\n",
       "      <td>NaN</td>\n",
       "      <td>1000000</td>\n",
       "    </tr>\n",
       "    <tr>\n",
       "      <th>20</th>\n",
       "      <td>9.220345e+05</td>\n",
       "      <td>JKS-TBI</td>\n",
       "      <td>-0.077965</td>\n",
       "      <td>6368.626425</td>\n",
       "      <td>-1.256524</td>\n",
       "      <td>1000000</td>\n",
       "    </tr>\n",
       "    <tr>\n",
       "      <th>21</th>\n",
       "      <td>1.035815e+06</td>\n",
       "      <td>GLOB-HUBS</td>\n",
       "      <td>0.035815</td>\n",
       "      <td>4903.194115</td>\n",
       "      <td>0.441572</td>\n",
       "      <td>1000000</td>\n",
       "    </tr>\n",
       "    <tr>\n",
       "      <th>22</th>\n",
       "      <td>1.000000e+06</td>\n",
       "      <td>LLL-SRT</td>\n",
       "      <td>0.000000</td>\n",
       "      <td>0.000000</td>\n",
       "      <td>NaN</td>\n",
       "      <td>1000000</td>\n",
       "    </tr>\n",
       "    <tr>\n",
       "      <th>23</th>\n",
       "      <td>1.570065e+06</td>\n",
       "      <td>CSLT-ZEN</td>\n",
       "      <td>0.570065</td>\n",
       "      <td>30478.950898</td>\n",
       "      <td>0.964916</td>\n",
       "      <td>1000000</td>\n",
       "    </tr>\n",
       "    <tr>\n",
       "      <th>24</th>\n",
       "      <td>1.000000e+06</td>\n",
       "      <td>FDS-TGH</td>\n",
       "      <td>0.000000</td>\n",
       "      <td>0.000000</td>\n",
       "      <td>NaN</td>\n",
       "      <td>1000000</td>\n",
       "    </tr>\n",
       "    <tr>\n",
       "      <th>25</th>\n",
       "      <td>1.000000e+06</td>\n",
       "      <td>ATHM-GLOB</td>\n",
       "      <td>0.000000</td>\n",
       "      <td>0.000000</td>\n",
       "      <td>NaN</td>\n",
       "      <td>1000000</td>\n",
       "    </tr>\n",
       "    <tr>\n",
       "      <th>26</th>\n",
       "      <td>1.000000e+06</td>\n",
       "      <td>CLS-SAIC</td>\n",
       "      <td>0.000000</td>\n",
       "      <td>0.000000</td>\n",
       "      <td>NaN</td>\n",
       "      <td>1000000</td>\n",
       "    </tr>\n",
       "    <tr>\n",
       "      <th>27</th>\n",
       "      <td>8.378692e+05</td>\n",
       "      <td>NPTN-SNX</td>\n",
       "      <td>-0.162131</td>\n",
       "      <td>16931.051103</td>\n",
       "      <td>-1.123357</td>\n",
       "      <td>1000000</td>\n",
       "    </tr>\n",
       "    <tr>\n",
       "      <th>28</th>\n",
       "      <td>1.000000e+06</td>\n",
       "      <td>HIVE-SNX</td>\n",
       "      <td>0.000000</td>\n",
       "      <td>0.000000</td>\n",
       "      <td>NaN</td>\n",
       "      <td>1000000</td>\n",
       "    </tr>\n",
       "    <tr>\n",
       "      <th>29</th>\n",
       "      <td>8.268467e+05</td>\n",
       "      <td>MAN-SSTK</td>\n",
       "      <td>-0.173153</td>\n",
       "      <td>6248.220451</td>\n",
       "      <td>-1.115505</td>\n",
       "      <td>1000000</td>\n",
       "    </tr>\n",
       "    <tr>\n",
       "      <th>30</th>\n",
       "      <td>1.000000e+06</td>\n",
       "      <td>JKS-MXL</td>\n",
       "      <td>0.000000</td>\n",
       "      <td>0.000000</td>\n",
       "      <td>NaN</td>\n",
       "      <td>1000000</td>\n",
       "    </tr>\n",
       "    <tr>\n",
       "      <th>31</th>\n",
       "      <td>9.210920e+05</td>\n",
       "      <td>MXL-SAIC</td>\n",
       "      <td>-0.078908</td>\n",
       "      <td>14031.230603</td>\n",
       "      <td>-1.253460</td>\n",
       "      <td>1000000</td>\n",
       "    </tr>\n",
       "    <tr>\n",
       "      <th>32</th>\n",
       "      <td>1.047442e+06</td>\n",
       "      <td>ATEN-AYR</td>\n",
       "      <td>0.047442</td>\n",
       "      <td>8160.597779</td>\n",
       "      <td>0.578433</td>\n",
       "      <td>1000000</td>\n",
       "    </tr>\n",
       "    <tr>\n",
       "      <th>33</th>\n",
       "      <td>1.000000e+06</td>\n",
       "      <td>AAN-AMBR</td>\n",
       "      <td>0.000000</td>\n",
       "      <td>0.000000</td>\n",
       "      <td>NaN</td>\n",
       "      <td>1000000</td>\n",
       "    </tr>\n",
       "    <tr>\n",
       "      <th>34</th>\n",
       "      <td>1.000000e+06</td>\n",
       "      <td>AER-CW</td>\n",
       "      <td>0.000000</td>\n",
       "      <td>0.000000</td>\n",
       "      <td>NaN</td>\n",
       "      <td>1000000</td>\n",
       "    </tr>\n",
       "    <tr>\n",
       "      <th>35</th>\n",
       "      <td>1.000000e+06</td>\n",
       "      <td>ASGN-ZEN</td>\n",
       "      <td>0.000000</td>\n",
       "      <td>0.000000</td>\n",
       "      <td>NaN</td>\n",
       "      <td>1000000</td>\n",
       "    </tr>\n",
       "    <tr>\n",
       "      <th>36</th>\n",
       "      <td>1.000000e+06</td>\n",
       "      <td>IPG-LDOS</td>\n",
       "      <td>0.000000</td>\n",
       "      <td>0.000000</td>\n",
       "      <td>NaN</td>\n",
       "      <td>1000000</td>\n",
       "    </tr>\n",
       "    <tr>\n",
       "      <th>37</th>\n",
       "      <td>1.180735e+06</td>\n",
       "      <td>SFUN-SOL</td>\n",
       "      <td>0.180735</td>\n",
       "      <td>9869.371107</td>\n",
       "      <td>0.889341</td>\n",
       "      <td>1000000</td>\n",
       "    </tr>\n",
       "    <tr>\n",
       "      <th>38</th>\n",
       "      <td>1.000000e+06</td>\n",
       "      <td>JKS-SQNS</td>\n",
       "      <td>0.000000</td>\n",
       "      <td>0.000000</td>\n",
       "      <td>NaN</td>\n",
       "      <td>1000000</td>\n",
       "    </tr>\n",
       "    <tr>\n",
       "      <th>39</th>\n",
       "      <td>1.168892e+06</td>\n",
       "      <td>TLRA-ZEN</td>\n",
       "      <td>0.168892</td>\n",
       "      <td>12474.429236</td>\n",
       "      <td>0.881581</td>\n",
       "      <td>1000000</td>\n",
       "    </tr>\n",
       "    <tr>\n",
       "      <th>40</th>\n",
       "      <td>1.000000e+06</td>\n",
       "      <td>HIVE-ITW</td>\n",
       "      <td>0.000000</td>\n",
       "      <td>0.000000</td>\n",
       "      <td>NaN</td>\n",
       "      <td>1000000</td>\n",
       "    </tr>\n",
       "    <tr>\n",
       "      <th>41</th>\n",
       "      <td>1.000000e+06</td>\n",
       "      <td>CAI-TGH</td>\n",
       "      <td>0.000000</td>\n",
       "      <td>0.000000</td>\n",
       "      <td>NaN</td>\n",
       "      <td>1000000</td>\n",
       "    </tr>\n",
       "    <tr>\n",
       "      <th>42</th>\n",
       "      <td>1.000000e+06</td>\n",
       "      <td>QTWO-WUBA</td>\n",
       "      <td>0.000000</td>\n",
       "      <td>0.000000</td>\n",
       "      <td>NaN</td>\n",
       "      <td>1000000</td>\n",
       "    </tr>\n",
       "    <tr>\n",
       "      <th>43</th>\n",
       "      <td>1.000000e+06</td>\n",
       "      <td>JKS-TGH</td>\n",
       "      <td>0.000000</td>\n",
       "      <td>0.000000</td>\n",
       "      <td>NaN</td>\n",
       "      <td>1000000</td>\n",
       "    </tr>\n",
       "    <tr>\n",
       "      <th>44</th>\n",
       "      <td>1.000000e+06</td>\n",
       "      <td>CW-JKS</td>\n",
       "      <td>0.000000</td>\n",
       "      <td>0.000000</td>\n",
       "      <td>NaN</td>\n",
       "      <td>1000000</td>\n",
       "    </tr>\n",
       "    <tr>\n",
       "      <th>45</th>\n",
       "      <td>1.000000e+06</td>\n",
       "      <td>AER-ORCL</td>\n",
       "      <td>0.000000</td>\n",
       "      <td>0.000000</td>\n",
       "      <td>NaN</td>\n",
       "      <td>1000000</td>\n",
       "    </tr>\n",
       "    <tr>\n",
       "      <th>46</th>\n",
       "      <td>1.000000e+06</td>\n",
       "      <td>CW-LEAF</td>\n",
       "      <td>0.000000</td>\n",
       "      <td>0.000000</td>\n",
       "      <td>NaN</td>\n",
       "      <td>1000000</td>\n",
       "    </tr>\n",
       "  </tbody>\n",
       "</table>\n",
       "</div>"
      ],
      "text/plain": [
       "         endcash       pair    profit     returnstd  sharperatio  startcash\n",
       "0   1.000000e+06  ASGN-SFUN  0.000000      0.000000          NaN    1000000\n",
       "1   1.160371e+06    TBI-TGH  0.160371  15811.145424     0.875289    1000000\n",
       "2   1.000000e+06    AL-SSTK  0.000000      0.000000          NaN    1000000\n",
       "3   1.000000e+06   ETN-HIVE  0.000000      0.000000          NaN    1000000\n",
       "4   1.000000e+06   HIVE-RXN  0.000000      0.000000          NaN    1000000\n",
       "5   8.698279e+05   DDD-NPTN -0.130172  11645.066594    -1.153643    1000000\n",
       "6   1.000000e+06  QTWO-SFUN  0.000000      0.000000          NaN    1000000\n",
       "7   1.000000e+06    IPG-SPA  0.000000      0.000000          NaN    1000000\n",
       "8   1.034103e+06   DDD-ORCL  0.034103  10863.195810     0.413538    1000000\n",
       "9   1.758486e+06  CSLT-QTWO  0.758486  32047.762750     0.973632    1000000\n",
       "10  1.000000e+06   JKS-SSTK  0.000000      0.000000          NaN    1000000\n",
       "11  1.000000e+06   MSI-SQNS  0.000000      0.000000          NaN    1000000\n",
       "12  1.000000e+06    CW-TRTN  0.000000      0.000000          NaN    1000000\n",
       "13  1.000000e+06     CW-TGH  0.000000      0.000000          NaN    1000000\n",
       "14  1.533254e+06     CAI-CW  0.533254  15480.335362     0.962494    1000000\n",
       "15  9.974516e+05    JBL-SRT -0.002548   1333.992020    -8.847911    1000000\n",
       "16  1.100471e+06   SFUN-ZEN  0.100471   5407.952627     0.800937    1000000\n",
       "17  1.000000e+06   GWRE-RHI  0.000000      0.000000          NaN    1000000\n",
       "18  1.047284e+06    CAI-TBI  0.047284   8769.820647     0.577020    1000000\n",
       "19  1.000000e+06    AAN-MXL  0.000000      0.000000          NaN    1000000\n",
       "20  9.220345e+05    JKS-TBI -0.077965   6368.626425    -1.256524    1000000\n",
       "21  1.035815e+06  GLOB-HUBS  0.035815   4903.194115     0.441572    1000000\n",
       "22  1.000000e+06    LLL-SRT  0.000000      0.000000          NaN    1000000\n",
       "23  1.570065e+06   CSLT-ZEN  0.570065  30478.950898     0.964916    1000000\n",
       "24  1.000000e+06    FDS-TGH  0.000000      0.000000          NaN    1000000\n",
       "25  1.000000e+06  ATHM-GLOB  0.000000      0.000000          NaN    1000000\n",
       "26  1.000000e+06   CLS-SAIC  0.000000      0.000000          NaN    1000000\n",
       "27  8.378692e+05   NPTN-SNX -0.162131  16931.051103    -1.123357    1000000\n",
       "28  1.000000e+06   HIVE-SNX  0.000000      0.000000          NaN    1000000\n",
       "29  8.268467e+05   MAN-SSTK -0.173153   6248.220451    -1.115505    1000000\n",
       "30  1.000000e+06    JKS-MXL  0.000000      0.000000          NaN    1000000\n",
       "31  9.210920e+05   MXL-SAIC -0.078908  14031.230603    -1.253460    1000000\n",
       "32  1.047442e+06   ATEN-AYR  0.047442   8160.597779     0.578433    1000000\n",
       "33  1.000000e+06   AAN-AMBR  0.000000      0.000000          NaN    1000000\n",
       "34  1.000000e+06     AER-CW  0.000000      0.000000          NaN    1000000\n",
       "35  1.000000e+06   ASGN-ZEN  0.000000      0.000000          NaN    1000000\n",
       "36  1.000000e+06   IPG-LDOS  0.000000      0.000000          NaN    1000000\n",
       "37  1.180735e+06   SFUN-SOL  0.180735   9869.371107     0.889341    1000000\n",
       "38  1.000000e+06   JKS-SQNS  0.000000      0.000000          NaN    1000000\n",
       "39  1.168892e+06   TLRA-ZEN  0.168892  12474.429236     0.881581    1000000\n",
       "40  1.000000e+06   HIVE-ITW  0.000000      0.000000          NaN    1000000\n",
       "41  1.000000e+06    CAI-TGH  0.000000      0.000000          NaN    1000000\n",
       "42  1.000000e+06  QTWO-WUBA  0.000000      0.000000          NaN    1000000\n",
       "43  1.000000e+06    JKS-TGH  0.000000      0.000000          NaN    1000000\n",
       "44  1.000000e+06     CW-JKS  0.000000      0.000000          NaN    1000000\n",
       "45  1.000000e+06   AER-ORCL  0.000000      0.000000          NaN    1000000\n",
       "46  1.000000e+06    CW-LEAF  0.000000      0.000000          NaN    1000000"
      ]
     },
     "execution_count": 234,
     "metadata": {},
     "output_type": "execute_result"
    }
   ],
   "source": []
  },
  {
   "cell_type": "code",
   "execution_count": 244,
   "metadata": {
    "scrolled": true
   },
   "outputs": [
    {
     "name": "stdout",
     "output_type": "stream",
     "text": [
      "\\begin{tabular}{rrrrrrrr}\n",
      "\\toprule\n",
      " enter\\_threshold\\_size &  exit\\_threshold\\_size &  loss\\_limit &  avg\\_sharpe\\_ratio &  median\\_sharpe\\_ratio &  avg\\_overall\\_return &  median\\_overall\\_return &  overall\\_return\\_std \\\\\n",
      "\\midrule\n",
      "                  2.0 &                  0.5 &       -0.10 &         -0.158710 &            -0.064349 &           -0.018564 &               0.000000 &            0.111510 \\\\\n",
      "                  2.0 &                  0.5 &       -0.05 &         -0.501058 &            -0.816271 &           -0.020858 &               0.000000 &            0.103610 \\\\\n",
      "                  1.0 &                  0.5 &       -0.10 &         -1.351692 &            -0.374700 &            0.002646 &               0.000000 &            0.221902 \\\\\n",
      "                  1.0 &                  0.5 &       -0.05 &         -1.669186 &            -0.809022 &           -0.035053 &              -0.004048 &            0.157478 \\\\\n",
      "\\bottomrule\n",
      "\\end{tabular}\n",
      "\n"
     ]
    }
   ],
   "source": [
    "columns = ['enter_threshold_size', 'exit_threshold_size', 'loss_limit', \n",
    "           'avg_sharpe_ratio', 'median_sharpe_ratio', 'avg_overall_return',\n",
    "           'median_overall_return', 'overall_return_std']\n",
    "# print(kalman_gs.get(kalman_gs.dirs[1]).summary[columns].to_latex(index=False))\n",
    "# print(kalman_gs.get(kalman_gs.dirs[2]).summary[columns].to_latex(index=False))\n",
    "# print(kalman_gs.get(kalman_gs.dirs[3]).summary[columns].to_latex(index=False))"
   ]
  },
  {
   "cell_type": "code",
   "execution_count": 251,
   "metadata": {},
   "outputs": [
    {
     "name": "stdout",
     "output_type": "stream",
     "text": [
      "\\begin{tabular}{rrrrrrrr}\n",
      "\\toprule\n",
      " enter\\_threshold\\_size &  exit\\_threshold\\_size &  loss\\_limit &  avg\\_sharpe\\_ratio &  median\\_sharpe\\_ratio &  avg\\_overall\\_return &  median\\_overall\\_return &  overall\\_return\\_std \\\\\n",
      "\\midrule\n",
      "                  2.0 &                  0.5 &        -0.5 &         -0.521315 &            -0.527849 &           -0.005908 &              -0.005320 &            0.211914 \\\\\n",
      "                  2.0 &                  0.5 &        -0.5 &         -0.402114 &            -0.531833 &           -0.006107 &               0.001783 &            0.220995 \\\\\n",
      "                  2.0 &                  0.5 &        -0.5 &         -0.359215 &            -0.542585 &           -0.009350 &              -0.001281 &            0.210937 \\\\\n",
      "\\bottomrule\n",
      "\\end{tabular}\n",
      "\n"
     ]
    }
   ],
   "source": [
    "print(cointegration_gs.get(cointegration_gs.dirs[3]).summary[columns].to_latex(index=False))\n",
    "# print(kalman_gs.get(kalman_gs.dirs[2]).summary[columns].to_latex(index=False))\n",
    "# print(kalman_gs.get(kalman_gs.dirs[3]).summary[columns].to_latex(index=False))"
   ]
  },
  {
   "cell_type": "code",
   "execution_count": 257,
   "metadata": {},
   "outputs": [],
   "source": [
    "ls = []\n",
    "\n",
    "d = {}\n",
    "d['Label'] = 'Period 0'\n",
    "d['Period (200 Trading days)'] = '2015-03-19 to 2015-12-31'\n",
    "\n",
    "ls.append(d)\n",
    "\n",
    "d = {}\n",
    "d['Label'] = 'Period 1'\n",
    "d['Period (200 Trading days)'] = '2016-03-18 to 2016-12-30'\n",
    "\n",
    "ls.append(d)\n",
    "\n",
    "d = {}\n",
    "d['Label'] = 'Period 2'\n",
    "d['Period (200 Trading days)'] = '2017-03-20 to 2018-01-02'\n",
    "\n",
    "ls.append(d)\n",
    "\n",
    "d = {}\n",
    "d['Label'] = 'Period 3'\n",
    "d['Period (200 Trading days)'] = '2018-03-20 to 2019-01-03'\n",
    "\n",
    "ls.append(d)"
   ]
  },
  {
   "cell_type": "code",
   "execution_count": 258,
   "metadata": {},
   "outputs": [
    {
     "name": "stdout",
     "output_type": "stream",
     "text": [
      "\\begin{tabular}{ll}\n",
      "\\toprule\n",
      "    Label & Period (200 Trading days) \\\\\n",
      "\\midrule\n",
      " Period 0 &  2015-03-19 to 2015-12-31 \\\\\n",
      " Period 1 &  2016-03-18 to 2016-12-30 \\\\\n",
      " Period 2 &  2017-03-20 to 2018-01-02 \\\\\n",
      " Period 3 &  2018-03-20 to 2019-01-03 \\\\\n",
      "\\bottomrule\n",
      "\\end{tabular}\n",
      "\n"
     ]
    }
   ],
   "source": [
    "print(pd.DataFrame(ls).to_latex(index=False))"
   ]
  },
  {
   "cell_type": "code",
   "execution_count": 268,
   "metadata": {},
   "outputs": [],
   "source": [
    "ls = []\n",
    "\n",
    "d = {}\n",
    "d['Strategy/Portfolio'] = 'Distance'\n",
    "d['Period 1'] = '+2.86%'\n",
    "d['Period 2'] = '-1.79%'\n",
    "d['Period 3'] = '+10.48%'\n",
    "\n",
    "ls.append(d)\n",
    "\n",
    "d = {}\n",
    "d['Strategy/Portfolio'] = 'Cointegration (Kalman Filter)'\n",
    "d['Period 1'] = '+4.28%'\n",
    "d['Period 2'] = '+0.46%'\n",
    "d['Period 3'] = '+0.26%'\n",
    "\n",
    "ls.append(d)\n",
    "\n",
    "d = {}\n",
    "d['Strategy/Portfolio'] = 'Cointegration (Rolling OLS)'\n",
    "d['Period 1'] = '+3.21%'\n",
    "d['Period 2'] = '-3.34%'\n",
    "d['Period 3'] = '-0.59%'\n",
    "\n",
    "ls.append(d)\n",
    "\n",
    "d = {}\n",
    "d['Strategy/Portfolio'] = 'Reinforcement Learning Agent'\n",
    "d['Period 1'] = '+32.69%'\n",
    "d['Period 2'] = '+40.83%'\n",
    "d['Period 3'] = '+43.78%'\n",
    "\n",
    "ls.append(d)\n",
    "\n",
    "d = {}\n",
    "d['Strategy/Portfolio'] = 'S&P 500 Index'\n",
    "d['Period 1'] = '+9.23%'\n",
    "d['Period 2'] = '+12.65%'\n",
    "d['Period 3'] = '−7.60%'\n",
    "\n",
    "ls.append(d)\n",
    "\n",
    "d = {}\n",
    "d['Strategy/Portfolio'] = 'NYSE Arca Technology 100 Index'\n",
    "d['Period 1'] = '+14.80%'\n",
    "d['Period 2'] = '+18.74%'\n",
    "d['Period 3'] = '−7.76%'\n",
    "\n",
    "ls.append(d)"
   ]
  },
  {
   "cell_type": "code",
   "execution_count": 274,
   "metadata": {},
   "outputs": [
    {
     "name": "stdout",
     "output_type": "stream",
     "text": [
      "\\begin{tabular}{llll}\n",
      "\\toprule\n",
      "             Strategy/Portfolio & Period 1 & Period 2 & Period 3 \\\\\n",
      "\\midrule\n",
      "                       Distance &   +2.86\\% &   -1.79\\% &  +10.48\\% \\\\\n",
      "  Cointegration (Kalman Filter) &   +4.28\\% &   +0.46\\% &   +0.26\\% \\\\\n",
      "    Cointegration (Rolling OLS) &   +3.21\\% &   -3.34\\% &   -0.59\\% \\\\\n",
      "   Reinforcement Learning Agent &  +32.69\\% &  +40.83\\% &  +43.78\\% \\\\\n",
      "                  S\\&P 500 Index &   +9.23\\% &  +12.65\\% &   −7.60\\% \\\\\n",
      " NYSE Arca Technology 100 Index &  +14.80\\% &  +18.74\\% &   −7.76\\% \\\\\n",
      "\\bottomrule\n",
      "\\end{tabular}\n",
      "\n"
     ]
    }
   ],
   "source": [
    "df = pd.DataFrame(ls)\n",
    "df = df[['Strategy/Portfolio', 'Period 1', 'Period 2', 'Period 3']]\n",
    "print(df.to_latex(index=False))"
   ]
  },
  {
   "cell_type": "code",
   "execution_count": 283,
   "metadata": {},
   "outputs": [],
   "source": [
    "ls = []\n",
    "\n",
    "d = {}\n",
    "d['Strategy/Portfolio'] = 'Reinforcement Learning Agent'\n",
    "d['Period 1'] = '+53.80%'\n",
    "d['Period 2'] = '+69.60%'\n",
    "d['Period 3'] = '+46.02%'\n",
    "\n",
    "ls.append(d)\n",
    "\n",
    "d = {}\n",
    "d['Strategy/Portfolio'] = 'S&P 500 Index'\n",
    "d['Period 1'] = '+9.23%'\n",
    "d['Period 2'] = '+12.65%'\n",
    "d['Period 3'] = '−7.60%'\n",
    "\n",
    "ls.append(d)\n",
    "\n",
    "d = {}\n",
    "d['Strategy/Portfolio'] = 'NYSE Energy Index'\n",
    "d['Period 1'] = '+2.69%'\n",
    "d['Period 2'] = '-5.15%'\n",
    "d['Period 3'] = '-2.58%'\n",
    "\n",
    "ls.append(d)"
   ]
  },
  {
   "cell_type": "code",
   "execution_count": 284,
   "metadata": {},
   "outputs": [
    {
     "name": "stdout",
     "output_type": "stream",
     "text": [
      "\\begin{tabular}{llll}\n",
      "\\toprule\n",
      "           Strategy/Portfolio & Period 1 & Period 2 & Period 3 \\\\\n",
      "\\midrule\n",
      " Reinforcement Learning Agent &  +53.80\\% &  +69.60\\% &  +46.02\\% \\\\\n",
      "                S\\&P 500 Index &   +9.23\\% &  +12.65\\% &   −7.60\\% \\\\\n",
      "            NYSE Energy Index &   +2.69\\% &   -5.15\\% &   -2.58\\% \\\\\n",
      "\\bottomrule\n",
      "\\end{tabular}\n",
      "\n"
     ]
    }
   ],
   "source": [
    "df = pd.DataFrame(ls)\n",
    "df = df[['Strategy/Portfolio', 'Period 1', 'Period 2', 'Period 3']]\n",
    "print(df.to_latex(index=False))"
   ]
  },
  {
   "cell_type": "code",
   "execution_count": 280,
   "metadata": {},
   "outputs": [
    {
     "data": {
      "text/plain": [
       "0.6960000424415584"
      ]
     },
     "execution_count": 280,
     "metadata": {},
     "output_type": "execute_result"
    }
   ],
   "source": [
    "np.mean(rl_2017_e) / 10000"
   ]
  },
  {
   "cell_type": "code",
   "execution_count": 281,
   "metadata": {},
   "outputs": [
    {
     "data": {
      "text/plain": [
       "0.4601550424908378"
      ]
     },
     "execution_count": 281,
     "metadata": {},
     "output_type": "execute_result"
    }
   ],
   "source": [
    "np.mean(rl_2018_e) / 10000"
   ]
  },
  {
   "cell_type": "code",
   "execution_count": 299,
   "metadata": {},
   "outputs": [
    {
     "name": "stdout",
     "output_type": "stream",
     "text": [
      "\\begin{tabular}{ll}\n",
      "\\toprule\n",
      "                                                                 Feature &                                                                  Description \\\\\n",
      "\\midrule\n",
      "                                                     Set backtest params &                                                                            - \\\\\n",
      "                             Backtest a given pair using Distance method &                              Obtain table of relevant performance statistics \\\\\n",
      "          Backtest a given pair using Cointegration (rolling OLS) method &                              Obtain table of relevant performance statistics \\\\\n",
      "        Backtest a given pair using Cointegration (Kalman Filter) method &                              Obtain table of relevant performance statistics \\\\\n",
      " Backtest a given pair using Reinforcement Learning trading agent method &                              Obtain table of relevant performance statistics \\\\\n",
      "                                       Show stock prices of a given pair &                                                 Eyeball comparison of spread \\\\\n",
      "                                   Show how the spread changes over time &  Identify when the spread diverges from the mean to form a trade opportunity \\\\\n",
      "            Indicate specific points in time when a trade action is made &                  Label the action, and the amounts a stock is bought or sold \\\\\n",
      "\\bottomrule\n",
      "\\end{tabular}\n",
      "\n"
     ]
    }
   ],
   "source": [
    "print(str(pd.read_csv(\"./final_report_outputs/system_requirements.csv\").to_latex(index=False)))"
   ]
  },
  {
   "cell_type": "code",
   "execution_count": 298,
   "metadata": {},
   "outputs": [],
   "source": [
    "pd.options.display.max_rows = 4000\n",
    "pd.options.display.max_columns = 4000\n",
    "pd.options.display.max_seq_items = 2000\n",
    "pd.options.display.max_colwidth = 100"
   ]
  },
  {
   "cell_type": "code",
   "execution_count": null,
   "metadata": {},
   "outputs": [],
   "source": []
  }
 ],
 "metadata": {
  "kernelspec": {
   "display_name": "Python [conda env:fyp2019]",
   "language": "python",
   "name": "conda-env-fyp2019-py"
  },
  "language_info": {
   "codemirror_mode": {
    "name": "ipython",
    "version": 3
   },
   "file_extension": ".py",
   "mimetype": "text/x-python",
   "name": "python",
   "nbconvert_exporter": "python",
   "pygments_lexer": "ipython3",
   "version": "3.6.8"
  }
 },
 "nbformat": 4,
 "nbformat_minor": 2
}
