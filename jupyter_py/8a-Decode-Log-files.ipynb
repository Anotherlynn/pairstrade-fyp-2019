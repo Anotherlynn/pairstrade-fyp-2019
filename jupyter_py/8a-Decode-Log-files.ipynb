{
 "cells": [
  {
   "cell_type": "code",
   "execution_count": 3,
   "metadata": {},
   "outputs": [],
   "source": [
    "from decode_logs import *\n",
    "import os "
   ]
  },
  {
   "cell_type": "code",
   "execution_count": 2,
   "metadata": {},
   "outputs": [
    {
     "data": {
      "text/plain": [
       "0"
      ]
     },
     "execution_count": 2,
     "metadata": {},
     "output_type": "execute_result"
    }
   ],
   "source": [
    "output_dir = \"tmp/\" + get_current_time()\n",
    "strategy_type = \"kalman\"\n",
    "execution_command = \"python backtest_pair.py --strategy_type {} --output_dir {}\".format(strategy_type, output_dir)\n",
    "\n",
    "os.system(\"rm -rf tmp\")\n",
    "os.system(execution_command)"
   ]
  },
  {
   "cell_type": "code",
   "execution_count": 3,
   "metadata": {},
   "outputs": [],
   "source": [
    "df1, df2 = Decoder.get_strategy_status(output_dir)\n",
    "dic = Decoder.get_strategy_performance(output_dir)"
   ]
  },
  {
   "cell_type": "code",
   "execution_count": 4,
   "metadata": {},
   "outputs": [
    {
     "data": {
      "text/html": [
       "<div>\n",
       "<style>\n",
       "    .dataframe thead tr:only-child th {\n",
       "        text-align: right;\n",
       "    }\n",
       "\n",
       "    .dataframe thead th {\n",
       "        text-align: left;\n",
       "    }\n",
       "\n",
       "    .dataframe tbody tr th {\n",
       "        vertical-align: top;\n",
       "    }\n",
       "</style>\n",
       "<table border=\"1\" class=\"dataframe\">\n",
       "  <thead>\n",
       "    <tr style=\"text-align: right;\">\n",
       "      <th></th>\n",
       "      <th>allow_trade</th>\n",
       "      <th>alpha</th>\n",
       "      <th>buy_amt</th>\n",
       "      <th>buy_stk</th>\n",
       "      <th>data0</th>\n",
       "      <th>data1</th>\n",
       "      <th>date</th>\n",
       "      <th>enter_threshold_size</th>\n",
       "      <th>exit_threshold_size</th>\n",
       "      <th>initial_cash</th>\n",
       "      <th>...</th>\n",
       "      <th>portfolio_value</th>\n",
       "      <th>qty0</th>\n",
       "      <th>qty1</th>\n",
       "      <th>sell_amt</th>\n",
       "      <th>sell_stk</th>\n",
       "      <th>spread</th>\n",
       "      <th>spread_std</th>\n",
       "      <th>status</th>\n",
       "      <th>up_medium</th>\n",
       "      <th>upper_limit</th>\n",
       "    </tr>\n",
       "  </thead>\n",
       "  <tbody>\n",
       "    <tr>\n",
       "      <th>0</th>\n",
       "      <td>False</td>\n",
       "      <td>0.825526</td>\n",
       "      <td>NaN</td>\n",
       "      <td>None</td>\n",
       "      <td>40.275</td>\n",
       "      <td>51.795</td>\n",
       "      <td>2018-05-01</td>\n",
       "      <td>2.0</td>\n",
       "      <td>0.5</td>\n",
       "      <td>NaN</td>\n",
       "      <td>...</td>\n",
       "      <td>1000000.0</td>\n",
       "      <td>0</td>\n",
       "      <td>0</td>\n",
       "      <td>NaN</td>\n",
       "      <td>None</td>\n",
       "      <td>-0.003483</td>\n",
       "      <td>0.046979</td>\n",
       "      <td>0</td>\n",
       "      <td>0.023489</td>\n",
       "      <td>0.093958</td>\n",
       "    </tr>\n",
       "    <tr>\n",
       "      <th>1</th>\n",
       "      <td>True</td>\n",
       "      <td>0.825526</td>\n",
       "      <td>NaN</td>\n",
       "      <td>None</td>\n",
       "      <td>40.815</td>\n",
       "      <td>52.345</td>\n",
       "      <td>2018-05-02</td>\n",
       "      <td>2.0</td>\n",
       "      <td>0.5</td>\n",
       "      <td>NaN</td>\n",
       "      <td>...</td>\n",
       "      <td>1000000.0</td>\n",
       "      <td>0</td>\n",
       "      <td>0</td>\n",
       "      <td>NaN</td>\n",
       "      <td>None</td>\n",
       "      <td>0.001116</td>\n",
       "      <td>0.046979</td>\n",
       "      <td>0</td>\n",
       "      <td>0.023489</td>\n",
       "      <td>0.093958</td>\n",
       "    </tr>\n",
       "    <tr>\n",
       "      <th>2</th>\n",
       "      <td>True</td>\n",
       "      <td>0.829269</td>\n",
       "      <td>NaN</td>\n",
       "      <td>None</td>\n",
       "      <td>40.485</td>\n",
       "      <td>53.625</td>\n",
       "      <td>2018-05-03</td>\n",
       "      <td>2.0</td>\n",
       "      <td>0.5</td>\n",
       "      <td>NaN</td>\n",
       "      <td>...</td>\n",
       "      <td>1000000.0</td>\n",
       "      <td>0</td>\n",
       "      <td>0</td>\n",
       "      <td>NaN</td>\n",
       "      <td>None</td>\n",
       "      <td>-0.027802</td>\n",
       "      <td>0.046979</td>\n",
       "      <td>0</td>\n",
       "      <td>0.023489</td>\n",
       "      <td>0.093958</td>\n",
       "    </tr>\n",
       "    <tr>\n",
       "      <th>3</th>\n",
       "      <td>True</td>\n",
       "      <td>0.628990</td>\n",
       "      <td>NaN</td>\n",
       "      <td>None</td>\n",
       "      <td>41.555</td>\n",
       "      <td>54.165</td>\n",
       "      <td>2018-05-04</td>\n",
       "      <td>2.0</td>\n",
       "      <td>0.5</td>\n",
       "      <td>NaN</td>\n",
       "      <td>...</td>\n",
       "      <td>1000000.0</td>\n",
       "      <td>0</td>\n",
       "      <td>0</td>\n",
       "      <td>NaN</td>\n",
       "      <td>None</td>\n",
       "      <td>0.012612</td>\n",
       "      <td>0.046979</td>\n",
       "      <td>0</td>\n",
       "      <td>0.023489</td>\n",
       "      <td>0.093958</td>\n",
       "    </tr>\n",
       "    <tr>\n",
       "      <th>4</th>\n",
       "      <td>True</td>\n",
       "      <td>0.690333</td>\n",
       "      <td>NaN</td>\n",
       "      <td>None</td>\n",
       "      <td>40.365</td>\n",
       "      <td>54.155</td>\n",
       "      <td>2018-05-07</td>\n",
       "      <td>2.0</td>\n",
       "      <td>0.5</td>\n",
       "      <td>NaN</td>\n",
       "      <td>...</td>\n",
       "      <td>1000000.0</td>\n",
       "      <td>0</td>\n",
       "      <td>0</td>\n",
       "      <td>NaN</td>\n",
       "      <td>None</td>\n",
       "      <td>-0.025299</td>\n",
       "      <td>0.046979</td>\n",
       "      <td>0</td>\n",
       "      <td>0.023489</td>\n",
       "      <td>0.093958</td>\n",
       "    </tr>\n",
       "  </tbody>\n",
       "</table>\n",
       "<p>5 rows × 31 columns</p>\n",
       "</div>"
      ],
      "text/plain": [
       "   allow_trade     alpha  buy_amt buy_stk   data0   data1       date  \\\n",
       "0        False  0.825526      NaN    None  40.275  51.795 2018-05-01   \n",
       "1         True  0.825526      NaN    None  40.815  52.345 2018-05-02   \n",
       "2         True  0.829269      NaN    None  40.485  53.625 2018-05-03   \n",
       "3         True  0.628990      NaN    None  41.555  54.165 2018-05-04   \n",
       "4         True  0.690333      NaN    None  40.365  54.155 2018-05-07   \n",
       "\n",
       "   enter_threshold_size  exit_threshold_size  initial_cash     ...       \\\n",
       "0                   2.0                  0.5           NaN     ...        \n",
       "1                   2.0                  0.5           NaN     ...        \n",
       "2                   2.0                  0.5           NaN     ...        \n",
       "3                   2.0                  0.5           NaN     ...        \n",
       "4                   2.0                  0.5           NaN     ...        \n",
       "\n",
       "   portfolio_value  qty0  qty1  sell_amt  sell_stk    spread  spread_std  \\\n",
       "0        1000000.0     0     0       NaN      None -0.003483    0.046979   \n",
       "1        1000000.0     0     0       NaN      None  0.001116    0.046979   \n",
       "2        1000000.0     0     0       NaN      None -0.027802    0.046979   \n",
       "3        1000000.0     0     0       NaN      None  0.012612    0.046979   \n",
       "4        1000000.0     0     0       NaN      None -0.025299    0.046979   \n",
       "\n",
       "   status  up_medium  upper_limit  \n",
       "0       0   0.023489     0.093958  \n",
       "1       0   0.023489     0.093958  \n",
       "2       0   0.023489     0.093958  \n",
       "3       0   0.023489     0.093958  \n",
       "4       0   0.023489     0.093958  \n",
       "\n",
       "[5 rows x 31 columns]"
      ]
     },
     "execution_count": 4,
     "metadata": {},
     "output_type": "execute_result"
    }
   ],
   "source": [
    "df1.head(5)"
   ]
  },
  {
   "cell_type": "code",
   "execution_count": 5,
   "metadata": {},
   "outputs": [
    {
     "data": {
      "text/html": [
       "<div>\n",
       "<style>\n",
       "    .dataframe thead tr:only-child th {\n",
       "        text-align: right;\n",
       "    }\n",
       "\n",
       "    .dataframe thead th {\n",
       "        text-align: left;\n",
       "    }\n",
       "\n",
       "    .dataframe tbody tr th {\n",
       "        vertical-align: top;\n",
       "    }\n",
       "</style>\n",
       "<table border=\"1\" class=\"dataframe\">\n",
       "  <thead>\n",
       "    <tr style=\"text-align: right;\">\n",
       "      <th></th>\n",
       "      <th>index</th>\n",
       "      <th>spread</th>\n",
       "      <th>date</th>\n",
       "      <th>latest_trade_action</th>\n",
       "      <th>sell_stk</th>\n",
       "      <th>buy_stk</th>\n",
       "      <th>buy_amt</th>\n",
       "      <th>sell_amt</th>\n",
       "    </tr>\n",
       "  </thead>\n",
       "  <tbody>\n",
       "    <tr>\n",
       "      <th>0</th>\n",
       "      <td>60</td>\n",
       "      <td>0.101615</td>\n",
       "      <td>2018-07-26</td>\n",
       "      <td>short_spread</td>\n",
       "      <td>AAN</td>\n",
       "      <td>AER</td>\n",
       "      <td>23650.0</td>\n",
       "      <td>27300.0</td>\n",
       "    </tr>\n",
       "    <tr>\n",
       "      <th>1</th>\n",
       "      <td>61</td>\n",
       "      <td>-0.016250</td>\n",
       "      <td>2018-07-27</td>\n",
       "      <td>exit_spread</td>\n",
       "      <td>None</td>\n",
       "      <td>None</td>\n",
       "      <td>NaN</td>\n",
       "      <td>NaN</td>\n",
       "    </tr>\n",
       "    <tr>\n",
       "      <th>2</th>\n",
       "      <td>62</td>\n",
       "      <td>-0.118242</td>\n",
       "      <td>2018-07-30</td>\n",
       "      <td>long_spread</td>\n",
       "      <td>AER</td>\n",
       "      <td>AAN</td>\n",
       "      <td>34242.0</td>\n",
       "      <td>25654.0</td>\n",
       "    </tr>\n",
       "    <tr>\n",
       "      <th>3</th>\n",
       "      <td>69</td>\n",
       "      <td>-0.021204</td>\n",
       "      <td>2018-08-08</td>\n",
       "      <td>exit_spread</td>\n",
       "      <td>None</td>\n",
       "      <td>None</td>\n",
       "      <td>NaN</td>\n",
       "      <td>NaN</td>\n",
       "    </tr>\n",
       "    <tr>\n",
       "      <th>4</th>\n",
       "      <td>124</td>\n",
       "      <td>-0.098352</td>\n",
       "      <td>2018-10-25</td>\n",
       "      <td>long_spread</td>\n",
       "      <td>AER</td>\n",
       "      <td>AAN</td>\n",
       "      <td>34578.0</td>\n",
       "      <td>30518.0</td>\n",
       "    </tr>\n",
       "    <tr>\n",
       "      <th>5</th>\n",
       "      <td>130</td>\n",
       "      <td>-0.011067</td>\n",
       "      <td>2018-11-02</td>\n",
       "      <td>exit_spread</td>\n",
       "      <td>None</td>\n",
       "      <td>None</td>\n",
       "      <td>NaN</td>\n",
       "      <td>NaN</td>\n",
       "    </tr>\n",
       "  </tbody>\n",
       "</table>\n",
       "</div>"
      ],
      "text/plain": [
       "   index    spread       date latest_trade_action sell_stk buy_stk  buy_amt  \\\n",
       "0     60  0.101615 2018-07-26        short_spread      AAN     AER  23650.0   \n",
       "1     61 -0.016250 2018-07-27         exit_spread     None    None      NaN   \n",
       "2     62 -0.118242 2018-07-30         long_spread      AER     AAN  34242.0   \n",
       "3     69 -0.021204 2018-08-08         exit_spread     None    None      NaN   \n",
       "4    124 -0.098352 2018-10-25         long_spread      AER     AAN  34578.0   \n",
       "5    130 -0.011067 2018-11-02         exit_spread     None    None      NaN   \n",
       "\n",
       "   sell_amt  \n",
       "0   27300.0  \n",
       "1       NaN  \n",
       "2   25654.0  \n",
       "3       NaN  \n",
       "4   30518.0  \n",
       "5       NaN  "
      ]
     },
     "execution_count": 5,
     "metadata": {},
     "output_type": "execute_result"
    }
   ],
   "source": [
    "df2.head(10)"
   ]
  },
  {
   "cell_type": "code",
   "execution_count": 7,
   "metadata": {},
   "outputs": [
    {
     "data": {
      "text/plain": [
       "{'avg_holding_period': 4.666666666666667,\n",
       " 'endcash': 1177419.7167409933,\n",
       " 'n_trades': 3,\n",
       " 'pair': 'AAN-AER',\n",
       " 'profit': 0.17741971674099333,\n",
       " 'returnstd': 7361.272303626742,\n",
       " 'sharperatio': None,\n",
       " 'startcash': 1000000}"
      ]
     },
     "execution_count": 7,
     "metadata": {},
     "output_type": "execute_result"
    }
   ],
   "source": [
    "dic"
   ]
  },
  {
   "cell_type": "markdown",
   "metadata": {},
   "source": [
    "### Impact of loss limit"
   ]
  },
  {
   "cell_type": "code",
   "execution_count": 126,
   "metadata": {},
   "outputs": [],
   "source": [
    "import matplotlib.pyplot as plt\n",
    "import numpy as np\n",
    "import os\n",
    "\n",
    "plt.rcParams[\"patch.force_edgecolor\"] = True\n",
    "\n",
    "def plot_rs_dist(rs, fig_name, fig_title):\n",
    "#     return_in_percent = np.array(rs) / rl_constants.initial_cash\n",
    "    stat = plt.hist(rs, bins=20)\n",
    "    \n",
    "    mean = rs.mean()\n",
    "    median = np.median(rs)\n",
    "    \n",
    "    plt.axvline(mean, color='r', linestyle='dashed', linewidth=1, label='Mean: {:.3f}'.format(mean))\n",
    "    plt.axvline(median, color='y', linestyle='dashed', linewidth=1, label='Median: {:.3f}'.format(median))\n",
    "    \n",
    "    plt.gcf().set_size_inches(14, 7)\n",
    "    \n",
    "    if len(fig_title) != 0:\n",
    "        plt.suptitle(fig_title)\n",
    "    plt.xlabel('return')\n",
    "    plt.ylabel('frequency')\n",
    "    plt.legend(loc='upper right')\n",
    "    print(stat)\n",
    "#     plt.savefig(join(plot_folder_path, fig_name+'.png'))\n",
    "    print('Number of pairs:', len(rs))\n",
    "    print('Mean return over all pairs: {:.4f}'.format(np.mean(rs)))\n",
    "    \n",
    "def plot_rs_dist(rs, fig_name, fig_title, mean=False, median=False, color=None, methodName=None):\n",
    "    return_in_percent = np.array(rs)\n",
    "#     stat = plt.hist(return_in_percent, bins=30, weights=np.ones(len(return_in_percent)) / len(return_in_percent))\n",
    "    y, binEdges = np.histogram(return_in_percent, bins=20, density=True)\n",
    "    \n",
    "    bincenters = 0.5*(binEdges[1:]+binEdges[:-1])\n",
    "    plt.plot(bincenters,y,'-', color=color, label=methodName)\n",
    "    \n",
    "    mean_stat = return_in_percent.mean()\n",
    "    median_stat = np.median(return_in_percent)\n",
    "    \n",
    "    if mean:\n",
    "        plt.axvline(mean_stat, color=color, linestyle='dashed', linewidth=1, label=methodName+' Mean: {:.3f}'.format(mean_stat))\n",
    "    if median:\n",
    "        plt.axvline(median_stat, color=color, linestyle='dashed', linewidth=1, label=methodName+' Median: {:.3f}'.format(median_stat))\n",
    "    \n",
    "    plt.gcf().set_size_inches(14, 7)\n",
    "#     plt.gca().yaxis.set_major_formatter(PercentFormatter(1))\n",
    "#     plt.gca().xaxis.set_major_formatter(PercentFormatter(1))\n",
    "    \n",
    "    if len(fig_title) != 0:\n",
    "        plt.suptitle(fig_title)\n",
    "    plt.xlabel('Standard Deviation of returns')\n",
    "    plt.ylabel('density of the distribution of all pairs')\n",
    "    plt.legend(loc='upper right')\n",
    "#     print(stat)\n",
    "#     plt.savefig(join(plot_folder_path, fig_name+'.png'))\n",
    "    print('Number of pairs:', len(return_in_percent))\n",
    "    print('Mean return over all pairs: {:.4f}'.format(np.mean(return_in_percent)))"
   ]
  },
  {
   "cell_type": "code",
   "execution_count": 127,
   "metadata": {},
   "outputs": [],
   "source": [
    "df = {}\n",
    "output_dir = {}\n",
    "output_dir['-0.05'] = 'output/grid-search-2019-04-09_23-53-15-774'\n",
    "output_dir['-0.1'] = 'output/grid-search-2019-04-09_22-23-07-888'\n",
    "output_dir['-0.2'] = 'output/grid-search-2019-04-09_22-26-38-005'\n",
    "output_dir['-0.3'] = 'output/grid-search-2019-04-09_22-30-29-460'\n",
    "output_dir['-0.4'] = 'output/grid-search-2019-04-09_22-33-18-033'\n",
    "output_dir['-0.5'] = 'output/grid-search-2019-04-09_22-37-52-589'\n",
    "output_dir['-0.6'] = 'output/grid-search-2019-04-09_22-42-59-300'\n",
    "output_dir['-0.7'] = 'output/grid-search-2019-04-09_23-08-06-784'\n",
    "output_dir['-0.8'] = 'output/grid-search-2019-04-09_23-33-07-648'\n",
    "output_dir['-0.9'] = 'output/grid-search-2019-04-09_23-43-16-926'\n",
    "output_dir['-1.0'] = 'output/grid-search-2019-04-09_23-47-25-941'\n",
    "output_dir['-1.5'] = 'output/grid-search-2019-04-09_23-57-47-738'\n",
    "\n",
    "df['-0.05'] = Decoder.get_information_as_df('Performance of this pair', output_dir['-0.05'])\n",
    "df['-0.1'] = Decoder.get_information_as_df('Performance of this pair', output_dir['-0.1'])\n",
    "df['-0.2'] = Decoder.get_information_as_df('Performance of this pair', output_dir['-0.2'])\n",
    "df['-0.3'] = Decoder.get_information_as_df('Performance of this pair', output_dir['-0.3'])\n",
    "df['-0.4'] = Decoder.get_information_as_df('Performance of this pair', output_dir['-0.4'])\n",
    "df['-0.5'] = Decoder.get_information_as_df('Performance of this pair', output_dir['-0.5'])\n",
    "df['-0.6'] = Decoder.get_information_as_df('Performance of this pair', output_dir['-0.6'])\n",
    "df['-0.7'] = Decoder.get_information_as_df('Performance of this pair', output_dir['-0.7'])\n",
    "df['-0.8'] = Decoder.get_information_as_df('Performance of this pair', output_dir['-0.8'])\n",
    "df['-0.9'] = Decoder.get_information_as_df('Performance of this pair', output_dir['-0.9'])\n",
    "df['-1.0'] = Decoder.get_information_as_df('Performance of this pair', output_dir['-1.0'])\n",
    "df['-1.5'] = Decoder.get_information_as_df('Performance of this pair', output_dir['-1.5'])"
   ]
  },
  {
   "cell_type": "code",
   "execution_count": 128,
   "metadata": {},
   "outputs": [
    {
     "name": "stdout",
     "output_type": "stream",
     "text": [
      "Number of pairs: 355\n",
      "Mean return over all pairs: 10917.4725\n",
      "Number of pairs: 355\n",
      "Mean return over all pairs: 14777.6507\n"
     ]
    },
    {
     "data": {
      "image/png": "[encoded data removed]",
      "text/plain": [
       "<Figure size 1008x504 with 1 Axes>"
      ]
     },
     "metadata": {
      "needs_background": "light"
     },
     "output_type": "display_data"
    }
   ],
   "source": [
    "from matplotlib.ticker import PercentFormatter\n",
    "\n",
    "plot_rs_dist(df['-0.05']['returnstd'], None, 'Distribution of returns (Cointegration - Rolling OLS)', mean=False, median=True, color=None, methodName=\"loss limit = -5%\")\n",
    "# plot_rs_dist(df['-0.1']['profit'], None, 'fig_title', mean=False, median=True, color=None, methodName=\"loss limit = -10%\")\n",
    "# plot_rs_dist(df['-0.2']['profit'], None, 'fig_title', mean=False, median=False, color=None, methodName=\"loss limit = -20%\")\n",
    "# plot_rs_dist(df['-0.3']['profit'], None, 'fig_title', mean=False, median=False, color=None, methodName=\"loss limit = -30%\")\n",
    "# plot_rs_dist(df['-0.4']['profit'], None, 'fig_title', mean=False, median=False, color=None, methodName=\"loss limit = -40%\")\n",
    "# plot_rs_dist(df['-0.5']['profit'], None, 'fig_title', mean=False, median=1, color=None, methodName=\"loss limit = -50%\")\n",
    "# plot_rs_dist(df['-0.6']['profit'], None, 'fig_title', mean=False, median=1, color=None, methodName=\"loss limit = -60%\")\n",
    "plot_rs_dist(df['-0.7']['returnstd'], None, 'Distribution of returns (Cointegration - Rolling OLS)', mean=False, median=1, color=None, methodName=\"loss limit = -70%\")\n",
    "# plot_rs_dist(df['-0.8']['profit'], None, 'fig_title', mean=False, median=1, color=None, methodName=\"loss limit = -80%\")\n",
    "# plot_rs_dist(df['-0.9']['profit'], None, 'fig_title', mean=False, median=1, color=None, methodName=\"loss limit = -90%\")\n",
    "# plot_rs_dist(df['-1.0']['profit'], None, 'fig_title', mean=False, median=True, color=None, methodName=\"loss limit = -100%\")\n",
    "# plot_rs_dist(df['-1.5']['profit'], None, 'Distribution of returns', mean=False, median=True, color=None, methodName=\"loss limit = -150%\")\n",
    "plt.show()"
   ]
  },
  {
   "cell_type": "code",
   "execution_count": 129,
   "metadata": {},
   "outputs": [],
   "source": [
    "kf_dir = {}\n",
    "kf_dir['-0.5'] = 'output/grid-search-2019-04-10_00-06-42-697'\n",
    "kf_dir['-0.05'] = 'output/grid-search-2019-04-10_00-13-18-364'\n",
    "\n",
    "kf_df = {}\n",
    "kf_df['-0.5'] = Decoder.get_information_as_df('Performance of this pair', kf_dir['-0.5'])\n",
    "kf_df['-0.05'] = Decoder.get_information_as_df('Performance of this pair', kf_dir['-0.05'])"
   ]
  },
  {
   "cell_type": "code",
   "execution_count": 130,
   "metadata": {},
   "outputs": [
    {
     "name": "stdout",
     "output_type": "stream",
     "text": [
      "Number of pairs: 355\n",
      "Mean return over all pairs: 6959.7626\n",
      "Number of pairs: 355\n",
      "Mean return over all pairs: 4655.7391\n"
     ]
    },
    {
     "data": {
      "image/png": "[encoded data removed]",
      "text/plain": [
       "<Figure size 1008x504 with 1 Axes>"
      ]
     },
     "metadata": {
      "needs_background": "light"
     },
     "output_type": "display_data"
    }
   ],
   "source": [
    "plot_rs_dist(kf_df['-0.5']['returnstd'], None, 'Distribution of returns (Cointegration - Kalman)', mean=1, median=0, color=None, methodName=\"loss limit = -50%\")\n",
    "plot_rs_dist(kf_df['-0.05']['returnstd'], None, 'Distribution of returns (Cointegration - Kalman)', mean=1, median=0, color=None, methodName=\"loss limit = -5%\")\n",
    "plt.show()"
   ]
  },
  {
   "cell_type": "code",
   "execution_count": 8,
   "metadata": {},
   "outputs": [],
   "source": [
    "import datetime "
   ]
  },
  {
   "cell_type": "code",
   "execution_count": 12,
   "metadata": {},
   "outputs": [
    {
     "data": {
      "text/plain": [
       "datetime.date(2018, 1, 1)"
      ]
     },
     "execution_count": 12,
     "metadata": {},
     "output_type": "execute_result"
    }
   ],
   "source": [
    "datetime.datetime.strptime(\"2018-01-01\", \"%Y-%m-%d\").date()"
   ]
  },
  {
   "cell_type": "code",
   "execution_count": null,
   "metadata": {},
   "outputs": [],
   "source": []
  },
  {
   "cell_type": "code",
   "execution_count": null,
   "metadata": {},
   "outputs": [],
   "source": []
  },
  {
   "cell_type": "code",
   "execution_count": null,
   "metadata": {},
   "outputs": [],
   "source": []
  }
 ],
 "metadata": {
  "kernelspec": {
   "display_name": "Python [conda env:fyp2019]",
   "language": "python",
   "name": "conda-env-fyp2019-py"
  },
  "language_info": {
   "codemirror_mode": {
    "name": "ipython",
    "version": 3
   },
   "file_extension": ".py",
   "mimetype": "text/x-python",
   "name": "python",
   "nbconvert_exporter": "python",
   "pygments_lexer": "ipython3",
   "version": "3.6.8"
  },
  "toc": {
   "base_numbering": 1,
   "nav_menu": {},
   "number_sections": true,
   "sideBar": true,
   "skip_h1_title": false,
   "title_cell": "Table of Contents",
   "title_sidebar": "Contents",
   "toc_cell": false,
   "toc_position": {},
   "toc_section_display": true,
   "toc_window_display": false
  },
  "varInspector": {
   "cols": {
    "lenName": 16,
    "lenType": 16,
    "lenVar": 40
   },
   "kernels_config": {
    "python": {
     "delete_cmd_postfix": "",
     "delete_cmd_prefix": "del ",
     "library": "var_list.py",
     "varRefreshCmd": "print(var_dic_list())"
    },
    "r": {
     "delete_cmd_postfix": ") ",
     "delete_cmd_prefix": "rm(",
     "library": "var_list.r",
     "varRefreshCmd": "cat(var_dic_list()) "
    }
   },
   "types_to_exclude": [
    "module",
    "function",
    "builtin_function_or_method",
    "instance",
    "_Feature"
   ],
   "window_display": false
  }
 },
 "nbformat": 4,
 "nbformat_minor": 2
}
