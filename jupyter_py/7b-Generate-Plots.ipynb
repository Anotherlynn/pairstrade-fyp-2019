{
 "cells": [
  {
   "cell_type": "code",
   "execution_count": 20,
   "metadata": {},
   "outputs": [
    {
     "name": "stdout",
     "output_type": "stream",
     "text": [
      "The autoreload extension is already loaded. To reload it, use:\n",
      "  %reload_ext autoreload\n"
     ]
    }
   ],
   "source": [
    "from custom_analyzer import Metrics\n",
    "from pandas_datafeed import PandasData\n",
    "\n",
    "import matplotlib.pyplot as plt\n",
    "import pandas as pd\n",
    "import numpy as np\n",
    "import warnings\n",
    "import glob\n",
    "import os\n",
    "import uuid\n",
    "import itertools\n",
    "import json\n",
    "\n",
    "%load_ext autoreload\n",
    "%autoreload 2"
   ]
  },
  {
   "cell_type": "code",
   "execution_count": 150,
   "metadata": {},
   "outputs": [],
   "source": [
    "DIR = \"../backtest-results/cointegration-kalman/experiment3-y3//\""
   ]
  },
  {
   "cell_type": "code",
   "execution_count": 151,
   "metadata": {},
   "outputs": [
    {
     "data": {
      "text/plain": [
       "Index(['enter_threshold_size', 'exit_threshold_size', 'loss_limit',\n",
       "       'avg_sharpe_ratio', 'median_sharpe_ratio', 'avg_overall_return',\n",
       "       'median_overall_return', 'overall_return_std', 'uuid'],\n",
       "      dtype='object')"
      ]
     },
     "execution_count": 151,
     "metadata": {},
     "output_type": "execute_result"
    }
   ],
   "source": [
    "df = pd.read_csv(DIR + \"summary.csv\")\n",
    "df.columns"
   ]
  },
  {
   "cell_type": "code",
   "execution_count": 152,
   "metadata": {},
   "outputs": [],
   "source": [
    "df_subset = df[['enter_threshold_size', 'exit_threshold_size', 'loss_limit', 'median_overall_return', \n",
    "                'avg_overall_return', 'overall_return_std']]\n",
    "\n",
    "with open(DIR + 'results.tex','w') as tf:\n",
    "    tf.write(df_subset.to_latex(index=False))"
   ]
  },
  {
   "cell_type": "code",
   "execution_count": 153,
   "metadata": {},
   "outputs": [
    {
     "data": {
      "text/html": [
       "<div>\n",
       "<style scoped>\n",
       "    .dataframe tbody tr th:only-of-type {\n",
       "        vertical-align: middle;\n",
       "    }\n",
       "\n",
       "    .dataframe tbody tr th {\n",
       "        vertical-align: top;\n",
       "    }\n",
       "\n",
       "    .dataframe thead th {\n",
       "        text-align: right;\n",
       "    }\n",
       "</style>\n",
       "<table border=\"1\" class=\"dataframe\">\n",
       "  <thead>\n",
       "    <tr style=\"text-align: right;\">\n",
       "      <th></th>\n",
       "      <th>enter_threshold_size</th>\n",
       "      <th>exit_threshold_size</th>\n",
       "      <th>loss_limit</th>\n",
       "      <th>median_overall_return</th>\n",
       "      <th>avg_overall_return</th>\n",
       "      <th>overall_return_std</th>\n",
       "      <th>uuid</th>\n",
       "    </tr>\n",
       "  </thead>\n",
       "  <tbody>\n",
       "    <tr>\n",
       "      <th>0</th>\n",
       "      <td>2</td>\n",
       "      <td>0.25</td>\n",
       "      <td>-0.005</td>\n",
       "      <td>0.0</td>\n",
       "      <td>0.004845</td>\n",
       "      <td>0.080181</td>\n",
       "      <td>01a0d103-897f-4591-bbc2-7c1ec6a6d859</td>\n",
       "    </tr>\n",
       "    <tr>\n",
       "      <th>1</th>\n",
       "      <td>2</td>\n",
       "      <td>0.50</td>\n",
       "      <td>-0.005</td>\n",
       "      <td>0.0</td>\n",
       "      <td>0.003729</td>\n",
       "      <td>0.083530</td>\n",
       "      <td>0c7199bb-47d4-4646-a6e0-d86309ceec9f</td>\n",
       "    </tr>\n",
       "  </tbody>\n",
       "</table>\n",
       "</div>"
      ],
      "text/plain": [
       "   enter_threshold_size  exit_threshold_size  loss_limit  \\\n",
       "0                     2                 0.25      -0.005   \n",
       "1                     2                 0.50      -0.005   \n",
       "\n",
       "   median_overall_return  avg_overall_return  overall_return_std  \\\n",
       "0                    0.0            0.004845            0.080181   \n",
       "1                    0.0            0.003729            0.083530   \n",
       "\n",
       "                                   uuid  \n",
       "0  01a0d103-897f-4591-bbc2-7c1ec6a6d859  \n",
       "1  0c7199bb-47d4-4646-a6e0-d86309ceec9f  "
      ]
     },
     "execution_count": 153,
     "metadata": {},
     "output_type": "execute_result"
    }
   ],
   "source": [
    "df[['enter_threshold_size', 'exit_threshold_size', 'loss_limit', 'median_overall_return', \n",
    "                'avg_overall_return', 'overall_return_std', 'uuid']]"
   ]
  },
  {
   "cell_type": "code",
   "execution_count": 154,
   "metadata": {},
   "outputs": [],
   "source": [
    "uuid = \"01a0d103-897f-4591-bbc2-7c1ec6a6d859\"\n",
    "smalldf = pd.read_csv(DIR + uuid + \".csv\")"
   ]
  },
  {
   "cell_type": "code",
   "execution_count": 156,
   "metadata": {},
   "outputs": [
    {
     "data": {
      "image/png": "[encoded data removed]",
      "text/plain": [
       "<matplotlib.figure.Figure at 0x2ae673f58400>"
      ]
     },
     "metadata": {},
     "output_type": "display_data"
    }
   ],
   "source": [
    "plt.hist(smalldf['overall_return'], bins = 15, edgecolor='black')\n",
    "plt.show()"
   ]
  },
  {
   "cell_type": "code",
   "execution_count": 157,
   "metadata": {},
   "outputs": [
    {
     "data": {
      "image/png": "[encoded data removed]",
      "text/plain": [
       "<matplotlib.figure.Figure at 0x2ae6740a1710>"
      ]
     },
     "metadata": {},
     "output_type": "display_data"
    }
   ],
   "source": [
    "stat = plt.hist(smalldf['overall_return'], bins=12, edgecolor='black', color='blue')\n",
    "mean = smalldf['overall_return'].mean()\n",
    "median = np.median(smalldf['overall_return'])\n",
    "plt.axvline(mean, color='r', linestyle='dashed', linewidth=1, label='Mean: {:.3f}'.format(mean))\n",
    "plt.axvline(median, color='y', linestyle='dashed', linewidth=1, label='Median: {:.3f}'.format(median))\n",
    "\n",
    "plt.gcf().set_size_inches(14, 7)\n",
    "plt.xlabel('return')\n",
    "plt.ylabel('frequency')\n",
    "plt.legend(loc='upper right')\n",
    "plt.savefig(DIR + uuid +'.png')\n",
    "plt.show()"
   ]
  },
  {
   "cell_type": "code",
   "execution_count": 68,
   "metadata": {},
   "outputs": [
    {
     "data": {
      "text/plain": [
       "2520"
      ]
     },
     "execution_count": 68,
     "metadata": {},
     "output_type": "execute_result"
    }
   ],
   "source": [
    "20*126"
   ]
  },
  {
   "cell_type": "code",
   "execution_count": 107,
   "metadata": {},
   "outputs": [
    {
     "data": {
      "text/plain": [
       "0.01405013999999984"
      ]
     },
     "execution_count": 107,
     "metadata": {},
     "output_type": "execute_result"
    }
   ],
   "source": [
    "smalldf['overall_return'].median()"
   ]
  },
  {
   "cell_type": "code",
   "execution_count": null,
   "metadata": {},
   "outputs": [],
   "source": []
  }
 ],
 "metadata": {
  "kernelspec": {
   "display_name": "Python [conda env:fyp2019]",
   "language": "python",
   "name": "conda-env-fyp2019-py"
  },
  "language_info": {
   "codemirror_mode": {
    "name": "ipython",
    "version": 3
   },
   "file_extension": ".py",
   "mimetype": "text/x-python",
   "name": "python",
   "nbconvert_exporter": "python",
   "pygments_lexer": "ipython3",
   "version": "3.6.8"
  }
 },
 "nbformat": 4,
 "nbformat_minor": 2
}
