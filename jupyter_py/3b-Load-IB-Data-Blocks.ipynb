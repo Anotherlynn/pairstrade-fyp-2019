{
 "cells": [
  {
   "cell_type": "markdown",
   "metadata": {},
   "source": [
    "## Import packages\n",
    "\n",
    "**Remark:** ib_insync is a very useful third party library that can send *blocking* requests to Interactive Brokers. "
   ]
  },
  {
   "cell_type": "code",
   "execution_count": 2,
   "metadata": {},
   "outputs": [
    {
     "name": "stdout",
     "output_type": "stream",
     "text": [
      "The autoreload extension is already loaded. To reload it, use:\n",
      "  %reload_ext autoreload\n"
     ]
    }
   ],
   "source": [
    "from IB_load_data import *\n",
    "from datetime import datetime\n",
    "from datetime import timedelta\n",
    "from matplotlib import pyplot as plt\n",
    "from ib_insync import *\n",
    "\n",
    "import pandas as pd\n",
    "import numpy as np\n",
    "\n",
    "%load_ext autoreload\n",
    "%autoreload 2"
   ]
  },
  {
   "cell_type": "markdown",
   "metadata": {},
   "source": [
    "## Load Names of Tech Companies listed on NYSE and NASDAQ"
   ]
  },
  {
   "cell_type": "code",
   "execution_count": 3,
   "metadata": {
    "collapsed": true
   },
   "outputs": [],
   "source": [
    "nyse_tech_names = list(pd.read_csv(filepath_or_buffer = \"../stock-names/nyse_tech_list.csv\")[\"Symbol\"])\n",
    "nasdaq_tech_names = list(pd.read_csv(filepath_or_buffer = \"../stock-names/nasdaq_tech_list.csv\")[\"Symbol\"])\n",
    "nyse_energy_names = list(pd.read_csv(filepath_or_buffer = \"../stock-names/nyse_energy_list.csv\")[\"Symbol\"])"
   ]
  },
  {
   "cell_type": "markdown",
   "metadata": {},
   "source": [
    "## Connect to IB"
   ]
  },
  {
   "cell_type": "code",
   "execution_count": 4,
   "metadata": {},
   "outputs": [
    {
     "data": {
      "text/plain": [
       "<IB connected to 127.0.0.1:7497 clientId=1>"
      ]
     },
     "execution_count": 4,
     "metadata": {},
     "output_type": "execute_result"
    }
   ],
   "source": [
    "ib = IB()\n",
    "ib.connect('127.0.0.1', 7497, clientId=1)"
   ]
  },
  {
   "cell_type": "markdown",
   "metadata": {},
   "source": [
    "## Load NYSE tech stocks"
   ]
  },
  {
   "cell_type": "code",
   "execution_count": 5,
   "metadata": {
    "code_folding": []
   },
   "outputs": [
    {
     "name": "stdout",
     "output_type": "stream",
     "text": [
      "Downloading data of NYSE: APC\n",
      "1/210 completed.\n",
      "Downloading data of NYSE: ANDX\n",
      "2/210 completed.\n",
      "Downloading data of NYSE: AR\n",
      "3/210 completed.\n",
      "Downloading data of NYSE: APA\n",
      "4/210 completed.\n",
      "Downloading data of NYSE: ARCH\n",
      "5/210 completed.\n",
      "Downloading data of NYSE: AT\n"
     ]
    },
    {
     "name": "stderr",
     "output_type": "stream",
     "text": [
      "Error 162, reqId 8: Historical Market Data Service error message:No market data permissions for AMEX, ARCA, BATS, BEX, BYX, CHX, DRCTEDGE, EDGEA, IEX, ISE, ISLAND, NYSE, NYSENAT, PSX STK, contract: Stock(symbol='AT', exchange='SMART', primaryExchange='NYSE', currency='USD')\n"
     ]
    },
    {
     "name": "stdout",
     "output_type": "stream",
     "text": [
      "Error: 6/210 download aborted.\n",
      "Downloading data of NYSE: BHGE\n",
      "7/210 completed.\n",
      "Downloading data of NYSE: BAS\n",
      "8/210 completed.\n",
      "Downloading data of NYSE: BTE\n",
      "9/210 completed.\n",
      "Downloading data of NYSE: BXE\n"
     ]
    },
    {
     "name": "stderr",
     "output_type": "stream",
     "text": [
      "Error 162, reqId 12: Historical Market Data Service error message:No market data permissions for AMEX, ARCA, BATS, BEX, BYX, CHX, DRCTEDGE, EDGEA, IEX, ISE, ISLAND, NYSE, NYSENAT, PSX STK, contract: Stock(symbol='BXE', exchange='SMART', primaryExchange='NYSE', currency='USD')\n"
     ]
    },
    {
     "name": "stdout",
     "output_type": "stream",
     "text": [
      "Error: 10/210 download aborted.\n",
      "Downloading data of NYSE: BBL\n",
      "11/210 completed.\n",
      "Downloading data of NYSE: BSM\n",
      "12/210 completed.\n",
      "Downloading data of NYSE: BE\n",
      "13/210 completed.\n",
      "Downloading data of NYSE: BCEI\n",
      "14/210 completed.\n",
      "Downloading data of NYSE: BPMP\n",
      "15/210 completed.\n",
      "Downloading data of NYSE: BP\n",
      "16/210 completed.\n",
      "Downloading data of NYSE: BPT\n",
      "17/210 completed.\n",
      "Downloading data of NYSE: BGG\n",
      "18/210 completed.\n",
      "Downloading data of NYSE: BC\n",
      "19/210 completed.\n",
      "Downloading data of NYSE: BPL\n",
      "20/210 completed.\n",
      "Downloading data of NYSE: BWXT\n",
      "21/210 completed.\n",
      "Downloading data of NYSE: CJ\n",
      "22/210 completed.\n",
      "Downloading data of NYSE: COG\n",
      "23/210 completed.\n",
      "Downloading data of NYSE: WHD\n",
      "24/210 completed.\n",
      "Downloading data of NYSE: CRC\n",
      "25/210 completed.\n",
      "Downloading data of NYSE: CPE\n"
     ]
    },
    {
     "name": "stderr",
     "output_type": "stream",
     "text": [
      "Error 200, reqId 29: No security definition has been found for the request, contract: Stock(symbol='CPE^A', exchange='SMART', primaryExchange='NYSE', currency='USD')\n"
     ]
    },
    {
     "name": "stdout",
     "output_type": "stream",
     "text": [
      "26/210 completed.\n",
      "Downloading data of NYSE: CPE^A\n",
      "Error: 27/210 download aborted.\n",
      "Downloading data of NYSE: CNQ\n",
      "28/210 completed.\n",
      "Downloading data of NYSE: CVE\n",
      "29/210 completed.\n",
      "Downloading data of NYSE: CHAP\n"
     ]
    },
    {
     "name": "stderr",
     "output_type": "stream",
     "text": [
      "Error 162, reqId 32: Historical Market Data Service error message:No market data permissions for AMEX, ARCA, BATS, BEX, BYX, CHX, DRCTEDGE, EDGEA, IEX, ISE, ISLAND, NYSE, NYSENAT, PSX STK, contract: Stock(symbol='CHAP', exchange='SMART', primaryExchange='NYSE', currency='USD')\n"
     ]
    },
    {
     "name": "stdout",
     "output_type": "stream",
     "text": [
      "Error: 30/210 download aborted.\n",
      "Downloading data of NYSE: CHK\n",
      "31/210 completed.\n",
      "Downloading data of NYSE: CHKR\n",
      "32/210 completed.\n",
      "Downloading data of NYSE: CVX\n",
      "33/210 completed.\n",
      "Downloading data of NYSE: SNP\n",
      "34/210 completed.\n",
      "Downloading data of NYSE: CYD\n",
      "35/210 completed.\n",
      "Downloading data of NYSE: XEC\n",
      "36/210 completed.\n",
      "Downloading data of NYSE: CLD\n",
      "37/210 completed.\n",
      "Downloading data of NYSE: CEO\n",
      "38/210 completed.\n",
      "Downloading data of NYSE: CEIX\n",
      "39/210 completed.\n",
      "Downloading data of NYSE: CNX\n",
      "40/210 completed.\n",
      "Downloading data of NYSE: CRK\n",
      "41/210 completed.\n",
      "Downloading data of NYSE: CXO\n",
      "42/210 completed.\n",
      "Downloading data of NYSE: COP\n",
      "43/210 completed.\n",
      "Downloading data of NYSE: CCR\n",
      "44/210 completed.\n",
      "Downloading data of NYSE: CLR\n",
      "45/210 completed.\n",
      "Downloading data of NYSE: CTRA\n"
     ]
    },
    {
     "name": "stderr",
     "output_type": "stream",
     "text": [
      "Error 162, reqId 48: Historical Market Data Service error message:No market data permissions for AMEX, ARCA, BATS, BEX, BYX, CHX, DRCTEDGE, EDGEA, IEX, ISE, ISLAND, NYSE, NYSENAT, PSX STK, contract: Stock(symbol='CTRA', exchange='SMART', primaryExchange='NYSE', currency='USD')\n"
     ]
    },
    {
     "name": "stdout",
     "output_type": "stream",
     "text": [
      "Error: 46/210 download aborted.\n",
      "Downloading data of NYSE: CLB\n",
      "47/210 completed.\n",
      "Downloading data of NYSE: CPG\n"
     ]
    },
    {
     "name": "stderr",
     "output_type": "stream",
     "text": [
      "Error 162, reqId 50: Historical Market Data Service error message:No market data permissions for AMEX, ARCA, BATS, BEX, BYX, CHX, DRCTEDGE, EDGEA, IEX, ISE, ISLAND, NYSE, NYSENAT, PSX STK, contract: Stock(symbol='CPG', exchange='SMART', primaryExchange='NYSE', currency='USD')\n"
     ]
    },
    {
     "name": "stdout",
     "output_type": "stream",
     "text": [
      "Error: 48/210 download aborted.\n",
      "Downloading data of NYSE: CRT\n",
      "49/210 completed.\n",
      "Downloading data of NYSE: CAPL\n",
      "50/210 completed.\n",
      "Downloading data of NYSE: CMI\n",
      "51/210 completed.\n",
      "Downloading data of NYSE: CVI\n",
      "52/210 completed.\n",
      "Downloading data of NYSE: CVRR\n",
      "53/210 completed.\n",
      "Downloading data of NYSE: CELP\n",
      "54/210 completed.\n",
      "Downloading data of NYSE: DKL\n",
      "55/210 completed.\n",
      "Downloading data of NYSE: DK\n"
     ]
    },
    {
     "name": "stderr",
     "output_type": "stream",
     "text": [
      "Error 162, reqId 58: Historical Market Data Service error message:No historical market data for 1490/STK@NYSENBBO MidPoint 1d, contract: Stock(symbol='DK', exchange='SMART', primaryExchange='NYSE', currency='USD')\n"
     ]
    },
    {
     "name": "stdout",
     "output_type": "stream",
     "text": [
      "Error: 56/210 download aborted.\n",
      "Downloading data of NYSE: DNR\n",
      "57/210 completed.\n",
      "Downloading data of NYSE: DVN\n",
      "58/210 completed.\n",
      "Downloading data of NYSE: DO\n",
      "59/210 completed.\n",
      "Downloading data of NYSE: DRQ\n",
      "60/210 completed.\n",
      "Downloading data of NYSE: ESTE\n"
     ]
    },
    {
     "name": "stderr",
     "output_type": "stream",
     "text": [
      "Error 162, reqId 63: Historical Market Data Service error message:No market data permissions for AMEX, ARCA, BATS, BEX, BYX, CHX, DRCTEDGE, EDGEA, IEX, ISE, ISLAND, NYSE, NYSENAT, PSX STK, contract: Stock(symbol='ESTE', exchange='SMART', primaryExchange='NYSE', currency='USD')\n"
     ]
    },
    {
     "name": "stdout",
     "output_type": "stream",
     "text": [
      "Error: 61/210 download aborted.\n",
      "Downloading data of NYSE: ECT\n",
      "62/210 completed.\n",
      "Downloading data of NYSE: ECR\n",
      "63/210 completed.\n",
      "Downloading data of NYSE: EC\n",
      "64/210 completed.\n",
      "Downloading data of NYSE: EMR\n",
      "65/210 completed.\n",
      "Downloading data of NYSE: ENB\n",
      "66/210 completed.\n",
      "Downloading data of NYSE: ENBA\n",
      "67/210 completed.\n",
      "Downloading data of NYSE: ECA\n",
      "68/210 completed.\n",
      "Downloading data of NYSE: ERF\n",
      "69/210 completed.\n",
      "Downloading data of NYSE: E\n",
      "70/210 completed.\n",
      "Downloading data of NYSE: ESV\n",
      "71/210 completed.\n",
      "Downloading data of NYSE: EOG\n",
      "72/210 completed.\n",
      "Downloading data of NYSE: EPE\n",
      "73/210 completed.\n",
      "Downloading data of NYSE: EQT\n",
      "74/210 completed.\n",
      "Downloading data of NYSE: EQNR\n",
      "75/210 completed.\n",
      "Downloading data of NYSE: XOM\n",
      "76/210 completed.\n",
      "Downloading data of NYSE: FELP\n",
      "77/210 completed.\n",
      "Downloading data of NYSE: FET\n",
      "78/210 completed.\n",
      "Downloading data of NYSE: FI\n",
      "79/210 completed.\n",
      "Downloading data of NYSE: FTSI\n",
      "80/210 completed.\n",
      "Downloading data of NYSE: GE\n",
      "81/210 completed.\n",
      "Downloading data of NYSE: GEL\n",
      "82/210 completed.\n",
      "Downloading data of NYSE: GPRK\n"
     ]
    },
    {
     "name": "stderr",
     "output_type": "stream",
     "text": [
      "Error 162, reqId 85: Historical Market Data Service error message:No market data permissions for AMEX, ARCA, BATS, BEX, BYX, CHX, DRCTEDGE, EDGEA, IEX, ISE, ISLAND, NYSE, NYSENAT, PSX STK, contract: Stock(symbol='GPRK', exchange='SMART', primaryExchange='NYSE', currency='USD')\n"
     ]
    },
    {
     "name": "stdout",
     "output_type": "stream",
     "text": [
      "Error: 83/210 download aborted.\n",
      "Downloading data of NYSE: GLP\n",
      "84/210 completed.\n",
      "Downloading data of NYSE: EAF\n",
      "85/210 completed.\n",
      "Downloading data of NYSE: HK\n",
      "86/210 completed.\n",
      "Downloading data of NYSE: HAL\n",
      "87/210 completed.\n",
      "Downloading data of NYSE: HLX\n",
      "88/210 completed.\n",
      "Downloading data of NYSE: HP\n",
      "89/210 completed.\n",
      "Downloading data of NYSE: HES\n",
      "90/210 completed.\n",
      "Downloading data of NYSE: HESM\n",
      "91/210 completed.\n",
      "Downloading data of NYSE: HPR\n",
      "92/210 completed.\n",
      "Downloading data of NYSE: HEP\n",
      "93/210 completed.\n",
      "Downloading data of NYSE: HFC\n",
      "94/210 completed.\n",
      "Downloading data of NYSE: ICD\n",
      "95/210 completed.\n",
      "Downloading data of NYSE: IO\n",
      "96/210 completed.\n",
      "Downloading data of NYSE: JAG\n",
      "97/210 completed.\n",
      "Downloading data of NYSE: FRAC\n",
      "98/210 completed.\n",
      "Downloading data of NYSE: KEG\n",
      "99/210 completed.\n",
      "Downloading data of NYSE: KRP\n",
      "100/210 completed.\n",
      "Downloading data of NYSE: PHG\n",
      "101/210 completed.\n",
      "Downloading data of NYSE: KOS\n",
      "102/210 completed.\n",
      "Downloading data of NYSE: LPI\n",
      "103/210 completed.\n",
      "Downloading data of NYSE: LBRT\n",
      "104/210 completed.\n",
      "Downloading data of NYSE: MIC\n",
      "105/210 completed.\n",
      "Downloading data of NYSE: MMP\n",
      "106/210 completed.\n",
      "Downloading data of NYSE: MGY\n",
      "107/210 completed.\n",
      "Downloading data of NYSE: MRO\n",
      "108/210 completed.\n",
      "Downloading data of NYSE: MPC\n",
      "109/210 completed.\n",
      "Downloading data of NYSE: MTDR\n",
      "110/210 completed.\n",
      "Downloading data of NYSE: MTR\n",
      "111/210 completed.\n",
      "Downloading data of NYSE: MPO\n",
      "112/210 completed.\n",
      "Downloading data of NYSE: MPLX\n",
      "113/210 completed.\n",
      "Downloading data of NYSE: MUR\n",
      "114/210 completed.\n",
      "Downloading data of NYSE: MVO\n",
      "115/210 completed.\n",
      "Downloading data of NYSE: NBR\n",
      "116/210 completed.\n",
      "Downloading data of NYSE: NOV\n",
      "117/210 completed.\n",
      "Downloading data of NYSE: NGS\n",
      "118/210 completed.\n",
      "Downloading data of NYSE: NRP\n",
      "119/210 completed.\n",
      "Downloading data of NYSE: NFX\n",
      "120/210 completed.\n",
      "Downloading data of NYSE: NR\n",
      "121/210 completed.\n",
      "Downloading data of NYSE: NGL\n",
      "122/210 completed.\n",
      "Downloading data of NYSE: NINE\n",
      "123/210 completed.\n",
      "Downloading data of NYSE: NE\n",
      "124/210 completed.\n",
      "Downloading data of NYSE: NBL\n",
      "125/210 completed.\n",
      "Downloading data of NYSE: NBLX\n",
      "126/210 completed.\n",
      "Downloading data of NYSE: NOA\n",
      "127/210 completed.\n",
      "Downloading data of NYSE: NRT\n",
      "128/210 completed.\n",
      "Downloading data of NYSE: DNOW\n",
      "129/210 completed.\n",
      "Downloading data of NYSE: NS\n",
      "130/210 completed.\n",
      "Downloading data of NYSE: OMP\n",
      "131/210 completed.\n",
      "Downloading data of NYSE: OAS\n",
      "132/210 completed.\n",
      "Downloading data of NYSE: OBE\n",
      "133/210 completed.\n",
      "Downloading data of NYSE: OXY\n",
      "134/210 completed.\n",
      "Downloading data of NYSE: OII\n",
      "135/210 completed.\n",
      "Downloading data of NYSE: OIS\n",
      "136/210 completed.\n",
      "Downloading data of NYSE: ROYT\n",
      "137/210 completed.\n",
      "Downloading data of NYSE: PACD\n"
     ]
    },
    {
     "name": "stderr",
     "output_type": "stream",
     "text": [
      "Error 162, reqId 140: Historical Market Data Service error message:No market data permissions for AMEX, ARCA, BATS, BEX, BYX, CHX, DRCTEDGE, EDGEA, IEX, ISE, ISLAND, NYSE, NYSENAT, PSX STK, contract: Stock(symbol='PACD', exchange='SMART', primaryExchange='NYSE', currency='USD')\n"
     ]
    },
    {
     "name": "stdout",
     "output_type": "stream",
     "text": [
      "Error: 138/210 download aborted.\n",
      "Downloading data of NYSE: PHX\n",
      "139/210 completed.\n",
      "Downloading data of NYSE: PARR\n"
     ]
    },
    {
     "name": "stderr",
     "output_type": "stream",
     "text": [
      "Error 162, reqId 142: Historical Market Data Service error message:No market data permissions for AMEX, ARCA, BATS, BEX, BYX, CHX, DRCTEDGE, EDGEA, IEX, ISE, ISLAND, NYSE, NYSENAT, PSX STK, contract: Stock(symbol='PARR', exchange='SMART', primaryExchange='NYSE', currency='USD')\n"
     ]
    },
    {
     "name": "stdout",
     "output_type": "stream",
     "text": [
      "Error: 140/210 download aborted.\n",
      "Downloading data of NYSE: PE\n",
      "141/210 completed.\n",
      "Downloading data of NYSE: PBF\n",
      "142/210 completed.\n",
      "Downloading data of NYSE: PBFX\n",
      "143/210 completed.\n",
      "Downloading data of NYSE: BTU\n",
      "144/210 completed.\n",
      "Downloading data of NYSE: PBA\n"
     ]
    },
    {
     "name": "stderr",
     "output_type": "stream",
     "text": [
      "Error 162, reqId 147: Historical Market Data Service error message:No market data permissions for AMEX, ARCA, BATS, BEX, BYX, CHX, DRCTEDGE, EDGEA, IEX, ISE, ISLAND, NYSE, NYSENAT, PSX STK, contract: Stock(symbol='PBA', exchange='SMART', primaryExchange='NYSE', currency='USD')\n"
     ]
    },
    {
     "name": "stdout",
     "output_type": "stream",
     "text": [
      "Error: 145/210 download aborted.\n",
      "Downloading data of NYSE: PBT\n",
      "146/210 completed.\n",
      "Downloading data of NYSE: PVL\n",
      "147/210 completed.\n",
      "Downloading data of NYSE: PRT\n",
      "148/210 completed.\n",
      "Downloading data of NYSE: PTR\n",
      "149/210 completed.\n",
      "Downloading data of NYSE: PBR\n",
      "150/210 completed.\n",
      "Downloading data of NYSE: PSX\n",
      "151/210 completed.\n",
      "Downloading data of NYSE: PSXP\n",
      "152/210 completed.\n",
      "Downloading data of NYSE: PES\n",
      "153/210 completed.\n",
      "Downloading data of NYSE: PXD\n",
      "154/210 completed.\n",
      "Downloading data of NYSE: PAA\n",
      "155/210 completed.\n",
      "Downloading data of NYSE: PAGP\n",
      "156/210 completed.\n",
      "Downloading data of NYSE: PDS\n",
      "157/210 completed.\n",
      "Downloading data of NYSE: PUMP\n",
      "158/210 completed.\n",
      "Downloading data of NYSE: QEP\n",
      "159/210 completed.\n",
      "Downloading data of NYSE: QES\n",
      "160/210 completed.\n",
      "Downloading data of NYSE: RRC\n",
      "161/210 completed.\n",
      "Downloading data of NYSE: RNGR\n"
     ]
    },
    {
     "name": "stderr",
     "output_type": "stream",
     "text": [
      "Error 200, reqId 165: No security definition has been found for the request, contract: Stock(symbol='REN           ', exchange='SMART', primaryExchange='NYSE', currency='USD')\n"
     ]
    },
    {
     "name": "stdout",
     "output_type": "stream",
     "text": [
      "162/210 completed.\n",
      "Downloading data of NYSE: REN           \n",
      "Error: 163/210 download aborted.\n",
      "Downloading data of NYSE: ROAN\n"
     ]
    },
    {
     "name": "stderr",
     "output_type": "stream",
     "text": [
      "Error 162, reqId 166: Historical Market Data Service error message:No market data permissions for AMEX, ARCA, BATS, BEX, BYX, CHX, DRCTEDGE, EDGEA, IEX, ISE, ISLAND, NYSE, NYSENAT, PSX STK, contract: Stock(symbol='ROAN', exchange='SMART', primaryExchange='NYSE', currency='USD')\n"
     ]
    },
    {
     "name": "stdout",
     "output_type": "stream",
     "text": [
      "Error: 164/210 download aborted.\n",
      "Downloading data of NYSE: RDC\n",
      "165/210 completed.\n",
      "Downloading data of NYSE: RES\n",
      "166/210 completed.\n",
      "Downloading data of NYSE: SBR\n",
      "167/210 completed.\n",
      "Downloading data of NYSE: SJT\n",
      "168/210 completed.\n",
      "Downloading data of NYSE: SN\n",
      "169/210 completed.\n",
      "Downloading data of NYSE: SD\n"
     ]
    },
    {
     "name": "stderr",
     "output_type": "stream",
     "text": [
      "Error 162, reqId 172: Historical Market Data Service error message:No market data permissions for AMEX, ARCA, BATS, BEX, BYX, CHX, DRCTEDGE, EDGEA, IEX, ISE, ISLAND, NYSE, NYSENAT, PSX STK, contract: Stock(symbol='SD', exchange='SMART', primaryExchange='NYSE', currency='USD')\n"
     ]
    },
    {
     "name": "stdout",
     "output_type": "stream",
     "text": [
      "Error: 170/210 download aborted.\n",
      "Downloading data of NYSE: SDT\n",
      "171/210 completed.\n",
      "Downloading data of NYSE: SDR\n",
      "172/210 completed.\n",
      "Downloading data of NYSE: PER\n",
      "173/210 completed.\n",
      "Downloading data of NYSE: SSL\n",
      "174/210 completed.\n",
      "Downloading data of NYSE: SLB\n",
      "175/210 completed.\n",
      "Downloading data of NYSE: SDRL\n",
      "176/210 completed.\n",
      "Downloading data of NYSE: SDLP\n",
      "177/210 completed.\n",
      "Downloading data of NYSE: WTTR\n",
      "178/210 completed.\n",
      "Downloading data of NYSE: SEMG\n"
     ]
    },
    {
     "name": "stderr",
     "output_type": "stream",
     "text": [
      "Error 162, reqId 181: Historical Market Data Service error message:No market data permissions for AMEX, ARCA, BATS, BEX, BYX, CHX, DRCTEDGE, EDGEA, IEX, ISE, ISLAND, NYSE, NYSENAT, PSX STK, contract: Stock(symbol='SEMG', exchange='SMART', primaryExchange='NYSE', currency='USD')\n"
     ]
    },
    {
     "name": "stdout",
     "output_type": "stream",
     "text": [
      "Error: 179/210 download aborted.\n",
      "Downloading data of NYSE: SHLX\n",
      "180/210 completed.\n",
      "Downloading data of NYSE: SBOW\n",
      "181/210 completed.\n",
      "Downloading data of NYSE: SM\n",
      "182/210 completed.\n",
      "Downloading data of NYSE: SOI\n",
      "183/210 completed.\n",
      "Downloading data of NYSE: SWN\n",
      "184/210 completed.\n",
      "Downloading data of NYSE: SRLP\n",
      "185/210 completed.\n",
      "Downloading data of NYSE: SU\n",
      "186/210 completed.\n",
      "Downloading data of NYSE: SUN\n",
      "187/210 completed.\n",
      "Downloading data of NYSE: SPN\n",
      "188/210 completed.\n",
      "Downloading data of NYSE: TALO\n",
      "189/210 completed.\n",
      "Downloading data of NYSE: FTI\n",
      "190/210 completed.\n",
      "Downloading data of NYSE: TTI\n",
      "191/210 completed.\n",
      "Downloading data of NYSE: TPL\n",
      "192/210 completed.\n",
      "Downloading data of NYSE: THR\n",
      "193/210 completed.\n",
      "Downloading data of NYSE: TOT\n",
      "194/210 completed.\n",
      "Downloading data of NYSE: TLP\n",
      "195/210 completed.\n",
      "Downloading data of NYSE: RIG\n",
      "196/210 completed.\n",
      "Downloading data of NYSE: TREC\n",
      "197/210 completed.\n",
      "Downloading data of NYSE: UNT\n",
      "198/210 completed.\n",
      "Downloading data of NYSE: EGY\n",
      "199/210 completed.\n",
      "Downloading data of NYSE: VLO\n",
      "200/210 completed.\n",
      "Downloading data of NYSE: VET\n"
     ]
    },
    {
     "name": "stderr",
     "output_type": "stream",
     "text": [
      "Error 162, reqId 203: Historical Market Data Service error message:No market data permissions for AMEX, ARCA, BATS, BEX, BYX, CHX, DRCTEDGE, EDGEA, IEX, ISE, ISLAND, NYSE, NYSENAT, PSX STK, contract: Stock(symbol='VET', exchange='SMART', primaryExchange='NYSE', currency='USD')\n"
     ]
    },
    {
     "name": "stdout",
     "output_type": "stream",
     "text": [
      "Error: 201/210 download aborted.\n",
      "Downloading data of NYSE: VOC\n",
      "202/210 completed.\n",
      "Downloading data of NYSE: WTI\n",
      "203/210 completed.\n",
      "Downloading data of NYSE: HCC\n",
      "204/210 completed.\n",
      "Downloading data of NYSE: WFT\n",
      "205/210 completed.\n",
      "Downloading data of NYSE: WLL\n",
      "206/210 completed.\n",
      "Downloading data of NYSE: WRD\n",
      "207/210 completed.\n",
      "Downloading data of NYSE: INT\n",
      "208/210 completed.\n",
      "Downloading data of NYSE: WPX\n",
      "209/210 completed.\n",
      "Downloading data of NYSE: YPF\n",
      "210/210 completed.\n"
     ]
    }
   ],
   "source": [
    "for i in range(len(nyse_energy_names)):\n",
    "    stock_name = nyse_energy_names[i]\n",
    "    \n",
    "    print(\"Downloading data of NYSE: \" + stock_name)\n",
    "    \n",
    "    contract = Stock(stock_name, 'SMART', 'USD', primaryExchange=\"NYSE\")\n",
    "    bars = ib.reqHistoricalData(contract, endDateTime=\"20190105 04:55:00\", durationStr='10 Y',\n",
    "            barSizeSetting='1 day', whatToShow='MIDPOINT', useRTH=True)\n",
    "    \n",
    "    # convert to pandas dataframe:\n",
    "    df = util.df(bars)\n",
    "    PATH_NAME = \"../ib-data/nyse-daily-energy/\" + str(stock_name) + \".csv\"\n",
    "    \n",
    "    if df is None:\n",
    "        print( \"Error: \" + str(i + 1) + \"/\" + str(len(nyse_energy_names)) + \" download aborted.\")\n",
    "    else:\n",
    "        df.to_csv(path_or_buf=PATH_NAME, index=False)\n",
    "        print( str(i + 1) + \"/\" + str(len(nyse_energy_names)) + \" completed.\")"
   ]
  },
  {
   "cell_type": "markdown",
   "metadata": {},
   "source": [
    "**Remarks**: \n",
    "- DELL is skipped because it is a newly relisted symbol on NYSE, no market data permissions to download \n",
    "- MAXR is skipped."
   ]
  },
  {
   "cell_type": "markdown",
   "metadata": {},
   "source": [
    "## Load NASDAQ tech stocks\n",
    "\n",
    "- MIDPOINT: stopped at 228"
   ]
  },
  {
   "cell_type": "code",
   "execution_count": null,
   "metadata": {},
   "outputs": [
    {
     "name": "stdout",
     "output_type": "stream",
     "text": [
      "Downloading data of NASDAQ: MAMS\n",
      "230/437 completed.\n",
      "Downloading data of NASDAQ: MANH\n",
      "231/437 completed.\n",
      "Downloading data of NASDAQ: MNTX\n",
      "232/437 completed.\n",
      "Downloading data of NASDAQ: MRIN\n",
      "233/437 completed.\n",
      "Downloading data of NASDAQ: MRVL\n",
      "234/437 completed.\n",
      "Downloading data of NASDAQ: MTCH\n",
      "235/437 completed.\n",
      "Downloading data of NASDAQ: MTLS\n",
      "236/437 completed.\n",
      "Downloading data of NASDAQ: MXIM\n",
      "237/437 completed.\n",
      "Downloading data of NASDAQ: MGRC\n",
      "238/437 completed.\n",
      "Downloading data of NASDAQ: MDCA\n",
      "239/437 completed.\n",
      "Downloading data of NASDAQ: MTBC\n"
     ]
    },
    {
     "name": "stderr",
     "output_type": "stream",
     "text": [
      "Error 1100, reqId -1: Connectivity between IB and Trader Workstation has been lost.\n",
      "Error 1102, reqId -1: Connectivity between IB and Trader Workstation has been restored - data maintained.\n"
     ]
    },
    {
     "name": "stdout",
     "output_type": "stream",
     "text": [
      "240/437 completed.\n",
      "Downloading data of NASDAQ: MTBCP\n",
      "241/437 completed.\n",
      "Downloading data of NASDAQ: MDSO\n",
      "242/437 completed.\n",
      "Downloading data of NASDAQ: MLNX\n",
      "243/437 completed.\n",
      "Downloading data of NASDAQ: MCHP\n",
      "244/437 completed.\n",
      "Downloading data of NASDAQ: MU\n",
      "245/437 completed.\n",
      "Downloading data of NASDAQ: MSFT\n",
      "246/437 completed.\n",
      "Downloading data of NASDAQ: MSTR\n",
      "247/437 completed.\n",
      "Downloading data of NASDAQ: MIME\n",
      "248/437 completed.\n",
      "Downloading data of NASDAQ: MNDO\n",
      "249/437 completed.\n",
      "Downloading data of NASDAQ: MB\n",
      "250/437 completed.\n",
      "Downloading data of NASDAQ: MIND\n",
      "251/437 completed.\n",
      "Downloading data of NASDAQ: MINDP\n"
     ]
    },
    {
     "name": "stderr",
     "output_type": "stream",
     "text": [
      "Error 1100, reqId -1: Connectivity between IB and Trader Workstation has been lost.\n",
      "Error 1102, reqId -1: Connectivity between IB and Trader Workstation has been restored - data maintained.\n"
     ]
    },
    {
     "name": "stdout",
     "output_type": "stream",
     "text": [
      "252/437 completed.\n",
      "Downloading data of NASDAQ: MITK\n",
      "253/437 completed.\n",
      "Downloading data of NASDAQ: MOBL\n",
      "254/437 completed.\n",
      "Downloading data of NASDAQ: MOMO\n",
      "255/437 completed.\n",
      "Downloading data of NASDAQ: MDB\n",
      "256/437 completed.\n",
      "Downloading data of NASDAQ: MPWR\n",
      "257/437 completed.\n",
      "Downloading data of NASDAQ: TYPE\n",
      "258/437 completed.\n",
      "Downloading data of NASDAQ: MOSY\n",
      "259/437 completed.\n",
      "Downloading data of NASDAQ: MOXC\n"
     ]
    },
    {
     "name": "stderr",
     "output_type": "stream",
     "text": [
      "Error 162, reqId 33: Historical Market Data Service error message:No market data permissions for AMEX, ARCA, NYSENAT, PSX STK, contract: Stock(symbol='MOXC', exchange='SMART', primaryExchange='NASDAQ', currency='USD')\n"
     ]
    },
    {
     "name": "stdout",
     "output_type": "stream",
     "text": [
      "Error: 260/437 download aborted.\n",
      "Downloading data of NASDAQ: MTEC\n",
      "261/437 completed.\n",
      "Downloading data of NASDAQ: MTECU\n"
     ]
    },
    {
     "name": "stderr",
     "output_type": "stream",
     "text": [
      "Error 200, reqId 36: No security definition has been found for the request, contract: Stock(symbol='MTECW', exchange='SMART', primaryExchange='NASDAQ', currency='USD')\n"
     ]
    },
    {
     "name": "stdout",
     "output_type": "stream",
     "text": [
      "262/437 completed.\n",
      "Downloading data of NASDAQ: MTECW\n",
      "Error: 263/437 download aborted.\n",
      "Downloading data of NASDAQ: MYSZ\n",
      "264/437 completed.\n",
      "Downloading data of NASDAQ: NNDM\n"
     ]
    },
    {
     "name": "stderr",
     "output_type": "stream",
     "text": [
      "Error 162, reqId 38: Historical Market Data Service error message:No market data permissions for AMEX, ARCA, NYSENAT, PSX STK, contract: Stock(symbol='NNDM', exchange='SMART', primaryExchange='NASDAQ', currency='USD')\n"
     ]
    },
    {
     "name": "stdout",
     "output_type": "stream",
     "text": [
      "Error: 265/437 download aborted.\n",
      "Downloading data of NASDAQ: NH\n",
      "266/437 completed.\n",
      "Downloading data of NASDAQ: NATI\n",
      "267/437 completed.\n",
      "Downloading data of NASDAQ: NETE\n",
      "268/437 completed.\n",
      "Downloading data of NASDAQ: NTAP\n",
      "269/437 completed.\n",
      "Downloading data of NASDAQ: NTCT\n",
      "270/437 completed.\n",
      "Downloading data of NASDAQ: NTWK\n"
     ]
    },
    {
     "name": "stderr",
     "output_type": "stream",
     "text": [
      "Error 1100, reqId -1: Connectivity between IB and Trader Workstation has been lost.\n",
      "Error 1100, reqId -1: Connectivity between IB and Trader Workstation has been lost.\n",
      "Error 1102, reqId -1: Connectivity between IB and Trader Workstation has been restored - data maintained.\n"
     ]
    },
    {
     "name": "stdout",
     "output_type": "stream",
     "text": [
      "271/437 completed.\n",
      "Downloading data of NASDAQ: NXGN\n",
      "272/437 completed.\n",
      "Downloading data of NASDAQ: NICE\n",
      "273/437 completed.\n",
      "Downloading data of NASDAQ: LASR\n",
      "274/437 completed.\n",
      "Downloading data of NASDAQ: NUAN\n",
      "275/437 completed.\n",
      "Downloading data of NASDAQ: NTNX\n",
      "276/437 completed.\n",
      "Downloading data of NASDAQ: NVEC\n",
      "277/437 completed.\n",
      "Downloading data of NASDAQ: NVDA\n",
      "278/437 completed.\n",
      "Downloading data of NASDAQ: NXPI\n",
      "279/437 completed.\n",
      "Downloading data of NASDAQ: OIIM\n",
      "280/437 completed.\n",
      "Downloading data of NASDAQ: OKTA\n",
      "281/437 completed.\n",
      "Downloading data of NASDAQ: OMCL\n",
      "282/437 completed.\n",
      "Downloading data of NASDAQ: ON\n",
      "283/437 completed.\n",
      "Downloading data of NASDAQ: OTIV\n",
      "284/437 completed.\n",
      "Downloading data of NASDAQ: OSS\n",
      "285/437 completed.\n",
      "Downloading data of NASDAQ: OSPN\n",
      "286/437 completed.\n",
      "Downloading data of NASDAQ: OTEX\n",
      "287/437 completed.\n",
      "Downloading data of NASDAQ: OSIS\n",
      "288/437 completed.\n",
      "Downloading data of NASDAQ: PFIN\n",
      "289/437 completed.\n",
      "Downloading data of NASDAQ: TEUM\n",
      "290/437 completed.\n",
      "Downloading data of NASDAQ: PCYG\n",
      "291/437 completed.\n",
      "Downloading data of NASDAQ: PCTY\n",
      "292/437 completed.\n",
      "Downloading data of NASDAQ: PCTI\n",
      "293/437 completed.\n",
      "Downloading data of NASDAQ: PDFS\n",
      "294/437 completed.\n",
      "Downloading data of NASDAQ: PEGA\n",
      "295/437 completed.\n",
      "Downloading data of NASDAQ: PRFT\n",
      "296/437 completed.\n",
      "Downloading data of NASDAQ: PERI\n",
      "297/437 completed.\n",
      "Downloading data of NASDAQ: PLAB\n",
      "298/437 completed.\n",
      "Downloading data of NASDAQ: PHUN\n"
     ]
    },
    {
     "name": "stderr",
     "output_type": "stream",
     "text": [
      "Error 200, reqId 73: No security definition has been found for the request, contract: Stock(symbol='PHUNW', exchange='SMART', primaryExchange='NASDAQ', currency='USD')\n"
     ]
    },
    {
     "name": "stdout",
     "output_type": "stream",
     "text": [
      "299/437 completed.\n",
      "Downloading data of NASDAQ: PHUNW\n",
      "Error: 300/437 download aborted.\n",
      "Downloading data of NASDAQ: PXLW\n",
      "301/437 completed.\n",
      "Downloading data of NASDAQ: PLXS\n",
      "302/437 completed.\n",
      "Downloading data of NASDAQ: PS\n",
      "303/437 completed.\n",
      "Downloading data of NASDAQ: PNTR\n",
      "304/437 completed.\n",
      "Downloading data of NASDAQ: POWI\n"
     ]
    },
    {
     "name": "stderr",
     "output_type": "stream",
     "text": [
      "Error 1100, reqId -1: Connectivity between IB and Trader Workstation has been lost.\n",
      "Error 1102, reqId -1: Connectivity between IB and Trader Workstation has been restored - data maintained.\n"
     ]
    },
    {
     "name": "stdout",
     "output_type": "stream",
     "text": [
      "305/437 completed.\n",
      "Downloading data of NASDAQ: PSDO\n",
      "306/437 completed.\n",
      "Downloading data of NASDAQ: IPDN\n",
      "307/437 completed.\n",
      "Downloading data of NASDAQ: PRGS\n",
      "308/437 completed.\n",
      "Downloading data of NASDAQ: PFPT\n",
      "309/437 completed.\n",
      "Downloading data of NASDAQ: PTC\n",
      "310/437 completed.\n",
      "Downloading data of NASDAQ: QADA\n",
      "311/437 completed.\n",
      "Downloading data of NASDAQ: QADB\n",
      "312/437 completed.\n",
      "Downloading data of NASDAQ: QRVO\n",
      "313/437 completed.\n",
      "Downloading data of NASDAQ: QCOM\n",
      "314/437 completed.\n",
      "Downloading data of NASDAQ: QBAK\n",
      "315/437 completed.\n",
      "Downloading data of NASDAQ: QLYS\n",
      "316/437 completed.\n",
      "Downloading data of NASDAQ: QTNA\n",
      "317/437 completed.\n",
      "Downloading data of NASDAQ: QRHC\n",
      "318/437 completed.\n",
      "Downloading data of NASDAQ: QUIK\n",
      "319/437 completed.\n",
      "Downloading data of NASDAQ: QUMU\n",
      "320/437 completed.\n",
      "Downloading data of NASDAQ: RDCM\n",
      "321/437 completed.\n",
      "Downloading data of NASDAQ: RMBS\n",
      "322/437 completed.\n",
      "Downloading data of NASDAQ: RPD\n",
      "323/437 completed.\n",
      "Downloading data of NASDAQ: RCMT\n",
      "324/437 completed.\n",
      "Downloading data of NASDAQ: RNWK\n",
      "325/437 completed.\n",
      "Downloading data of NASDAQ: RP\n",
      "326/437 completed.\n",
      "Downloading data of NASDAQ: RDVT\n",
      "327/437 completed.\n",
      "Downloading data of NASDAQ: RCII\n",
      "328/437 completed.\n",
      "Downloading data of NASDAQ: RESN\n",
      "329/437 completed.\n",
      "Downloading data of NASDAQ: RBBN\n"
     ]
    },
    {
     "name": "stderr",
     "output_type": "stream",
     "text": [
      "Error 1100, reqId -1: Connectivity between IB and Trader Workstation has been lost.\n",
      "Error 1100, reqId -1: Connectivity between IB and Trader Workstation has been lost.\n",
      "Error 1100, reqId -1: Connectivity between IB and Trader Workstation has been lost.\n",
      "Error 1100, reqId -1: Connectivity between IB and Trader Workstation has been lost.\n",
      "Error 1100, reqId -1: Connectivity between IB and Trader Workstation has been lost.\n",
      "Error 1100, reqId -1: Connectivity between IB and Trader Workstation has been lost.\n",
      "Error 1100, reqId -1: Connectivity between IB and Trader Workstation has been lost.\n",
      "Error 1100, reqId -1: Connectivity between IB and Trader Workstation has been lost.\n",
      "Error 1102, reqId -1: Connectivity between IB and Trader Workstation has been restored - data maintained.\n"
     ]
    },
    {
     "name": "stdout",
     "output_type": "stream",
     "text": [
      "330/437 completed.\n",
      "Downloading data of NASDAQ: RBCN\n",
      "331/437 completed.\n",
      "Downloading data of NASDAQ: RMBL\n"
     ]
    },
    {
     "name": "stderr",
     "output_type": "stream",
     "text": [
      "Error 162, reqId 105: Historical Market Data Service error message:No market data permissions for AMEX, ARCA, NYSENAT, PSX STK, contract: Stock(symbol='RMBL', exchange='SMART', primaryExchange='NASDAQ', currency='USD')\n"
     ]
    },
    {
     "name": "stdout",
     "output_type": "stream",
     "text": [
      "Error: 332/437 download aborted.\n",
      "Downloading data of NASDAQ: SABR\n",
      "333/437 completed.\n",
      "Downloading data of NASDAQ: SFET\n"
     ]
    },
    {
     "name": "stderr",
     "output_type": "stream",
     "text": [
      "Error 162, reqId 107: Historical Market Data Service error message:No market data permissions for AMEX, ARCA, NYSENAT, PSX STK, contract: Stock(symbol='SFET', exchange='SMART', primaryExchange='NASDAQ', currency='USD')\n"
     ]
    },
    {
     "name": "stdout",
     "output_type": "stream",
     "text": [
      "Error: 334/437 download aborted.\n",
      "Downloading data of NASDAQ: SANM\n",
      "335/437 completed.\n",
      "Downloading data of NASDAQ: SPNS\n",
      "336/437 completed.\n",
      "Downloading data of NASDAQ: SCSC\n",
      "337/437 completed.\n",
      "Downloading data of NASDAQ: SGMS\n",
      "338/437 completed.\n",
      "Downloading data of NASDAQ: SEAC\n",
      "339/437 completed.\n",
      "Downloading data of NASDAQ: STX\n",
      "340/437 completed.\n",
      "Downloading data of NASDAQ: SCWX\n",
      "341/437 completed.\n",
      "Downloading data of NASDAQ: LEDS\n",
      "342/437 completed.\n",
      "Downloading data of NASDAQ: SMTC\n",
      "343/437 completed.\n",
      "Downloading data of NASDAQ: SGOC\n",
      "344/437 completed.\n",
      "Downloading data of NASDAQ: SHSP\n",
      "345/437 completed.\n",
      "Downloading data of NASDAQ: PIXY\n",
      "346/437 completed.\n",
      "Downloading data of NASDAQ: SSTI\n",
      "347/437 completed.\n",
      "Downloading data of NASDAQ: SWIR\n",
      "348/437 completed.\n",
      "Downloading data of NASDAQ: SIFY\n",
      "349/437 completed.\n",
      "Downloading data of NASDAQ: SGMA\n",
      "350/437 completed.\n",
      "Downloading data of NASDAQ: SILC\n",
      "351/437 completed.\n",
      "Downloading data of NASDAQ: SLAB\n",
      "352/437 completed.\n",
      "Downloading data of NASDAQ: SIMO\n",
      "353/437 completed.\n",
      "Downloading data of NASDAQ: SLP\n",
      "354/437 completed.\n",
      "Downloading data of NASDAQ: SINA\n",
      "355/437 completed.\n",
      "Downloading data of NASDAQ: SWKS\n",
      "356/437 completed.\n",
      "Downloading data of NASDAQ: SGH\n",
      "357/437 completed.\n",
      "Downloading data of NASDAQ: SMSI\n",
      "358/437 completed.\n",
      "Downloading data of NASDAQ: SMTX\n",
      "359/437 completed.\n",
      "Downloading data of NASDAQ: SRAX\n"
     ]
    },
    {
     "name": "stderr",
     "output_type": "stream",
     "text": [
      "Error 162, reqId 133: Historical Market Data Service error message:No market data permissions for AMEX, ARCA, NYSENAT, PSX STK, contract: Stock(symbol='SRAX', exchange='SMART', primaryExchange='NASDAQ', currency='USD')\n"
     ]
    },
    {
     "name": "stdout",
     "output_type": "stream",
     "text": [
      "Error: 360/437 download aborted.\n",
      "Downloading data of NASDAQ: SCKT\n"
     ]
    },
    {
     "name": "stderr",
     "output_type": "stream",
     "text": [
      "Error 162, reqId 134: Historical Market Data Service error message:No market data permissions for AMEX, ARCA, NYSENAT, PSX STK, contract: Stock(symbol='SCKT', exchange='SMART', primaryExchange='NASDAQ', currency='USD')\n"
     ]
    },
    {
     "name": "stdout",
     "output_type": "stream",
     "text": [
      "Error: 361/437 download aborted.\n",
      "Downloading data of NASDAQ: SOHU\n",
      "362/437 completed.\n",
      "Downloading data of NASDAQ: SEDG\n",
      "363/437 completed.\n",
      "Downloading data of NASDAQ: ANY\n",
      "364/437 completed.\n",
      "Downloading data of NASDAQ: SPI\n"
     ]
    },
    {
     "name": "stderr",
     "output_type": "stream",
     "text": [
      "Error 162, reqId 138: Historical Market Data Service error message:No market data permissions for AMEX, ARCA, NYSENAT, PSX STK, contract: Stock(symbol='SPI', exchange='SMART', primaryExchange='NASDAQ', currency='USD')\n"
     ]
    },
    {
     "name": "stdout",
     "output_type": "stream",
     "text": [
      "Error: 365/437 download aborted.\n",
      "Downloading data of NASDAQ: SPLK\n",
      "366/437 completed.\n",
      "Downloading data of NASDAQ: SPSC\n",
      "367/437 completed.\n",
      "Downloading data of NASDAQ: SSNC\n",
      "368/437 completed.\n",
      "Downloading data of NASDAQ: STAF\n"
     ]
    },
    {
     "name": "stderr",
     "output_type": "stream",
     "text": [
      "Error 162, reqId 142: Historical Market Data Service error message:No market data permissions for AMEX, ARCA, NYSENAT, PSX STK, contract: Stock(symbol='STAF', exchange='SMART', primaryExchange='NASDAQ', currency='USD')\n"
     ]
    },
    {
     "name": "stdout",
     "output_type": "stream",
     "text": [
      "Error: 369/437 download aborted.\n",
      "Downloading data of NASDAQ: STNE\n",
      "370/437 completed.\n",
      "Downloading data of NASDAQ: SSYS\n",
      "371/437 completed.\n",
      "Downloading data of NASDAQ: STRM\n",
      "372/437 completed.\n",
      "Downloading data of NASDAQ: WISA\n",
      "373/437 completed.\n",
      "Downloading data of NASDAQ: SPWR\n",
      "374/437 completed.\n",
      "Downloading data of NASDAQ: SPCB\n",
      "375/437 completed.\n",
      "Downloading data of NASDAQ: SCON\n",
      "376/437 completed.\n",
      "Downloading data of NASDAQ: SPRT\n",
      "377/437 completed.\n",
      "Downloading data of NASDAQ: SVMK\n",
      "378/437 completed.\n",
      "Downloading data of NASDAQ: SYKE\n",
      "379/437 completed.\n",
      "Downloading data of NASDAQ: SYMC\n",
      "380/437 completed.\n",
      "Downloading data of NASDAQ: SYNC\n",
      "381/437 completed.\n",
      "Downloading data of NASDAQ: SYNA\n",
      "382/437 completed.\n",
      "Downloading data of NASDAQ: SNCR\n"
     ]
    },
    {
     "name": "stderr",
     "output_type": "stream",
     "text": [
      "Error 162, reqId 156: Historical Market Data Service error message:No market data permissions for AMEX, ARCA, NYSENAT, PSX STK, contract: Stock(symbol='SNCR', exchange='SMART', primaryExchange='NASDAQ', currency='USD')\n"
     ]
    },
    {
     "name": "stdout",
     "output_type": "stream",
     "text": [
      "Error: 383/437 download aborted.\n",
      "Downloading data of NASDAQ: SNPS\n",
      "384/437 completed.\n",
      "Downloading data of NASDAQ: TTWO\n",
      "385/437 completed.\n",
      "Downloading data of NASDAQ: TLND\n",
      "386/437 completed.\n",
      "Downloading data of NASDAQ: TAOP\n",
      "387/437 completed.\n",
      "Downloading data of NASDAQ: TECD\n",
      "388/437 completed.\n",
      "Downloading data of NASDAQ: TCCO\n",
      "389/437 completed.\n",
      "Downloading data of NASDAQ: TENB\n",
      "390/437 completed.\n",
      "Downloading data of NASDAQ: TXN\n",
      "391/437 completed.\n",
      "Downloading data of NASDAQ: DSGX\n",
      "392/437 completed.\n",
      "Downloading data of NASDAQ: KEYW\n",
      "393/437 completed.\n",
      "Downloading data of NASDAQ: MIDD\n",
      "394/437 completed.\n",
      "Downloading data of NASDAQ: TSG\n"
     ]
    },
    {
     "name": "stderr",
     "output_type": "stream",
     "text": [
      "Error 162, reqId 168: Historical Market Data Service error message:No market data permissions for AMEX, ARCA, NYSENAT, PSX STK, contract: Stock(symbol='TSG', exchange='SMART', primaryExchange='NASDAQ', currency='USD')\n"
     ]
    },
    {
     "name": "stdout",
     "output_type": "stream",
     "text": [
      "Error: 395/437 download aborted.\n",
      "Downloading data of NASDAQ: TTD\n",
      "396/437 completed.\n",
      "Downloading data of NASDAQ: ULTI\n",
      "397/437 completed.\n",
      "Downloading data of NASDAQ: TISA\n",
      "398/437 completed.\n",
      "Downloading data of NASDAQ: TSEM\n",
      "399/437 completed.\n",
      "Downloading data of NASDAQ: TACT\n",
      "400/437 completed.\n",
      "Downloading data of NASDAQ: TZOO\n",
      "401/437 completed.\n",
      "Downloading data of NASDAQ: TRIP\n",
      "402/437 completed.\n",
      "Downloading data of NASDAQ: TRVG\n",
      "403/437 completed.\n",
      "Downloading data of NASDAQ: TRUE\n",
      "404/437 completed.\n",
      "Downloading data of NASDAQ: TSRI\n",
      "405/437 completed.\n",
      "Downloading data of NASDAQ: TTEC\n",
      "406/437 completed.\n",
      "Downloading data of NASDAQ: TTMI\n",
      "407/437 completed.\n",
      "Downloading data of NASDAQ: TCX\n",
      "408/437 completed.\n",
      "Downloading data of NASDAQ: TWIN\n",
      "409/437 completed.\n",
      "Downloading data of NASDAQ: UBNT\n",
      "410/437 completed.\n",
      "Downloading data of NASDAQ: UCTT\n",
      "411/437 completed.\n",
      "Downloading data of NASDAQ: UPLD\n",
      "412/437 completed.\n",
      "Downloading data of NASDAQ: UPWK\n",
      "413/437 completed.\n",
      "Downloading data of NASDAQ: VRNS\n",
      "414/437 completed.\n",
      "Downloading data of NASDAQ: VECO\n",
      "415/437 completed.\n",
      "Downloading data of NASDAQ: VRNT\n",
      "416/437 completed.\n",
      "Downloading data of NASDAQ: VRSN\n",
      "417/437 completed.\n",
      "Downloading data of NASDAQ: VRSK\n",
      "418/437 completed.\n",
      "Downloading data of NASDAQ: VERI\n",
      "419/437 completed.\n",
      "Downloading data of NASDAQ: VSAT\n",
      "420/437 completed.\n",
      "Downloading data of NASDAQ: VIAV\n",
      "421/437 completed.\n",
      "Downloading data of NASDAQ: VRTU\n",
      "422/437 completed.\n",
      "Downloading data of NASDAQ: VUZI\n"
     ]
    },
    {
     "name": "stderr",
     "output_type": "stream",
     "text": [
      "Error 162, reqId 196: Historical Market Data Service error message:No market data permissions for AMEX, ARCA, NYSENAT, PSX STK, contract: Stock(symbol='VUZI', exchange='SMART', primaryExchange='NASDAQ', currency='USD')\n"
     ]
    },
    {
     "name": "stdout",
     "output_type": "stream",
     "text": [
      "Error: 423/437 download aborted.\n",
      "Downloading data of NASDAQ: WSTG\n",
      "424/437 completed.\n",
      "Downloading data of NASDAQ: WB\n",
      "425/437 completed.\n",
      "Downloading data of NASDAQ: WDC\n",
      "426/437 completed.\n",
      "Downloading data of NASDAQ: WIX\n",
      "427/437 completed.\n",
      "Downloading data of NASDAQ: WDAY\n",
      "428/437 completed.\n",
      "Downloading data of NASDAQ: XLNX\n",
      "429/437 completed.\n",
      "Downloading data of NASDAQ: XPER\n",
      "430/437 completed.\n",
      "Downloading data of NASDAQ: XNET\n",
      "431/437 completed.\n",
      "Downloading data of NASDAQ: YNDX\n",
      "432/437 completed.\n",
      "Downloading data of NASDAQ: YY\n",
      "433/437 completed.\n",
      "Downloading data of NASDAQ: ZBRA\n",
      "434/437 completed.\n",
      "Downloading data of NASDAQ: ZIXI\n",
      "435/437 completed.\n",
      "Downloading data of NASDAQ: ZS\n",
      "436/437 completed.\n",
      "Downloading data of NASDAQ: ZNGA\n"
     ]
    }
   ],
   "source": [
    "for i in range(229, len(nasdaq_tech_names)):\n",
    "    stock_name = nasdaq_tech_names[i]\n",
    "    \n",
    "    print(\"Downloading data of NASDAQ: \" + stock_name)\n",
    "    \n",
    "    contract = Stock(stock_name, 'SMART', 'USD', primaryExchange=\"NASDAQ\")\n",
    "    bars = ib.reqHistoricalData(contract, endDateTime=\"20190105 04:55:00\", durationStr='4 Y',\n",
    "            barSizeSetting='5 mins', whatToShow='MIDPOINT', useRTH=True)\n",
    "    \n",
    "    # convert to pandas dataframe:\n",
    "    df = util.df(bars)\n",
    "    PATH_NAME = \"../ib-data/iex/\" + str(stock_name) + \".csv\"\n",
    "\n",
    "    if df is None:\n",
    "        print( \"Error: \" + str(i + 1) + \"/\" + str(len(nasdaq_tech_names)) + \" download aborted.\")\n",
    "    else:\n",
    "        df.to_csv(path_or_buf=PATH_NAME, index=False)\n",
    "        print( str(i + 1) + \"/\" + str(len(nasdaq_tech_names)) + \" completed.\")"
   ]
  },
  {
   "cell_type": "code",
   "execution_count": 5,
   "metadata": {
    "collapsed": true
   },
   "outputs": [],
   "source": [
    "contract = Stock('VXX', 'SMART', 'USD', primaryExchange=\"NYSE\")\n",
    "bars = ib.reqHistoricalData(contract, endDateTime=\"20190105 04:55:00\", durationStr='4 Y',\n",
    "        barSizeSetting='5 mins', whatToShow='MIDPOINT', useRTH=True)\n",
    "\n",
    "# convert to pandas dataframe:\n",
    "df = util.df(bars)\n",
    "PATH_NAME = \"../ib-data/nyse-vol/\" + str('VXX') + \".csv\"\n",
    "df.to_csv(path_or_buf=PATH_NAME, index=False)"
   ]
  },
  {
   "cell_type": "code",
   "execution_count": null,
   "metadata": {
    "collapsed": true
   },
   "outputs": [],
   "source": []
  }
 ],
 "metadata": {
  "kernelspec": {
   "display_name": "Python (traders_nlp)",
   "language": "python",
   "name": "traders_nlp"
  },
  "language_info": {
   "codemirror_mode": {
    "name": "ipython",
    "version": 3
   },
   "file_extension": ".py",
   "mimetype": "text/x-python",
   "name": "python",
   "nbconvert_exporter": "python",
   "pygments_lexer": "ipython3",
   "version": "3.6.3"
  },
  "varInspector": {
   "cols": {
    "lenName": 16,
    "lenType": 16,
    "lenVar": 40
   },
   "kernels_config": {
    "python": {
     "delete_cmd_postfix": "",
     "delete_cmd_prefix": "del ",
     "library": "var_list.py",
     "varRefreshCmd": "print(var_dic_list())"
    },
    "r": {
     "delete_cmd_postfix": ") ",
     "delete_cmd_prefix": "rm(",
     "library": "var_list.r",
     "varRefreshCmd": "cat(var_dic_list()) "
    }
   },
   "types_to_exclude": [
    "module",
    "function",
    "builtin_function_or_method",
    "instance",
    "_Feature"
   ],
   "window_display": false
  }
 },
 "nbformat": 4,
 "nbformat_minor": 2
}
